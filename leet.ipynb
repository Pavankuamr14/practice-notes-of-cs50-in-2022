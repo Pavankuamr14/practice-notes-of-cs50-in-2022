{
 "cells": [
  {
   "cell_type": "code",
   "execution_count": null,
   "id": "5fb0e94b",
   "metadata": {},
   "outputs": [],
   "source": [
    "def main():\n",
    "    try:\n",
    "        user_input=input().title()\n",
    "#         us=user_input.\n",
    "#         print(f\"hi,{user_input}\")\n",
    "    except EOFError:\n",
    "        pass\n",
    "    print(f\"Total: ${count}\")\n",
    "def items(user_input):\n",
    "#     count=0\n",
    "    found=True\n",
    "    items={\n",
    "    \"Baja Taco\": 4.00,\n",
    "    \"Burrito\": 7.50,\n",
    "    \"Bowl\": 8.50,\n",
    "    \"Nachos\": 11.00,\n",
    "    \"Quesadilla\": 8.50,\n",
    "    \"Super Burrito\": 8.50,\n",
    "    \"Super Quesadilla\": 9.50,\n",
    "    \"Taco\": 3.00,\n",
    "    \"Tortilla Salad\": 8.00}\n",
    "    while True:\n",
    "         user_input in items:\n",
    "            count+=items[user_input]\n",
    "        else:\n",
    "            pass\n",
    "    return count\n",
    "            \n",
    "    \n",
    "main()       "
   ]
  },
  {
   "cell_type": "code",
   "execution_count": null,
   "id": "fdded508",
   "metadata": {},
   "outputs": [],
   "source": []
  },
  {
   "cell_type": "code",
   "execution_count": 12,
   "id": "8fd546d1",
   "metadata": {},
   "outputs": [
    {
     "name": "stdout",
     "output_type": "stream",
     "text": [
      "dka\n",
      "da\n"
     ]
    },
    {
     "ename": "NameError",
     "evalue": "name 'count' is not defined",
     "output_type": "error",
     "traceback": [
      "\u001b[1;31m---------------------------------------------------------------------------\u001b[0m",
      "\u001b[1;31mNameError\u001b[0m                                 Traceback (most recent call last)",
      "Input \u001b[1;32mIn [12]\u001b[0m, in \u001b[0;36m<cell line: 23>\u001b[1;34m()\u001b[0m\n\u001b[0;32m     19\u001b[0m             \u001b[38;5;28;01mpass\u001b[39;00m\n\u001b[0;32m     20\u001b[0m     \u001b[38;5;28;01mreturn\u001b[39;00m count\n\u001b[1;32m---> 23\u001b[0m \u001b[43mmain\u001b[49m\u001b[43m(\u001b[49m\u001b[43m)\u001b[49m\n",
      "Input \u001b[1;32mIn [11]\u001b[0m, in \u001b[0;36mmain\u001b[1;34m()\u001b[0m\n\u001b[0;32m      6\u001b[0m \u001b[38;5;28;01mexcept\u001b[39;00m \u001b[38;5;167;01mEOFError\u001b[39;00m:\n\u001b[0;32m      7\u001b[0m     \u001b[38;5;28;01mpass\u001b[39;00m\n\u001b[1;32m----> 8\u001b[0m \u001b[38;5;28mprint\u001b[39m(\u001b[38;5;124mf\u001b[39m\u001b[38;5;124m\"\u001b[39m\u001b[38;5;124mTotal: $\u001b[39m\u001b[38;5;132;01m{\u001b[39;00mcount\u001b[38;5;132;01m}\u001b[39;00m\u001b[38;5;124m\"\u001b[39m)\n",
      "\u001b[1;31mNameError\u001b[0m: name 'count' is not defined"
     ]
    }
   ],
   "source": [
    "user_input=input()\n",
    "def items(user_input):\n",
    "    count=0\n",
    "    found=True\n",
    "    items={\n",
    "    \"Baja Taco\": 4.00,\n",
    "    \"Burrito\": 7.50,\n",
    "    \"Bowl\": 8.50,\n",
    "    \"Nachos\": 11.00,\n",
    "    \"Quesadilla\": 8.50,\n",
    "    \"Super Burrito\": 8.50,\n",
    "    \"Super Quesadilla\": 9.50,\n",
    "    \"Taco\": 3.00,\n",
    "    \"Tortilla Salad\": 8.00}\n",
    "    while True:\n",
    "        if user_input in items:\n",
    "            count+=items[user_input]\n",
    "        else:\n",
    "            pass\n",
    "    return count\n",
    "            \n",
    "    \n",
    "main()"
   ]
  },
  {
   "cell_type": "code",
   "execution_count": null,
   "id": "80b669d0",
   "metadata": {},
   "outputs": [],
   "source": []
  },
  {
   "cell_type": "code",
   "execution_count": null,
   "id": "d4a6e40a",
   "metadata": {},
   "outputs": [],
   "source": []
  },
  {
   "cell_type": "code",
   "execution_count": null,
   "id": "c371a326",
   "metadata": {},
   "outputs": [],
   "source": []
  },
  {
   "cell_type": "code",
   "execution_count": null,
   "id": "e50ed9c9",
   "metadata": {},
   "outputs": [],
   "source": []
  },
  {
   "cell_type": "code",
   "execution_count": 4,
   "id": "10d51e54",
   "metadata": {},
   "outputs": [
    {
     "name": "stdout",
     "output_type": "stream",
     "text": [
      "What 's n?0\n",
      "What 's n?-8\n",
      "What 's n?9\n",
      "meow\n",
      "meow\n",
      "meow\n",
      "meow\n",
      "meow\n",
      "meow\n",
      "meow\n",
      "meow\n",
      "meow\n"
     ]
    }
   ],
   "source": [
    "def main():\n",
    "    meow(get_number())\n",
    "def get_number():\n",
    "    while True:\n",
    "        n=int(input(\"What 's n?\"))\n",
    "        if n>1:\n",
    "            return n\n",
    "def meow(n):\n",
    "    for _ in range(n):\n",
    "        print(\"meow\")\n",
    "main()"
   ]
  },
  {
   "cell_type": "code",
   "execution_count": null,
   "id": "ade6bb16",
   "metadata": {},
   "outputs": [],
   "source": [
    "Found=True\n",
    "x,y=map(int, input(\"Fraction: \").strip().split(\"/\"))\n",
    "while Found==True:\n",
    "#     x,y=map(int, input(\"Fraction: \").strip().split(\"/\"))\n",
    "    try:\n",
    "        per=x/y\n",
    "        perc=per*100\n",
    "        if perc>=99:\n",
    "            print(\"F\")\n",
    "            Found=False\n",
    "        elif perc<=1:\n",
    "            print(\"E\")\n",
    "            Found=False\n",
    "        else:\n",
    "            print(f\"{int(perc)}%\")\n",
    "            Found=False\n",
    "    \n",
    "    except ZeroDivisionError:\n",
    "\n",
    "            pass\n",
    "    else:\n",
    "        break\n",
    "        \n",
    "        \n",
    "    "
   ]
  },
  {
   "cell_type": "code",
   "execution_count": 5,
   "id": "46c8928c",
   "metadata": {},
   "outputs": [
    {
     "ename": "NameError",
     "evalue": "name 'per' is not defined",
     "output_type": "error",
     "traceback": [
      "\u001b[1;31m---------------------------------------------------------------------------\u001b[0m",
      "\u001b[1;31mNameError\u001b[0m                                 Traceback (most recent call last)",
      "Input \u001b[1;32mIn [5]\u001b[0m, in \u001b[0;36m<cell line: 46>\u001b[1;34m()\u001b[0m\n\u001b[0;32m     42\u001b[0m             \u001b[38;5;28;01mbreak\u001b[39;00m\n\u001b[0;32m     43\u001b[0m     \u001b[38;5;28;01mreturn\u001b[39;00m x,y\n\u001b[1;32m---> 46\u001b[0m \u001b[43mmain\u001b[49m\u001b[43m(\u001b[49m\u001b[43m)\u001b[49m\n",
      "Input \u001b[1;32mIn [5]\u001b[0m, in \u001b[0;36mmain\u001b[1;34m()\u001b[0m\n\u001b[0;32m      1\u001b[0m \u001b[38;5;28;01mdef\u001b[39;00m \u001b[38;5;21mmain\u001b[39m():\n\u001b[0;32m      2\u001b[0m \u001b[38;5;66;03m#     x,y = get_int()\u001b[39;00m\n\u001b[0;32m      3\u001b[0m \u001b[38;5;66;03m#     perc=per*100\u001b[39;00m\n\u001b[1;32m   (...)\u001b[0m\n\u001b[0;32m     11\u001b[0m \u001b[38;5;66;03m#         print(f\"{int(perc)}%\")\u001b[39;00m\n\u001b[0;32m     12\u001b[0m \u001b[38;5;66;03m# #         Found=False\u001b[39;00m\n\u001b[1;32m---> 13\u001b[0m     zeroexpect(get_int(\u001b[43mper\u001b[49m))\n\u001b[0;32m     15\u001b[0m     perc\u001b[38;5;241m=\u001b[39mper\u001b[38;5;241m*\u001b[39m\u001b[38;5;241m100\u001b[39m\n\u001b[0;32m     16\u001b[0m     \u001b[38;5;28;01mif\u001b[39;00m perc\u001b[38;5;241m>\u001b[39m\u001b[38;5;241m=\u001b[39m\u001b[38;5;241m99\u001b[39m:\n",
      "\u001b[1;31mNameError\u001b[0m: name 'per' is not defined"
     ]
    }
   ],
   "source": [
    "def main():\n",
    "#     x,y = get_int()\n",
    "#     perc=per*100\n",
    "#     if perc>=99:\n",
    "#         print(\"F\")\n",
    "# #         Found=False\n",
    "#     elif perc<=1:\n",
    "#         print(\"E\")\n",
    "# #         Found=False\n",
    "#     else:\n",
    "#         print(f\"{int(perc)}%\")\n",
    "# #         Found=False\n",
    "    zeroexpect(get_int(per))\n",
    "    \n",
    "    perc=per*100\n",
    "    if perc>=99:\n",
    "        print(\"F\")\n",
    "#         Found=False\n",
    "    elif perc<=1:\n",
    "        print(\"E\")\n",
    "#         Found=False\n",
    "    else:\n",
    "        print(f\"{int(perc)}%\")\n",
    "#         Found=False\n",
    "def zeroexpect(x,y):\n",
    "    while True:\n",
    "        try:\n",
    "            per=x/y\n",
    "        except ZeroDivisionError:\n",
    "            pass\n",
    "        else:\n",
    "            break\n",
    "    return per\n",
    "def get_int():\n",
    "    while True:\n",
    "        try:\n",
    "            x,y = map(int,input(\"Fraction: \").strip().split(\"/\"))\n",
    "        except ValueError:\n",
    "            pass\n",
    "        \n",
    "        else:\n",
    "            break\n",
    "    return x,y\n",
    "\n",
    "\n",
    "main()"
   ]
  },
  {
   "cell_type": "code",
   "execution_count": 1,
   "id": "2130c04a",
   "metadata": {},
   "outputs": [
    {
     "name": "stdout",
     "output_type": "stream",
     "text": [
      "Fraction : zx\n",
      "Fraction : xzc\n",
      "Fraction : 2/\n",
      "Fraction : 33/32\n",
      "F\n"
     ]
    }
   ],
   "source": [
    "def main():\n",
    "    x, y = get_int()\n",
    "    perc = calculate_percentage(x, y)\n",
    "\n",
    "    if perc >= 99:\n",
    "        print(\"F\")\n",
    "    elif perc <= 1:\n",
    "        print(\"E\")\n",
    "    else:\n",
    "        print(f\"{int(perc)}%\")\n",
    "\n",
    "def zeroexpect(x, y):\n",
    "    while True:\n",
    "        try:\n",
    "            per = x / y\n",
    "        except ZeroDivisionError:\n",
    "            pass\n",
    "#             print(\"Error: Division by zero. Please enter a valid denominator.\")\n",
    "            x, y = get_int()\n",
    "        else:\n",
    "            break\n",
    "    return per\n",
    "\n",
    "def get_int():\n",
    "    while True:\n",
    "        try:\n",
    "            x, y = map(int, input(\"Fraction : \").strip().split(\"/\"))\n",
    "            if y == 0:\n",
    "                raise ZeroDivisionError\n",
    "        except ValueError:\n",
    "            pass\n",
    "        except ZeroDivisionError:\n",
    "            pass\n",
    "        else:\n",
    "            break\n",
    "    return x, y\n",
    "\n",
    "def calculate_percentage(x, y):\n",
    "    return (x / y) * 100\n",
    "\n",
    "if __name__ == \"__main__\":\n",
    "    main()\n"
   ]
  },
  {
   "cell_type": "code",
   "execution_count": 6,
   "id": "9fbb04b2",
   "metadata": {},
   "outputs": [
    {
     "name": "stdout",
     "output_type": "stream",
     "text": [
      "Fraction: wdas\n",
      "Fraction: ew\n",
      "Fraction: 23/32\n",
      "72%\n"
     ]
    }
   ],
   "source": [
    "def main():\n",
    "    x, y = get_int()\n",
    "    perc = calculate_percentage(x, y)\n",
    "    \n",
    "    if perc >= 99:\n",
    "        print(\"F\")\n",
    "    elif perc <= 1:\n",
    "        print(\"E\")\n",
    "    else:\n",
    "        print(f\"{round(perc)}%\")\n",
    "\n",
    "def zeroexpect(x, y):\n",
    "    while True:\n",
    "        try:\n",
    "            per = x / y\n",
    "        except ZeroDivisionError:\n",
    "            pass\n",
    "            x, y = get_int()\n",
    "        else:\n",
    "            break\n",
    "    return per\n",
    "\n",
    "def get_int():\n",
    "    while True:\n",
    "        try:\n",
    "            x, y = map(int, input(\"Fraction: \").strip().split(\"/\"))\n",
    "            if y == 0 or x > y:\n",
    "                raise ValueError\n",
    "        except ValueError:\n",
    "            pass\n",
    "            \n",
    "        else:\n",
    "            break\n",
    "    return x, y\n",
    "\n",
    "def calculate_percentage(x, y):\n",
    "    return (x / y) * 100\n",
    "\n",
    "# if __name__ == \"__main__\":\n",
    "main()\n"
   ]
  },
  {
   "cell_type": "code",
   "execution_count": 23,
   "id": "0c10b599",
   "metadata": {},
   "outputs": [
    {
     "name": "stdout",
     "output_type": "stream",
     "text": [
      "0 Apple\n",
      "1 ice cream\n",
      "2 ba\n"
     ]
    }
   ],
   "source": [
    "def main():\n",
    "    var=lst\n",
    "    for i in range(len(var)):\n",
    "        print(f\"{i} {var[i]}\")\n",
    "    \n",
    "def us():\n",
    "    while True:\n",
    "        lst=[]\n",
    "        try:\n",
    "            user=input()\n",
    "            if user.upper() not in lst:\n",
    "                lst.append(user)\n",
    "        except EOFError:\n",
    "            break\n",
    "    return lst\n",
    "            \n",
    "            \n",
    "    \n",
    "    \n",
    "main()"
   ]
  },
  {
   "cell_type": "code",
   "execution_count": 21,
   "id": "b3c44946",
   "metadata": {},
   "outputs": [
    {
     "ename": "NameError",
     "evalue": "name 'asst' is not defined",
     "output_type": "error",
     "traceback": [
      "\u001b[1;31m---------------------------------------------------------------------------\u001b[0m",
      "\u001b[1;31mNameError\u001b[0m                                 Traceback (most recent call last)",
      "Input \u001b[1;32mIn [21]\u001b[0m, in \u001b[0;36m<cell line: 2>\u001b[1;34m()\u001b[0m\n\u001b[0;32m      1\u001b[0m pst\u001b[38;5;241m=\u001b[39m[\u001b[38;5;124m\"\u001b[39m\u001b[38;5;124mApple\u001b[39m\u001b[38;5;124m\"\u001b[39m,\u001b[38;5;124m\"\u001b[39m\u001b[38;5;124mice cream\u001b[39m\u001b[38;5;124m\"\u001b[39m,\u001b[38;5;124m\"\u001b[39m\u001b[38;5;124mba\u001b[39m\u001b[38;5;124m\"\u001b[39m]\n\u001b[1;32m----> 2\u001b[0m var\u001b[38;5;241m=\u001b[39m\u001b[43masst\u001b[49m\n\u001b[0;32m      3\u001b[0m var\n",
      "\u001b[1;31mNameError\u001b[0m: name 'asst' is not defined"
     ]
    }
   ],
   "source": [
    "pst=[\"Apple\",\"ice cream\",\"ba\"]\n",
    "var=asst\n",
    "var"
   ]
  },
  {
   "cell_type": "code",
   "execution_count": null,
   "id": "bdad77d9",
   "metadata": {},
   "outputs": [],
   "source": []
  },
  {
   "cell_type": "code",
   "execution_count": null,
   "id": "06afcaab",
   "metadata": {},
   "outputs": [],
   "source": []
  },
  {
   "cell_type": "code",
   "execution_count": 29,
   "id": "1d19298c",
   "metadata": {},
   "outputs": [
    {
     "ename": "KeyboardInterrupt",
     "evalue": "Interrupted by user",
     "output_type": "error",
     "traceback": [
      "\u001b[1;31m---------------------------------------------------------------------------\u001b[0m",
      "\u001b[1;31mKeyboardInterrupt\u001b[0m                         Traceback (most recent call last)",
      "Input \u001b[1;32mIn [29]\u001b[0m, in \u001b[0;36m<cell line: 1>\u001b[1;34m()\u001b[0m\n\u001b[1;32m----> 1\u001b[0m x,y\u001b[38;5;241m=\u001b[39m\u001b[38;5;28mmap\u001b[39m(\u001b[38;5;28mint\u001b[39m, \u001b[38;5;28;43minput\u001b[39;49m\u001b[43m(\u001b[49m\u001b[38;5;124;43m\"\u001b[39;49m\u001b[38;5;124;43mFraction: \u001b[39;49m\u001b[38;5;124;43m\"\u001b[39;49m\u001b[43m)\u001b[49m\u001b[38;5;241m.\u001b[39mstrip()\u001b[38;5;241m.\u001b[39msplit(\u001b[38;5;124m\"\u001b[39m\u001b[38;5;124m/\u001b[39m\u001b[38;5;124m\"\u001b[39m))\n\u001b[0;32m      2\u001b[0m \u001b[38;5;28;01mtry\u001b[39;00m:\n\u001b[0;32m      3\u001b[0m     per\u001b[38;5;241m=\u001b[39mx\u001b[38;5;241m/\u001b[39my\n",
      "File \u001b[1;32m~\\anaconda3\\lib\\site-packages\\ipykernel\\kernelbase.py:1075\u001b[0m, in \u001b[0;36mKernel.raw_input\u001b[1;34m(self, prompt)\u001b[0m\n\u001b[0;32m   1071\u001b[0m \u001b[38;5;28;01mif\u001b[39;00m \u001b[38;5;129;01mnot\u001b[39;00m \u001b[38;5;28mself\u001b[39m\u001b[38;5;241m.\u001b[39m_allow_stdin:\n\u001b[0;32m   1072\u001b[0m     \u001b[38;5;28;01mraise\u001b[39;00m StdinNotImplementedError(\n\u001b[0;32m   1073\u001b[0m         \u001b[38;5;124m\"\u001b[39m\u001b[38;5;124mraw_input was called, but this frontend does not support input requests.\u001b[39m\u001b[38;5;124m\"\u001b[39m\n\u001b[0;32m   1074\u001b[0m     )\n\u001b[1;32m-> 1075\u001b[0m \u001b[38;5;28;01mreturn\u001b[39;00m \u001b[38;5;28;43mself\u001b[39;49m\u001b[38;5;241;43m.\u001b[39;49m\u001b[43m_input_request\u001b[49m\u001b[43m(\u001b[49m\n\u001b[0;32m   1076\u001b[0m \u001b[43m    \u001b[49m\u001b[38;5;28;43mstr\u001b[39;49m\u001b[43m(\u001b[49m\u001b[43mprompt\u001b[49m\u001b[43m)\u001b[49m\u001b[43m,\u001b[49m\n\u001b[0;32m   1077\u001b[0m \u001b[43m    \u001b[49m\u001b[38;5;28;43mself\u001b[39;49m\u001b[38;5;241;43m.\u001b[39;49m\u001b[43m_parent_ident\u001b[49m\u001b[43m[\u001b[49m\u001b[38;5;124;43m\"\u001b[39;49m\u001b[38;5;124;43mshell\u001b[39;49m\u001b[38;5;124;43m\"\u001b[39;49m\u001b[43m]\u001b[49m\u001b[43m,\u001b[49m\n\u001b[0;32m   1078\u001b[0m \u001b[43m    \u001b[49m\u001b[38;5;28;43mself\u001b[39;49m\u001b[38;5;241;43m.\u001b[39;49m\u001b[43mget_parent\u001b[49m\u001b[43m(\u001b[49m\u001b[38;5;124;43m\"\u001b[39;49m\u001b[38;5;124;43mshell\u001b[39;49m\u001b[38;5;124;43m\"\u001b[39;49m\u001b[43m)\u001b[49m\u001b[43m,\u001b[49m\n\u001b[0;32m   1079\u001b[0m \u001b[43m    \u001b[49m\u001b[43mpassword\u001b[49m\u001b[38;5;241;43m=\u001b[39;49m\u001b[38;5;28;43;01mFalse\u001b[39;49;00m\u001b[43m,\u001b[49m\n\u001b[0;32m   1080\u001b[0m \u001b[43m\u001b[49m\u001b[43m)\u001b[49m\n",
      "File \u001b[1;32m~\\anaconda3\\lib\\site-packages\\ipykernel\\kernelbase.py:1120\u001b[0m, in \u001b[0;36mKernel._input_request\u001b[1;34m(self, prompt, ident, parent, password)\u001b[0m\n\u001b[0;32m   1117\u001b[0m             \u001b[38;5;28;01mbreak\u001b[39;00m\n\u001b[0;32m   1118\u001b[0m \u001b[38;5;28;01mexcept\u001b[39;00m \u001b[38;5;167;01mKeyboardInterrupt\u001b[39;00m:\n\u001b[0;32m   1119\u001b[0m     \u001b[38;5;66;03m# re-raise KeyboardInterrupt, to truncate traceback\u001b[39;00m\n\u001b[1;32m-> 1120\u001b[0m     \u001b[38;5;28;01mraise\u001b[39;00m \u001b[38;5;167;01mKeyboardInterrupt\u001b[39;00m(\u001b[38;5;124m\"\u001b[39m\u001b[38;5;124mInterrupted by user\u001b[39m\u001b[38;5;124m\"\u001b[39m) \u001b[38;5;28;01mfrom\u001b[39;00m \u001b[38;5;28mNone\u001b[39m\n\u001b[0;32m   1121\u001b[0m \u001b[38;5;28;01mexcept\u001b[39;00m \u001b[38;5;167;01mException\u001b[39;00m:\n\u001b[0;32m   1122\u001b[0m     \u001b[38;5;28mself\u001b[39m\u001b[38;5;241m.\u001b[39mlog\u001b[38;5;241m.\u001b[39mwarning(\u001b[38;5;124m\"\u001b[39m\u001b[38;5;124mInvalid Message:\u001b[39m\u001b[38;5;124m\"\u001b[39m, exc_info\u001b[38;5;241m=\u001b[39m\u001b[38;5;28;01mTrue\u001b[39;00m)\n",
      "\u001b[1;31mKeyboardInterrupt\u001b[0m: Interrupted by user"
     ]
    }
   ],
   "source": [
    "x,y=map(int, input(\"Fraction: \").strip().split(\"/\"))\n",
    "try:\n",
    "    per=x/y\n",
    "    perc=per*100\n",
    "    if perc>=99:\n",
    "        print(\"F\")\n",
    "#         Found=False\n",
    "    elif perc<=1:\n",
    "        print(\"E\")\n",
    "#         Found=False\n",
    "    else:\n",
    "        print(f\"{int(perc)}%\")\n",
    "#         Found=False\n",
    "    \n",
    "except ZeroDivisionError:\n",
    "        continue"
   ]
  },
  {
   "cell_type": "code",
   "execution_count": 1,
   "id": "aa6c9483",
   "metadata": {},
   "outputs": [
    {
     "name": "stdout",
     "output_type": "stream",
     "text": [
      "AMOUNT DUE :50\n",
      "Insert coin :10\n",
      "AMOUNT DUE :50\n"
     ]
    }
   ],
   "source": [
    "def main():\n",
    "    price=50\n",
    "    print(f\"AMOUNT DUE :{price}\")\n",
    "    us=int(input(\"Insert coin :\"))\n",
    "#     insert_coin(us,price)\n",
    "    if price==0:\n",
    "        print(\"Change OWed: 0\")\n",
    "    else:\n",
    "        print(f\"AMOUNT DUE :{price}\")\n",
    "        insert_coin(us,price)\n",
    "#     us=int(input(\"Insert coin :\"))\n",
    "def insert_coin(us,price):\n",
    "    while True:\n",
    "        lst=[5,10,25]\n",
    "        if us in lst:\n",
    "            price-=us\n",
    "            return price\n",
    "\n",
    "main()       \n",
    "    "
   ]
  },
  {
   "cell_type": "code",
   "execution_count": null,
   "id": "91a3810e",
   "metadata": {},
   "outputs": [],
   "source": []
  },
  {
   "cell_type": "code",
   "execution_count": 11,
   "id": "08720921",
   "metadata": {},
   "outputs": [
    {
     "name": "stdout",
     "output_type": "stream",
     "text": [
      "What's n? 4\n",
      "meow\n",
      "meow\n",
      "meow\n",
      "meow\n"
     ]
    }
   ],
   "source": [
    "while True:\n",
    "    n= int(input(\"What's n? \"))\n",
    "    if n<=0:\n",
    "        continue\n",
    "    else:\n",
    "        break\n",
    "for _ in range(n):\n",
    "    print(\"meow\")\n",
    "    \n"
   ]
  },
  {
   "cell_type": "code",
   "execution_count": null,
   "id": "00ed54bf",
   "metadata": {},
   "outputs": [],
   "source": []
  },
  {
   "cell_type": "code",
   "execution_count": null,
   "id": "b78b3dbe",
   "metadata": {},
   "outputs": [],
   "source": []
  },
  {
   "cell_type": "code",
   "execution_count": null,
   "id": "c481c0d6",
   "metadata": {},
   "outputs": [],
   "source": []
  },
  {
   "cell_type": "code",
   "execution_count": null,
   "id": "1aa1ff35",
   "metadata": {},
   "outputs": [],
   "source": []
  },
  {
   "cell_type": "code",
   "execution_count": null,
   "id": "407e7330",
   "metadata": {},
   "outputs": [],
   "source": []
  },
  {
   "cell_type": "code",
   "execution_count": 13,
   "id": "6108dd37",
   "metadata": {},
   "outputs": [
    {
     "name": "stdout",
     "output_type": "stream",
     "text": [
      "34\n",
      "[0]\n"
     ]
    }
   ],
   "source": [
    "n=int(input())\n",
    "dic={}\n",
    "rsl=[]\n",
    "count=0\n",
    "for i in range(n):\n",
    "    binary=bin(i)\n",
    "    dic={**dic, i:binary}\n",
    "# dic\n",
    "lst=[]\n",
    "lst.append(dic.values())\n",
    "# lst\n",
    "for j in lst:\n",
    "    if \"1\" in j:\n",
    "        count+=1\n",
    "        rsl.append(count)\n",
    "    rsl.append(count)\n",
    "print(rsl)    "
   ]
  },
  {
   "cell_type": "code",
   "execution_count": 7,
   "id": "0bc55881",
   "metadata": {},
   "outputs": [
    {
     "name": "stdout",
     "output_type": "stream",
     "text": [
      "Amount Due: 50\n",
      "Insert Coin: 25\n"
     ]
    }
   ],
   "source": [
    "def main():\n",
    "    price=50\n",
    "    print(f\"Amount Due: {price}\")\n",
    "    us=int(input(\"Insert Coin: \"))\n",
    "    if check(us):\n",
    "        print(f'Change Owed{0}')\n",
    "    else:\n",
    "        return check(us)\n",
    "def check(us):\n",
    "    lst=[5,10,25]\n",
    "    if us in lst:\n",
    "        remain=50-us\n",
    "    if remain==0:\n",
    "        return us\n",
    "main()          \n",
    "    "
   ]
  },
  {
   "cell_type": "code",
   "execution_count": 11,
   "id": "a20da3a9",
   "metadata": {},
   "outputs": [
    {
     "ename": "SyntaxError",
     "evalue": "invalid syntax (2753225218.py, line 2)",
     "output_type": "error",
     "traceback": [
      "\u001b[1;36m  Input \u001b[1;32mIn [11]\u001b[1;36m\u001b[0m\n\u001b[1;33m    x,y=map(int(i) for i in range(len(us)) us.split('/'))\u001b[0m\n\u001b[1;37m                                           ^\u001b[0m\n\u001b[1;31mSyntaxError\u001b[0m\u001b[1;31m:\u001b[0m invalid syntax\n"
     ]
    }
   ],
   "source": [
    "us=input(\"Fraction: \")\n",
    "x,y=map(int(i) for i in range(len(us)) us.split('/'))\n",
    "print(x,y)"
   ]
  },
  {
   "cell_type": "code",
   "execution_count": 52,
   "id": "8e236dd1",
   "metadata": {},
   "outputs": [
    {
     "name": "stdout",
     "output_type": "stream",
     "text": [
      "0/1\n",
      "E\n"
     ]
    }
   ],
   "source": [
    "x,y=map(int,input().strip().split('/'))\n",
    "try:\n",
    "    if x==y and x!=0 and y!=0:\n",
    "        print('F')\n",
    "    elif x==0:\n",
    "        print(\"E\")\n",
    "except:\n",
    "    pa\n",
    "else:\n",
    "    pass\n",
    "\n",
    "    \n",
    "else:\n",
    "    rs=x/y\n",
    "    rs_num=rs*100\n",
    "    if rs_num>71 and rs_num<=75:\n",
    "        print(\"75%\")\n",
    "    elif rs_num>51 and rs_num<=55:\n",
    "        print(\"50%\")\n",
    "    elif rs_num>21 and rs_num<=25:\n",
    "        print(\"25%\")\n",
    "            \n",
    "#     if rs==0.75 or rs>0.71 and rs<0.75:\n",
    "#         print(\"75%\")\n",
    "#     elif rs==0.25 or rs>0.21 and rs<0.25:\n",
    "#         print(\"75%\")\n",
    "#     elif rs==0.5 or rs>0.1 and rs<0.5:\n",
    "#         print(\"50%\")"
   ]
  },
  {
   "cell_type": "code",
   "execution_count": 37,
   "id": "6c349788",
   "metadata": {},
   "outputs": [
    {
     "data": {
      "text/plain": [
       "0"
      ]
     },
     "execution_count": 37,
     "metadata": {},
     "output_type": "execute_result"
    }
   ],
   "source": [
    "round(1/4)"
   ]
  },
  {
   "cell_type": "markdown",
   "id": "6ae70bfa",
   "metadata": {},
   "source": [
    "5/4"
   ]
  },
  {
   "cell_type": "code",
   "execution_count": 23,
   "id": "d0955708",
   "metadata": {},
   "outputs": [
    {
     "data": {
      "text/plain": [
       "1.25"
      ]
     },
     "execution_count": 23,
     "metadata": {},
     "output_type": "execute_result"
    }
   ],
   "source": [
    "5/4"
   ]
  },
  {
   "cell_type": "code",
   "execution_count": 14,
   "id": "36783bcb",
   "metadata": {},
   "outputs": [
    {
     "name": "stdout",
     "output_type": "stream",
     "text": [
      "What's is X45\n"
     ]
    }
   ],
   "source": [
    "try:\n",
    "    x=int(input(\"What's is X\"))\n",
    "except ValueError:\n",
    "    print(\"x is not integer\")"
   ]
  },
  {
   "cell_type": "code",
   "execution_count": 19,
   "id": "bebb1aec",
   "metadata": {},
   "outputs": [
    {
     "name": "stdout",
     "output_type": "stream",
     "text": [
      "What's is X5.32\n",
      "x is not integer\n"
     ]
    }
   ],
   "source": [
    "try:\n",
    "    x=int(input(\"What's is X\"))\n",
    "except ValueError:\n",
    "    print(\"x is not integer\")\n",
    "else:\n",
    "    print(f\"x is {x}\")"
   ]
  },
  {
   "cell_type": "code",
   "execution_count": 61,
   "id": "c469b4d4",
   "metadata": {},
   "outputs": [
    {
     "name": "stdout",
     "output_type": "stream",
     "text": [
      "Amount Due: 50\n",
      "Insert Coin: 25\n",
      "Amount due: 25 \n",
      "Insert Coin: 10\n",
      "Amount due: 15 \n",
      "Insert Coin: 35\n",
      "Amonnt due: 15 \n",
      "Insert Coin: 25\n",
      "change Owed: 10\n"
     ]
    }
   ],
   "source": [
    "\n",
    "price = 50\n",
    "amount_inserted = 0\n",
    "\n",
    "\n",
    "denominations = [25, 10, 5]\n",
    "\n",
    "\n",
    "print(\"Amount Due: 50\")\n",
    "while amount_inserted < price:\n",
    "    coin = int(input(\"Insert Coin: \"))\n",
    "    if coin in denominations:\n",
    "        amount_inserted += coin\n",
    "        if price-amount_inserted<=0:\n",
    "            break\n",
    "        print(f\"Amount due: {price - amount_inserted} \")\n",
    "#             continue\n",
    "    else:\n",
    "        print(f\"Amonnt due: {price- amount_inserted} \")\n",
    "change = amount_inserted-price\n",
    "if change==0:\n",
    "    print(\"change Owed: 0\")\n",
    "elif change in denominations:\n",
    "    print(f\"change Owed: {change}\")\n"
   ]
  },
  {
   "cell_type": "code",
   "execution_count": 56,
   "id": "2d21c9ea",
   "metadata": {},
   "outputs": [
    {
     "name": "stdout",
     "output_type": "stream",
     "text": [
      "Amount Due: 50\n",
      "Insert Coin: 55\n",
      "Amount Due: 50\n",
      "Insert Coin: 25\n",
      "Amount Due: 25\n",
      "Insert Coin: 10\n",
      "Amount Due: 15\n",
      "Insert Coin: 25\n",
      "Change Owed: 10\n"
     ]
    }
   ],
   "source": [
    "price = 50\n",
    "amount_inserted = 0\n",
    "\n",
    "denominations = [25, 10, 5]\n",
    "\n",
    "print(f\"Amount Due: {price}\")\n",
    "while amount_inserted < price:\n",
    "    coin = int(input(\"Insert Coin: \"))\n",
    "    if coin in denominations:\n",
    "        amount_inserted += coin\n",
    "        if amount_inserted >= price:\n",
    "            break\n",
    "        print(f\"Amount Due: {price - amount_inserted}\")\n",
    "    else:\n",
    "        print(f\"Amount Due: {price - amount_inserted}\")\n",
    "\n",
    "change = amount_inserted - price\n",
    "if change == 0:\n",
    "    print(\"Change Owed: 0\")\n",
    "else:\n",
    "    print(f\"Change Owed: {change}\")\n"
   ]
  },
  {
   "cell_type": "code",
   "execution_count": 57,
   "id": "d936cc57",
   "metadata": {},
   "outputs": [
    {
     "ename": "SyntaxError",
     "evalue": "invalid syntax (1913521687.py, line 13)",
     "output_type": "error",
     "traceback": [
      "\u001b[1;36m  Input \u001b[1;32mIn [57]\u001b[1;36m\u001b[0m\n\u001b[1;33m    if price-=amount_inserted<=0:\u001b[0m\n\u001b[1;37m            ^\u001b[0m\n\u001b[1;31mSyntaxError\u001b[0m\u001b[1;31m:\u001b[0m invalid syntax\n"
     ]
    }
   ],
   "source": [
    "\n",
    "price = 50\n",
    "amount_inserted = 0\n",
    "\n",
    "\n",
    "denominations = [25, 10, 5]\n",
    "\n",
    "\n",
    "print(\"Amount Due: {price}\")\n",
    "while amount_inserted < price:\n",
    "    coin = int(input(\"Insert Coin \"))\n",
    "    if coin in denominations:\n",
    "        amount_inserted += coin\n",
    "        if price-=amount_inserted<=0:\n",
    "            break\n",
    "        print(f\"Amount Due: {price - amount_inserted} \")\n",
    "#             continue\n",
    "    else:\n",
    "        print(f\"Amonnt Due: {price- amount_inserted} \")\n",
    "change = amount_inserted-price\n",
    "if change==0:\n",
    "    print(\"change Owed: 0\")\n",
    "elif change in denominations:\n",
    "    print(f\"change Owed: {change}\")\n"
   ]
  },
  {
   "cell_type": "code",
   "execution_count": null,
   "id": "0981a443",
   "metadata": {},
   "outputs": [],
   "source": []
  },
  {
   "cell_type": "code",
   "execution_count": null,
   "id": "b039ede0",
   "metadata": {},
   "outputs": [],
   "source": []
  },
  {
   "cell_type": "code",
   "execution_count": null,
   "id": "2322c58d",
   "metadata": {},
   "outputs": [],
   "source": []
  },
  {
   "cell_type": "code",
   "execution_count": 24,
   "id": "c1d2791f",
   "metadata": {},
   "outputs": [
    {
     "name": "stdout",
     "output_type": "stream",
     "text": [
      "Amount Due: 50\n",
      "Insert Coin: 45\n"
     ]
    },
    {
     "ename": "TypeError",
     "evalue": "denomunation() takes 0 positional arguments but 1 was given",
     "output_type": "error",
     "traceback": [
      "\u001b[1;31m---------------------------------------------------------------------------\u001b[0m",
      "\u001b[1;31mTypeError\u001b[0m                                 Traceback (most recent call last)",
      "Input \u001b[1;32mIn [24]\u001b[0m, in \u001b[0;36m<cell line: 20>\u001b[1;34m()\u001b[0m\n\u001b[0;32m     14\u001b[0m             \u001b[38;5;28mprint\u001b[39m(\u001b[38;5;124mf\u001b[39m\u001b[38;5;124m\"\u001b[39m\u001b[38;5;124mAmount Due: \u001b[39m\u001b[38;5;132;01m{\u001b[39;00mprice\u001b[38;5;241m-\u001b[39minsert_coin\u001b[38;5;132;01m}\u001b[39;00m\u001b[38;5;124m\"\u001b[39m)\n\u001b[0;32m     16\u001b[0m \u001b[38;5;66;03m#         if insert_coin!= price:\u001b[39;00m\n\u001b[0;32m     17\u001b[0m \u001b[38;5;66;03m#             return f\"Insert Coin: {price-insert_coin}\"\u001b[39;00m\n\u001b[0;32m     18\u001b[0m \u001b[38;5;66;03m#         else:\u001b[39;00m\n\u001b[0;32m     19\u001b[0m \u001b[38;5;66;03m#             return f\"Amount Due: 0\"\u001b[39;00m\n\u001b[1;32m---> 20\u001b[0m \u001b[43mmain\u001b[49m\u001b[43m(\u001b[49m\u001b[43m)\u001b[49m\n",
      "Input \u001b[1;32mIn [24]\u001b[0m, in \u001b[0;36mmain\u001b[1;34m()\u001b[0m\n\u001b[0;32m      4\u001b[0m insert_coin\u001b[38;5;241m=\u001b[39m\u001b[38;5;28mint\u001b[39m(\u001b[38;5;28minput\u001b[39m(\u001b[38;5;124m\"\u001b[39m\u001b[38;5;124mInsert Coin: \u001b[39m\u001b[38;5;124m\"\u001b[39m))\n\u001b[0;32m      5\u001b[0m \u001b[38;5;28;01mif\u001b[39;00m insert_coin\u001b[38;5;241m!=\u001b[39m price:\n\u001b[1;32m----> 6\u001b[0m     \u001b[38;5;28;01mreturn\u001b[39;00m \u001b[43mdenomunation\u001b[49m\u001b[43m(\u001b[49m\u001b[43minsert_coin\u001b[49m\u001b[43m)\u001b[49m\n\u001b[0;32m      7\u001b[0m \u001b[38;5;28;01melse\u001b[39;00m:\n\u001b[0;32m      8\u001b[0m     \u001b[38;5;28;01mreturn\u001b[39;00m \u001b[38;5;124mf\u001b[39m\u001b[38;5;124m\"\u001b[39m\u001b[38;5;124mAmount Due: 0\u001b[39m\u001b[38;5;124m\"\u001b[39m\n",
      "\u001b[1;31mTypeError\u001b[0m: denomunation() takes 0 positional arguments but 1 was given"
     ]
    }
   ],
   "source": [
    "def main():\n",
    "    print(\"Amount Due: 50\")\n",
    "    price=50\n",
    "    insert_coin=int(input(\"Insert Coin: \"))\n",
    "    if insert_coin!= price:\n",
    "        return denomunation(insert_coin)\n",
    "    else:\n",
    "        return f\"Amount Due: 0\"\n",
    "\n",
    "def denomunation():\n",
    "    lst=[5,10,25]\n",
    "    if insert_coin in lst:\n",
    "        while insert_coin!=price:\n",
    "            print(f\"Amount Due: {price-insert_coin}\")\n",
    "        \n",
    "#         if insert_coin!= price:\n",
    "#             return f\"Insert Coin: {price-insert_coin}\"\n",
    "#         else:\n",
    "#             return f\"Amount Due: 0\"\n",
    "main()"
   ]
  },
  {
   "cell_type": "code",
   "execution_count": null,
   "id": "33ab1064",
   "metadata": {},
   "outputs": [],
   "source": []
  },
  {
   "cell_type": "code",
   "execution_count": 36,
   "id": "2deaa20d",
   "metadata": {},
   "outputs": [
    {
     "name": "stdout",
     "output_type": "stream",
     "text": [
      "text something: sad\n"
     ]
    }
   ],
   "source": [
    "x=input(\"text something: \")\n",
    "while True:\n",
    "    try:\n",
    "        if not x.isalpha():\n",
    "            pass\n",
    "#             raise EOFError\n",
    "    except EOFError:\n",
    "        pass\n",
    "    else:\n",
    "        break"
   ]
  },
  {
   "cell_type": "code",
   "execution_count": 38,
   "id": "add333c0",
   "metadata": {},
   "outputs": [
    {
     "ename": "IndentationError",
     "evalue": "expected an indented block (1752513791.py, line 7)",
     "output_type": "error",
     "traceback": [
      "\u001b[1;36m  Input \u001b[1;32mIn [38]\u001b[1;36m\u001b[0m\n\u001b[1;33m    \u001b[0m\n\u001b[1;37m    ^\u001b[0m\n\u001b[1;31mIndentationError\u001b[0m\u001b[1;31m:\u001b[0m expected an indented block\n"
     ]
    }
   ],
   "source": [
    "try:\n",
    "    x=input(\"text something: \")\n",
    "    if not x.isalpha():\n",
    "        pass\n",
    "#             raise EOFError\n",
    "except EOFError:\n",
    "    "
   ]
  },
  {
   "cell_type": "code",
   "execution_count": null,
   "id": "3d473d3e",
   "metadata": {},
   "outputs": [],
   "source": []
  },
  {
   "cell_type": "code",
   "execution_count": null,
   "id": "bc247bdd",
   "metadata": {},
   "outputs": [],
   "source": []
  },
  {
   "cell_type": "code",
   "execution_count": null,
   "id": "685876e2",
   "metadata": {},
   "outputs": [],
   "source": []
  },
  {
   "cell_type": "code",
   "execution_count": 27,
   "id": "7eb66662",
   "metadata": {},
   "outputs": [
    {
     "name": "stdout",
     "output_type": "stream",
     "text": [
      "asd\n",
      "\n"
     ]
    },
    {
     "ename": "NameError",
     "evalue": "name 'line' is not defined",
     "output_type": "error",
     "traceback": [
      "\u001b[1;31m---------------------------------------------------------------------------\u001b[0m",
      "\u001b[1;31mNameError\u001b[0m                                 Traceback (most recent call last)",
      "Input \u001b[1;32mIn [27]\u001b[0m, in \u001b[0;36m<cell line: 35>\u001b[1;34m()\u001b[0m\n\u001b[0;32m     32\u001b[0m     \u001b[38;5;28;01mreturn\u001b[39;00m count,line\n\u001b[0;32m     33\u001b[0m \u001b[38;5;66;03m# user_input2 = get_input()\u001b[39;00m\n\u001b[0;32m     34\u001b[0m \u001b[38;5;66;03m# user=get_input()\u001b[39;00m\n\u001b[1;32m---> 35\u001b[0m \u001b[43mmain\u001b[49m\u001b[43m(\u001b[49m\u001b[43m)\u001b[49m\n",
      "Input \u001b[1;32mIn [27]\u001b[0m, in \u001b[0;36mmain\u001b[1;34m()\u001b[0m\n\u001b[0;32m      1\u001b[0m \u001b[38;5;28;01mdef\u001b[39;00m \u001b[38;5;21mmain\u001b[39m():\n\u001b[0;32m      2\u001b[0m     get_input()\n\u001b[1;32m----> 3\u001b[0m     count\u001b[38;5;241m=\u001b[39mitems(\u001b[43mline\u001b[49m)\n\u001b[0;32m      4\u001b[0m     \u001b[38;5;28;01mreturn\u001b[39;00m \u001b[38;5;124mf\u001b[39m\u001b[38;5;124m\"\u001b[39m\u001b[38;5;124mTotal: \u001b[39m\u001b[38;5;132;01m{\u001b[39;00mcount\u001b[38;5;132;01m}\u001b[39;00m\u001b[38;5;124m\"\u001b[39m\n",
      "\u001b[1;31mNameError\u001b[0m: name 'line' is not defined"
     ]
    }
   ],
   "source": [
    "def main():\n",
    "    get_input()\n",
    "    count=items()\n",
    "    return f\"Total: {count}\"\n",
    "def get_input():\n",
    "    \n",
    "    while True:  \n",
    "        try:\n",
    "            line = input()\n",
    "            if not line: \n",
    "                break\n",
    "        except EOFError:\n",
    "            pass\n",
    "            break\n",
    "    return line \n",
    "def items(line):\n",
    "    count=0\n",
    "    items={\n",
    "    \"Baja Taco\": 4.00,\n",
    "    \"Burrito\": 7.50,\n",
    "    \"Bowl\": 8.50,\n",
    "    \"Nachos\": 11.00,\n",
    "    \"Quesadilla\": 8.50,\n",
    "    \"Super Burrito\": 8.50,\n",
    "    \"Super Quesadilla\": 9.50,\n",
    "    \"Taco\": 3.00,\n",
    "    \"Tortilla Salad\": 8.00}\n",
    "    if line in items:\n",
    "        count+=items[line]\n",
    "    else:\n",
    "        pass\n",
    "    return count,line\n",
    "# user_input2 = get_input()\n",
    "# user=get_input()\n",
    "main()"
   ]
  },
  {
   "cell_type": "code",
   "execution_count": 7,
   "id": "031e38d2",
   "metadata": {},
   "outputs": [
    {
     "name": "stdout",
     "output_type": "stream",
     "text": [
      "op\n",
      " po\n",
      "\n"
     ]
    }
   ],
   "source": [
    "def get_input():\n",
    "    user_input = \"\"  # Initialize an empty string to store user input\n",
    "    while True:  # Continue reading input until the user presses Enter\n",
    "        try:\n",
    "            line = input()\n",
    "            if not line:  # If the user presses Enter without typing anything\n",
    "                break\n",
    "            user_input += line + \"\\n\"  # Append the input to the existing user_input with a newline\n",
    "        except EOFError:\n",
    "            break\n",
    "    return user_input.strip()  # Remove trailing newline characters and return the input\n",
    "\n",
    "user_input2 = get_input()\n"
   ]
  },
  {
   "cell_type": "code",
   "execution_count": 41,
   "id": "9ed3aab4",
   "metadata": {},
   "outputs": [
    {
     "name": "stdout",
     "output_type": "stream",
     "text": [
      "text something: sad\n"
     ]
    }
   ],
   "source": [
    "\n",
    "try:\n",
    "    x=input(\"text something: \")\n",
    "    if x.isalpha():\n",
    "        pass\n",
    "#             raise EOFError\n",
    "except EOFError:\n",
    "    print(\"enter something not by getting the enter\")\n",
    "    "
   ]
  },
  {
   "cell_type": "code",
   "execution_count": 49,
   "id": "7957d178",
   "metadata": {},
   "outputs": [
    {
     "name": "stdout",
     "output_type": "stream",
     "text": [
      "text something: as\n",
      "text something: sad\n",
      "text something: \n"
     ]
    },
    {
     "ename": "KeyboardInterrupt",
     "evalue": "Interrupted by user",
     "output_type": "error",
     "traceback": [
      "\u001b[1;31m---------------------------------------------------------------------------\u001b[0m",
      "\u001b[1;31mKeyboardInterrupt\u001b[0m                         Traceback (most recent call last)",
      "Input \u001b[1;32mIn [49]\u001b[0m, in \u001b[0;36m<cell line: 3>\u001b[1;34m()\u001b[0m\n\u001b[0;32m      1\u001b[0m \u001b[38;5;28;01mwhile\u001b[39;00m \u001b[38;5;28;01mTrue\u001b[39;00m:\n\u001b[0;32m      3\u001b[0m     \u001b[38;5;28;01mtry\u001b[39;00m:\n\u001b[1;32m----> 4\u001b[0m         x\u001b[38;5;241m=\u001b[39m\u001b[38;5;28;43minput\u001b[39;49m\u001b[43m(\u001b[49m\u001b[38;5;124;43m\"\u001b[39;49m\u001b[38;5;124;43mtext something: \u001b[39;49m\u001b[38;5;124;43m\"\u001b[39;49m\u001b[43m)\u001b[49m\n\u001b[0;32m      6\u001b[0m     \u001b[38;5;28;01mexcept\u001b[39;00m \u001b[38;5;167;01mEOFError\u001b[39;00m:\n\u001b[0;32m      7\u001b[0m         \u001b[38;5;28;01mbreak\u001b[39;00m\n",
      "File \u001b[1;32m~\\anaconda3\\lib\\site-packages\\ipykernel\\kernelbase.py:1075\u001b[0m, in \u001b[0;36mKernel.raw_input\u001b[1;34m(self, prompt)\u001b[0m\n\u001b[0;32m   1071\u001b[0m \u001b[38;5;28;01mif\u001b[39;00m \u001b[38;5;129;01mnot\u001b[39;00m \u001b[38;5;28mself\u001b[39m\u001b[38;5;241m.\u001b[39m_allow_stdin:\n\u001b[0;32m   1072\u001b[0m     \u001b[38;5;28;01mraise\u001b[39;00m StdinNotImplementedError(\n\u001b[0;32m   1073\u001b[0m         \u001b[38;5;124m\"\u001b[39m\u001b[38;5;124mraw_input was called, but this frontend does not support input requests.\u001b[39m\u001b[38;5;124m\"\u001b[39m\n\u001b[0;32m   1074\u001b[0m     )\n\u001b[1;32m-> 1075\u001b[0m \u001b[38;5;28;01mreturn\u001b[39;00m \u001b[38;5;28;43mself\u001b[39;49m\u001b[38;5;241;43m.\u001b[39;49m\u001b[43m_input_request\u001b[49m\u001b[43m(\u001b[49m\n\u001b[0;32m   1076\u001b[0m \u001b[43m    \u001b[49m\u001b[38;5;28;43mstr\u001b[39;49m\u001b[43m(\u001b[49m\u001b[43mprompt\u001b[49m\u001b[43m)\u001b[49m\u001b[43m,\u001b[49m\n\u001b[0;32m   1077\u001b[0m \u001b[43m    \u001b[49m\u001b[38;5;28;43mself\u001b[39;49m\u001b[38;5;241;43m.\u001b[39;49m\u001b[43m_parent_ident\u001b[49m\u001b[43m[\u001b[49m\u001b[38;5;124;43m\"\u001b[39;49m\u001b[38;5;124;43mshell\u001b[39;49m\u001b[38;5;124;43m\"\u001b[39;49m\u001b[43m]\u001b[49m\u001b[43m,\u001b[49m\n\u001b[0;32m   1078\u001b[0m \u001b[43m    \u001b[49m\u001b[38;5;28;43mself\u001b[39;49m\u001b[38;5;241;43m.\u001b[39;49m\u001b[43mget_parent\u001b[49m\u001b[43m(\u001b[49m\u001b[38;5;124;43m\"\u001b[39;49m\u001b[38;5;124;43mshell\u001b[39;49m\u001b[38;5;124;43m\"\u001b[39;49m\u001b[43m)\u001b[49m\u001b[43m,\u001b[49m\n\u001b[0;32m   1079\u001b[0m \u001b[43m    \u001b[49m\u001b[43mpassword\u001b[49m\u001b[38;5;241;43m=\u001b[39;49m\u001b[38;5;28;43;01mFalse\u001b[39;49;00m\u001b[43m,\u001b[49m\n\u001b[0;32m   1080\u001b[0m \u001b[43m\u001b[49m\u001b[43m)\u001b[49m\n",
      "File \u001b[1;32m~\\anaconda3\\lib\\site-packages\\ipykernel\\kernelbase.py:1120\u001b[0m, in \u001b[0;36mKernel._input_request\u001b[1;34m(self, prompt, ident, parent, password)\u001b[0m\n\u001b[0;32m   1117\u001b[0m             \u001b[38;5;28;01mbreak\u001b[39;00m\n\u001b[0;32m   1118\u001b[0m \u001b[38;5;28;01mexcept\u001b[39;00m \u001b[38;5;167;01mKeyboardInterrupt\u001b[39;00m:\n\u001b[0;32m   1119\u001b[0m     \u001b[38;5;66;03m# re-raise KeyboardInterrupt, to truncate traceback\u001b[39;00m\n\u001b[1;32m-> 1120\u001b[0m     \u001b[38;5;28;01mraise\u001b[39;00m \u001b[38;5;167;01mKeyboardInterrupt\u001b[39;00m(\u001b[38;5;124m\"\u001b[39m\u001b[38;5;124mInterrupted by user\u001b[39m\u001b[38;5;124m\"\u001b[39m) \u001b[38;5;28;01mfrom\u001b[39;00m \u001b[38;5;28mNone\u001b[39m\n\u001b[0;32m   1121\u001b[0m \u001b[38;5;28;01mexcept\u001b[39;00m \u001b[38;5;167;01mException\u001b[39;00m:\n\u001b[0;32m   1122\u001b[0m     \u001b[38;5;28mself\u001b[39m\u001b[38;5;241m.\u001b[39mlog\u001b[38;5;241m.\u001b[39mwarning(\u001b[38;5;124m\"\u001b[39m\u001b[38;5;124mInvalid Message:\u001b[39m\u001b[38;5;124m\"\u001b[39m, exc_info\u001b[38;5;241m=\u001b[39m\u001b[38;5;28;01mTrue\u001b[39;00m)\n",
      "\u001b[1;31mKeyboardInterrupt\u001b[0m: Interrupted by user"
     ]
    }
   ],
   "source": [
    "while True:\n",
    "    \n",
    "    try:\n",
    "        x=input(\"text something: \")\n",
    "        if x is \" \"\n",
    "\n",
    "    except EOFError:\n",
    "        x=\"\"\n",
    "    else:\n",
    "        pass\n",
    "#         print(\"enter something not by getting the enter\")\n",
    "\n",
    "    "
   ]
  },
  {
   "cell_type": "code",
   "execution_count": 47,
   "id": "90288ad6",
   "metadata": {},
   "outputs": [
    {
     "ename": "SyntaxError",
     "evalue": "'break' outside loop (3764741895.py, line 5)",
     "output_type": "error",
     "traceback": [
      "\u001b[1;36m  Input \u001b[1;32mIn [47]\u001b[1;36m\u001b[0m\n\u001b[1;33m    break\u001b[0m\n\u001b[1;37m    ^\u001b[0m\n\u001b[1;31mSyntaxError\u001b[0m\u001b[1;31m:\u001b[0m 'break' outside loop\n"
     ]
    }
   ],
   "source": [
    "try:\n",
    "    x=input(\"text something: \")\n",
    "\n",
    "except EOFError:\n",
    "    break\n",
    "else:\n",
    "    print(\"enter something not by getting the enter\")"
   ]
  },
  {
   "cell_type": "code",
   "execution_count": 58,
   "id": "eba5fba7",
   "metadata": {},
   "outputs": [
    {
     "name": "stdout",
     "output_type": "stream",
     "text": [
      "INPUT SOME NUMBER: sd\n",
      "number enter is sd\n"
     ]
    }
   ],
   "source": [
    "while True:\n",
    "    try:\n",
    "        x=input(\"INPUT SOME NUMBER: \")\n",
    "        if x!=' ':\n",
    "            break\n",
    "    except EOFError:\n",
    "        continue\n",
    "    else:\n",
    "        break\n",
    "print(f\"number enter is {x}\")"
   ]
  },
  {
   "cell_type": "code",
   "execution_count": 62,
   "id": "7ccc9c65",
   "metadata": {},
   "outputs": [
    {
     "name": "stdout",
     "output_type": "stream",
     "text": [
      "What's x?as\n",
      "What's x?21\n",
      "x is 21\n"
     ]
    }
   ],
   "source": [
    "def main():\n",
    "    x = get_int()\n",
    "    count=0\n",
    "    count+=x\n",
    "    print(f\"x is {count}\")\n",
    "\n",
    "\n",
    "def get_int():\n",
    "    while True:\n",
    "        try:\n",
    "            return int(input(\"What's x?\"))\n",
    "        except ValueError:\n",
    "            pass\n",
    "\n",
    "\n",
    "main()"
   ]
  },
  {
   "cell_type": "code",
   "execution_count": 73,
   "id": "251f1ebd",
   "metadata": {},
   "outputs": [
    {
     "name": "stdout",
     "output_type": "stream",
     "text": [
      "INPUT SOME NUMBER: ds\n",
      "INPUT SOME NUMBER: \n"
     ]
    },
    {
     "ename": "KeyboardInterrupt",
     "evalue": "Interrupted by user",
     "output_type": "error",
     "traceback": [
      "\u001b[1;31m---------------------------------------------------------------------------\u001b[0m",
      "\u001b[1;31mKeyboardInterrupt\u001b[0m                         Traceback (most recent call last)",
      "Input \u001b[1;32mIn [73]\u001b[0m, in \u001b[0;36m<cell line: 2>\u001b[1;34m()\u001b[0m\n\u001b[0;32m      1\u001b[0m \u001b[38;5;28;01mwhile\u001b[39;00m \u001b[38;5;28;01mTrue\u001b[39;00m:\n\u001b[0;32m      2\u001b[0m     \u001b[38;5;28;01mtry\u001b[39;00m:\n\u001b[1;32m----> 3\u001b[0m         x\u001b[38;5;241m=\u001b[39m\u001b[38;5;28mint\u001b[39m(\u001b[38;5;28;43minput\u001b[39;49m\u001b[43m(\u001b[49m\u001b[38;5;124;43m\"\u001b[39;49m\u001b[38;5;124;43mINPUT SOME NUMBER: \u001b[39;49m\u001b[38;5;124;43m\"\u001b[39;49m\u001b[43m)\u001b[49m)\n\u001b[0;32m      4\u001b[0m     \u001b[38;5;28;01mexcept\u001b[39;00m \u001b[38;5;167;01mValueError\u001b[39;00m:\n\u001b[0;32m      5\u001b[0m         \u001b[38;5;28;01mcontinue\u001b[39;00m\n",
      "File \u001b[1;32m~\\anaconda3\\lib\\site-packages\\ipykernel\\kernelbase.py:1075\u001b[0m, in \u001b[0;36mKernel.raw_input\u001b[1;34m(self, prompt)\u001b[0m\n\u001b[0;32m   1071\u001b[0m \u001b[38;5;28;01mif\u001b[39;00m \u001b[38;5;129;01mnot\u001b[39;00m \u001b[38;5;28mself\u001b[39m\u001b[38;5;241m.\u001b[39m_allow_stdin:\n\u001b[0;32m   1072\u001b[0m     \u001b[38;5;28;01mraise\u001b[39;00m StdinNotImplementedError(\n\u001b[0;32m   1073\u001b[0m         \u001b[38;5;124m\"\u001b[39m\u001b[38;5;124mraw_input was called, but this frontend does not support input requests.\u001b[39m\u001b[38;5;124m\"\u001b[39m\n\u001b[0;32m   1074\u001b[0m     )\n\u001b[1;32m-> 1075\u001b[0m \u001b[38;5;28;01mreturn\u001b[39;00m \u001b[38;5;28;43mself\u001b[39;49m\u001b[38;5;241;43m.\u001b[39;49m\u001b[43m_input_request\u001b[49m\u001b[43m(\u001b[49m\n\u001b[0;32m   1076\u001b[0m \u001b[43m    \u001b[49m\u001b[38;5;28;43mstr\u001b[39;49m\u001b[43m(\u001b[49m\u001b[43mprompt\u001b[49m\u001b[43m)\u001b[49m\u001b[43m,\u001b[49m\n\u001b[0;32m   1077\u001b[0m \u001b[43m    \u001b[49m\u001b[38;5;28;43mself\u001b[39;49m\u001b[38;5;241;43m.\u001b[39;49m\u001b[43m_parent_ident\u001b[49m\u001b[43m[\u001b[49m\u001b[38;5;124;43m\"\u001b[39;49m\u001b[38;5;124;43mshell\u001b[39;49m\u001b[38;5;124;43m\"\u001b[39;49m\u001b[43m]\u001b[49m\u001b[43m,\u001b[49m\n\u001b[0;32m   1078\u001b[0m \u001b[43m    \u001b[49m\u001b[38;5;28;43mself\u001b[39;49m\u001b[38;5;241;43m.\u001b[39;49m\u001b[43mget_parent\u001b[49m\u001b[43m(\u001b[49m\u001b[38;5;124;43m\"\u001b[39;49m\u001b[38;5;124;43mshell\u001b[39;49m\u001b[38;5;124;43m\"\u001b[39;49m\u001b[43m)\u001b[49m\u001b[43m,\u001b[49m\n\u001b[0;32m   1079\u001b[0m \u001b[43m    \u001b[49m\u001b[43mpassword\u001b[49m\u001b[38;5;241;43m=\u001b[39;49m\u001b[38;5;28;43;01mFalse\u001b[39;49;00m\u001b[43m,\u001b[49m\n\u001b[0;32m   1080\u001b[0m \u001b[43m\u001b[49m\u001b[43m)\u001b[49m\n",
      "File \u001b[1;32m~\\anaconda3\\lib\\site-packages\\ipykernel\\kernelbase.py:1120\u001b[0m, in \u001b[0;36mKernel._input_request\u001b[1;34m(self, prompt, ident, parent, password)\u001b[0m\n\u001b[0;32m   1117\u001b[0m             \u001b[38;5;28;01mbreak\u001b[39;00m\n\u001b[0;32m   1118\u001b[0m \u001b[38;5;28;01mexcept\u001b[39;00m \u001b[38;5;167;01mKeyboardInterrupt\u001b[39;00m:\n\u001b[0;32m   1119\u001b[0m     \u001b[38;5;66;03m# re-raise KeyboardInterrupt, to truncate traceback\u001b[39;00m\n\u001b[1;32m-> 1120\u001b[0m     \u001b[38;5;28;01mraise\u001b[39;00m \u001b[38;5;167;01mKeyboardInterrupt\u001b[39;00m(\u001b[38;5;124m\"\u001b[39m\u001b[38;5;124mInterrupted by user\u001b[39m\u001b[38;5;124m\"\u001b[39m) \u001b[38;5;28;01mfrom\u001b[39;00m \u001b[38;5;28mNone\u001b[39m\n\u001b[0;32m   1121\u001b[0m \u001b[38;5;28;01mexcept\u001b[39;00m \u001b[38;5;167;01mException\u001b[39;00m:\n\u001b[0;32m   1122\u001b[0m     \u001b[38;5;28mself\u001b[39m\u001b[38;5;241m.\u001b[39mlog\u001b[38;5;241m.\u001b[39mwarning(\u001b[38;5;124m\"\u001b[39m\u001b[38;5;124mInvalid Message:\u001b[39m\u001b[38;5;124m\"\u001b[39m, exc_info\u001b[38;5;241m=\u001b[39m\u001b[38;5;28;01mTrue\u001b[39;00m)\n",
      "\u001b[1;31mKeyboardInterrupt\u001b[0m: Interrupted by user"
     ]
    }
   ],
   "source": [
    "while True:\n",
    "    try:\n",
    "        x=int(input(\"INPUT SOME NUMBER: \"))\n",
    "    except ValueError:\n",
    "        continue\n",
    "    else:\n",
    "        break\n",
    "print(f\"number enter is {x}\")"
   ]
  },
  {
   "cell_type": "code",
   "execution_count": 95,
   "id": "f962dad1",
   "metadata": {},
   "outputs": [
    {
     "name": "stdout",
     "output_type": "stream",
     "text": [
      "dfc\n",
      "ds\n"
     ]
    },
    {
     "ename": "KeyError",
     "evalue": "'D'",
     "output_type": "error",
     "traceback": [
      "\u001b[1;31m---------------------------------------------------------------------------\u001b[0m",
      "\u001b[1;31mKeyError\u001b[0m                                  Traceback (most recent call last)",
      "Input \u001b[1;32mIn [95]\u001b[0m, in \u001b[0;36m<cell line: 18>\u001b[1;34m()\u001b[0m\n\u001b[0;32m     16\u001b[0m         \u001b[38;5;28;01mexcept\u001b[39;00m \u001b[38;5;167;01mEOFError\u001b[39;00m:\n\u001b[0;32m     17\u001b[0m               \u001b[38;5;28;01mbreak\u001b[39;00m\n\u001b[1;32m---> 18\u001b[0m \u001b[43mmain\u001b[49m\u001b[43m(\u001b[49m\u001b[43m)\u001b[49m\n",
      "Input \u001b[1;32mIn [95]\u001b[0m, in \u001b[0;36mmain\u001b[1;34m()\u001b[0m\n\u001b[0;32m      1\u001b[0m \u001b[38;5;28;01mdef\u001b[39;00m \u001b[38;5;21mmain\u001b[39m():\n\u001b[1;32m----> 2\u001b[0m     x\u001b[38;5;241m=\u001b[39m\u001b[43mget_item\u001b[49m\u001b[43m(\u001b[49m\u001b[43m)\u001b[49m\n\u001b[0;32m      3\u001b[0m     \u001b[38;5;28mprint\u001b[39m(x)\n",
      "Input \u001b[1;32mIn [95]\u001b[0m, in \u001b[0;36mget_item\u001b[1;34m()\u001b[0m\n\u001b[0;32m     12\u001b[0m                 dic[us]\u001b[38;5;241m=\u001b[39mcount \n\u001b[0;32m     13\u001b[0m             \u001b[38;5;28;01melif\u001b[39;00m us\u001b[38;5;241m.\u001b[39misalpha() \u001b[38;5;129;01mis\u001b[39;00m \u001b[38;5;28;01mTrue\u001b[39;00m \u001b[38;5;129;01mand\u001b[39;00m us \u001b[38;5;129;01min\u001b[39;00m dic:\n\u001b[1;32m---> 14\u001b[0m                 dic\u001b[38;5;241m.\u001b[39mupdate({us:\u001b[43mdic\u001b[49m\u001b[43m[\u001b[49m\u001b[43mus\u001b[49m\u001b[43m[\u001b[49m\u001b[43mcount\u001b[49m\u001b[43m]\u001b[49m\u001b[43m]\u001b[49m\u001b[38;5;241m+\u001b[39m\u001b[38;5;241m1\u001b[39m})\n\u001b[0;32m     15\u001b[0m \u001b[38;5;66;03m#                 dic[us][count]+=1\u001b[39;00m\n\u001b[0;32m     16\u001b[0m         \u001b[38;5;28;01mexcept\u001b[39;00m \u001b[38;5;167;01mEOFError\u001b[39;00m:\n",
      "\u001b[1;31mKeyError\u001b[0m: 'D'"
     ]
    }
   ],
   "source": [
    "def main():\n",
    "    x=get_item()\n",
    "    print(x)\n",
    "def get_item():\n",
    "    dit={}\n",
    "    count=0\n",
    "    while True:\n",
    "        us=input().upper()\n",
    "        try:\n",
    "#             us=input().upper()\n",
    "            if not us.isalpha() is True and us not in dic:\n",
    "                dic[us]=count \n",
    "            elif us.isalpha() is True and us in dic:\n",
    "                dic.update({us:dic[us[count]]+1})\n",
    "#                 dic[us][count]+=1\n",
    "        except EOFError:\n",
    "              break\n",
    "main()"
   ]
  },
  {
   "cell_type": "code",
   "execution_count": 71,
   "id": "6a85a250",
   "metadata": {},
   "outputs": [
    {
     "name": "stdout",
     "output_type": "stream",
     "text": [
      "asd\n"
     ]
    },
    {
     "data": {
      "text/plain": [
       "{'ASD': 0}"
      ]
     },
     "execution_count": 71,
     "metadata": {},
     "output_type": "execute_result"
    }
   ],
   "source": [
    "dic={}\n",
    "count=0\n",
    "us=input().upper()\n",
    "if us.isalpha() is True and us not in dic:\n",
    "    dic[us]=count\n",
    "dic"
   ]
  },
  {
   "cell_type": "code",
   "execution_count": 147,
   "id": "1047740e",
   "metadata": {},
   "outputs": [
    {
     "name": "stdout",
     "output_type": "stream",
     "text": [
      "tortillaa\n",
      "tortilla\n",
      "tortilla\n",
      "\n",
      "2 TORTILLA\n",
      "1 TORTILLAA\n"
     ]
    }
   ],
   "source": [
    "def main():\n",
    "    usr=us()\n",
    "#     print(usr)\n",
    "    rs=count(usr)\n",
    "#     print(rs)\n",
    "    for _ in rs:\n",
    "        print(rs[_],_)\n",
    "\n",
    "#     sort\n",
    "#     print(sorted(rs),rs)\n",
    "def us():\n",
    "    lst=[]\n",
    "    while True:\n",
    "        try:\n",
    "            item = input().upper()\n",
    "            if len(item)==0:\n",
    "                raise EOFError\n",
    "            else:\n",
    "                lst.append(item)\n",
    "        except EOFError:\n",
    "            break\n",
    "    return sorted(lst)\n",
    "def count(usr):\n",
    "    dic={}\n",
    "    for i in usr:\n",
    "        if i not in dic:\n",
    "            dic[i]=1\n",
    "        elif i in dic:\n",
    "            dic[i]+=1\n",
    "    return dic\n",
    "\n",
    "main()\n",
    "\n"
   ]
  },
  {
   "cell_type": "code",
   "execution_count": 142,
   "id": "ba026a04",
   "metadata": {},
   "outputs": [
    {
     "name": "stdout",
     "output_type": "stream",
     "text": [
      "110 ['b', 'e', 'i', 'o', 's', 's', 'u']\n",
      "104 ['C', 'f', 'f', 'r', 'u', 'y']\n",
      "150 ['P', 'e', 'e', 'l']\n",
      "132 ['R', 'a', 'd', 'l', 'n', 'o', 'o']\n",
      "125 ['a', 'e', 'i', 's', 's']\n"
     ]
    }
   ],
   "source": [
    "footballers_goals = {'susebio': 110, 'Cruyff': 104, 'Pele': 150, 'Ronaldo': 132, 'aessi': 125}\n",
    "\n",
    "for _ in footballers_goals:\n",
    "    print(footballers_goals[_],sorted(_))\n",
    "    \n",
    "    "
   ]
  },
  {
   "cell_type": "code",
   "execution_count": 89,
   "id": "7c34a1d6",
   "metadata": {},
   "outputs": [
    {
     "name": "stdout",
     "output_type": "stream",
     "text": [
      "\n"
     ]
    },
    {
     "ename": "ValueError",
     "evalue": "invalid literal for int() with base 10: ''",
     "output_type": "error",
     "traceback": [
      "\u001b[1;31m---------------------------------------------------------------------------\u001b[0m",
      "\u001b[1;31mValueError\u001b[0m                                Traceback (most recent call last)",
      "Input \u001b[1;32mIn [89]\u001b[0m, in \u001b[0;36m<cell line: 1>\u001b[1;34m()\u001b[0m\n\u001b[0;32m      1\u001b[0m \u001b[38;5;28;01mtry\u001b[39;00m:\n\u001b[1;32m----> 2\u001b[0m     num \u001b[38;5;241m=\u001b[39m \u001b[38;5;28;43mint\u001b[39;49m\u001b[43m(\u001b[49m\u001b[38;5;28;43minput\u001b[39;49m\u001b[43m(\u001b[49m\u001b[43m)\u001b[49m\u001b[43m)\u001b[49m\n\u001b[0;32m      3\u001b[0m     \u001b[38;5;28mprint\u001b[39m(num \u001b[38;5;241m*\u001b[39m \u001b[38;5;241m10\u001b[39m)\n\u001b[0;32m      5\u001b[0m \u001b[38;5;28;01mexcept\u001b[39;00m \u001b[38;5;167;01mEOFError\u001b[39;00m:\n",
      "\u001b[1;31mValueError\u001b[0m: invalid literal for int() with base 10: ''"
     ]
    }
   ],
   "source": [
    "try:\n",
    "    num = int(input())\n",
    "    print(num * 10)\n",
    "    \n",
    "except EOFError:\n",
    "    print(er)"
   ]
  },
  {
   "cell_type": "code",
   "execution_count": 91,
   "id": "a92341f7",
   "metadata": {},
   "outputs": [
    {
     "name": "stdout",
     "output_type": "stream",
     "text": [
      "\n"
     ]
    },
    {
     "ename": "ValueError",
     "evalue": "invalid literal for int() with base 10: ''",
     "output_type": "error",
     "traceback": [
      "\u001b[1;31m---------------------------------------------------------------------------\u001b[0m",
      "\u001b[1;31mValueError\u001b[0m                                Traceback (most recent call last)",
      "Input \u001b[1;32mIn [91]\u001b[0m, in \u001b[0;36m<cell line: 1>\u001b[1;34m()\u001b[0m\n\u001b[1;32m----> 1\u001b[0m n \u001b[38;5;241m=\u001b[39m \u001b[38;5;28;43mint\u001b[39;49m\u001b[43m(\u001b[49m\u001b[38;5;28;43minput\u001b[39;49m\u001b[43m(\u001b[49m\u001b[43m)\u001b[49m\u001b[43m)\u001b[49m\n\u001b[0;32m      2\u001b[0m \u001b[38;5;28mprint\u001b[39m(n \u001b[38;5;241m*\u001b[39m \u001b[38;5;241m10\u001b[39m)\n",
      "\u001b[1;31mValueError\u001b[0m: invalid literal for int() with base 10: ''"
     ]
    }
   ],
   "source": [
    "n = int(input())\n",
    "print(n * 10)"
   ]
  },
  {
   "cell_type": "code",
   "execution_count": 93,
   "id": "9b7863e5",
   "metadata": {},
   "outputs": [
    {
     "name": "stdout",
     "output_type": "stream",
     "text": [
      "\n"
     ]
    },
    {
     "ename": "ValueError",
     "evalue": "invalid literal for int() with base 10: ''",
     "output_type": "error",
     "traceback": [
      "\u001b[1;31m---------------------------------------------------------------------------\u001b[0m",
      "\u001b[1;31mValueError\u001b[0m                                Traceback (most recent call last)",
      "Input \u001b[1;32mIn [93]\u001b[0m, in \u001b[0;36m<cell line: 1>\u001b[1;34m()\u001b[0m\n\u001b[0;32m      1\u001b[0m \u001b[38;5;28;01mtry\u001b[39;00m:\n\u001b[1;32m----> 2\u001b[0m     n \u001b[38;5;241m=\u001b[39m \u001b[38;5;28;43mint\u001b[39;49m\u001b[43m(\u001b[49m\u001b[38;5;28;43minput\u001b[39;49m\u001b[43m(\u001b[49m\u001b[43m)\u001b[49m\u001b[43m)\u001b[49m\n\u001b[0;32m      3\u001b[0m     \u001b[38;5;28mprint\u001b[39m(n \u001b[38;5;241m*\u001b[39m \u001b[38;5;241m10\u001b[39m)\n\u001b[0;32m      5\u001b[0m \u001b[38;5;28;01mexcept\u001b[39;00m \u001b[38;5;167;01mEOFError\u001b[39;00m \u001b[38;5;28;01mas\u001b[39;00m e:\n",
      "\u001b[1;31mValueError\u001b[0m: invalid literal for int() with base 10: ''"
     ]
    }
   ],
   "source": [
    "try:\n",
    "    n = int(input())\n",
    "    print(n * 10)\n",
    "    \n",
    "except EOFError as e:\n",
    "    print(e)"
   ]
  },
  {
   "cell_type": "code",
   "execution_count": 94,
   "id": "a91a1705",
   "metadata": {},
   "outputs": [
    {
     "name": "stdout",
     "output_type": "stream",
     "text": [
      "sa\n",
      "\n",
      "\n"
     ]
    },
    {
     "ename": "KeyboardInterrupt",
     "evalue": "Interrupted by user",
     "output_type": "error",
     "traceback": [
      "\u001b[1;31m---------------------------------------------------------------------------\u001b[0m",
      "\u001b[1;31mKeyboardInterrupt\u001b[0m                         Traceback (most recent call last)",
      "Input \u001b[1;32mIn [94]\u001b[0m, in \u001b[0;36m<cell line: 2>\u001b[1;34m()\u001b[0m\n\u001b[0;32m      1\u001b[0m \u001b[38;5;28;01mwhile\u001b[39;00m \u001b[38;5;28;01mTrue\u001b[39;00m:\n\u001b[1;32m----> 2\u001b[0m     us\u001b[38;5;241m=\u001b[39m\u001b[38;5;28;43minput\u001b[39;49m\u001b[43m(\u001b[49m\u001b[43m)\u001b[49m\n\u001b[0;32m      3\u001b[0m     \u001b[38;5;28;01mtry\u001b[39;00m:\n\u001b[0;32m      4\u001b[0m         \u001b[38;5;28;01mif\u001b[39;00m \u001b[38;5;28mlen\u001b[39m(us)\u001b[38;5;241m>\u001b[39m\u001b[38;5;241m1\u001b[39m:\n",
      "File \u001b[1;32m~\\anaconda3\\lib\\site-packages\\ipykernel\\kernelbase.py:1075\u001b[0m, in \u001b[0;36mKernel.raw_input\u001b[1;34m(self, prompt)\u001b[0m\n\u001b[0;32m   1071\u001b[0m \u001b[38;5;28;01mif\u001b[39;00m \u001b[38;5;129;01mnot\u001b[39;00m \u001b[38;5;28mself\u001b[39m\u001b[38;5;241m.\u001b[39m_allow_stdin:\n\u001b[0;32m   1072\u001b[0m     \u001b[38;5;28;01mraise\u001b[39;00m StdinNotImplementedError(\n\u001b[0;32m   1073\u001b[0m         \u001b[38;5;124m\"\u001b[39m\u001b[38;5;124mraw_input was called, but this frontend does not support input requests.\u001b[39m\u001b[38;5;124m\"\u001b[39m\n\u001b[0;32m   1074\u001b[0m     )\n\u001b[1;32m-> 1075\u001b[0m \u001b[38;5;28;01mreturn\u001b[39;00m \u001b[38;5;28;43mself\u001b[39;49m\u001b[38;5;241;43m.\u001b[39;49m\u001b[43m_input_request\u001b[49m\u001b[43m(\u001b[49m\n\u001b[0;32m   1076\u001b[0m \u001b[43m    \u001b[49m\u001b[38;5;28;43mstr\u001b[39;49m\u001b[43m(\u001b[49m\u001b[43mprompt\u001b[49m\u001b[43m)\u001b[49m\u001b[43m,\u001b[49m\n\u001b[0;32m   1077\u001b[0m \u001b[43m    \u001b[49m\u001b[38;5;28;43mself\u001b[39;49m\u001b[38;5;241;43m.\u001b[39;49m\u001b[43m_parent_ident\u001b[49m\u001b[43m[\u001b[49m\u001b[38;5;124;43m\"\u001b[39;49m\u001b[38;5;124;43mshell\u001b[39;49m\u001b[38;5;124;43m\"\u001b[39;49m\u001b[43m]\u001b[49m\u001b[43m,\u001b[49m\n\u001b[0;32m   1078\u001b[0m \u001b[43m    \u001b[49m\u001b[38;5;28;43mself\u001b[39;49m\u001b[38;5;241;43m.\u001b[39;49m\u001b[43mget_parent\u001b[49m\u001b[43m(\u001b[49m\u001b[38;5;124;43m\"\u001b[39;49m\u001b[38;5;124;43mshell\u001b[39;49m\u001b[38;5;124;43m\"\u001b[39;49m\u001b[43m)\u001b[49m\u001b[43m,\u001b[49m\n\u001b[0;32m   1079\u001b[0m \u001b[43m    \u001b[49m\u001b[43mpassword\u001b[49m\u001b[38;5;241;43m=\u001b[39;49m\u001b[38;5;28;43;01mFalse\u001b[39;49;00m\u001b[43m,\u001b[49m\n\u001b[0;32m   1080\u001b[0m \u001b[43m\u001b[49m\u001b[43m)\u001b[49m\n",
      "File \u001b[1;32m~\\anaconda3\\lib\\site-packages\\ipykernel\\kernelbase.py:1120\u001b[0m, in \u001b[0;36mKernel._input_request\u001b[1;34m(self, prompt, ident, parent, password)\u001b[0m\n\u001b[0;32m   1117\u001b[0m             \u001b[38;5;28;01mbreak\u001b[39;00m\n\u001b[0;32m   1118\u001b[0m \u001b[38;5;28;01mexcept\u001b[39;00m \u001b[38;5;167;01mKeyboardInterrupt\u001b[39;00m:\n\u001b[0;32m   1119\u001b[0m     \u001b[38;5;66;03m# re-raise KeyboardInterrupt, to truncate traceback\u001b[39;00m\n\u001b[1;32m-> 1120\u001b[0m     \u001b[38;5;28;01mraise\u001b[39;00m \u001b[38;5;167;01mKeyboardInterrupt\u001b[39;00m(\u001b[38;5;124m\"\u001b[39m\u001b[38;5;124mInterrupted by user\u001b[39m\u001b[38;5;124m\"\u001b[39m) \u001b[38;5;28;01mfrom\u001b[39;00m \u001b[38;5;28mNone\u001b[39m\n\u001b[0;32m   1121\u001b[0m \u001b[38;5;28;01mexcept\u001b[39;00m \u001b[38;5;167;01mException\u001b[39;00m:\n\u001b[0;32m   1122\u001b[0m     \u001b[38;5;28mself\u001b[39m\u001b[38;5;241m.\u001b[39mlog\u001b[38;5;241m.\u001b[39mwarning(\u001b[38;5;124m\"\u001b[39m\u001b[38;5;124mInvalid Message:\u001b[39m\u001b[38;5;124m\"\u001b[39m, exc_info\u001b[38;5;241m=\u001b[39m\u001b[38;5;28;01mTrue\u001b[39;00m)\n",
      "\u001b[1;31mKeyboardInterrupt\u001b[0m: Interrupted by user"
     ]
    }
   ],
   "source": [
    "while True:\n",
    "    us=input()\n",
    "    try:\n",
    "        if len(us)>1:\n",
    "            pass\n",
    "    except EOFError:\n",
    "        break\n",
    "        "
   ]
  },
  {
   "cell_type": "code",
   "execution_count": 99,
   "id": "cca6f779",
   "metadata": {},
   "outputs": [
    {
     "name": "stdout",
     "output_type": "stream",
     "text": [
      "\n",
      "yes\n"
     ]
    }
   ],
   "source": [
    "us=input()\n",
    "if len(us)==0:\n",
    "    print(\"yes\")\n",
    "else:\n",
    "    print(\"no\")"
   ]
  },
  {
   "cell_type": "code",
   "execution_count": 12,
   "id": "7d4ea31d",
   "metadata": {},
   "outputs": [],
   "source": [
    "import emoji"
   ]
  },
  {
   "cell_type": "code",
   "execution_count": 13,
   "id": "dc037c15",
   "metadata": {},
   "outputs": [
    {
     "name": "stdout",
     "output_type": "stream",
     "text": [
      ":earth_americas:\n",
      "Output ::earth_americas:\n"
     ]
    }
   ],
   "source": [
    "s=input()\n",
    "emo_Con=emoji.emojize(s),\n",
    "print(f\"Output :{emo_Con}\")"
   ]
  },
  {
   "cell_type": "code",
   "execution_count": 3,
   "id": "f1b8a7dc",
   "metadata": {},
   "outputs": [
    {
     "data": {
      "text/plain": [
       "['asd']"
      ]
     },
     "execution_count": 3,
     "metadata": {},
     "output_type": "execute_result"
    }
   ],
   "source": [
    "lst=['asd']\n",
    "lst[0:]"
   ]
  },
  {
   "cell_type": "code",
   "execution_count": null,
   "id": "5c0b2f02",
   "metadata": {},
   "outputs": [],
   "source": [
    "from pyfiglet import Figlet\n"
   ]
  },
  {
   "cell_type": "code",
   "execution_count": 8,
   "id": "f10bfec6",
   "metadata": {},
   "outputs": [],
   "source": [
    "s=\"a\"\n",
    "t=\"aa\"\n",
    "for i in range(len(t)):\n",
    "    if t[i] in s:\n",
    "        pass\n",
    "    else:\n",
    "        print(t[i])"
   ]
  },
  {
   "cell_type": "code",
   "execution_count": 18,
   "id": "e970cae7",
   "metadata": {},
   "outputs": [
    {
     "ename": "AttributeError",
     "evalue": "'str' object has no attribute 'intersection'",
     "output_type": "error",
     "traceback": [
      "\u001b[1;31m---------------------------------------------------------------------------\u001b[0m",
      "\u001b[1;31mAttributeError\u001b[0m                            Traceback (most recent call last)",
      "Input \u001b[1;32mIn [18]\u001b[0m, in \u001b[0;36m<cell line: 4>\u001b[1;34m()\u001b[0m\n\u001b[0;32m      1\u001b[0m s\u001b[38;5;241m=\u001b[39m\u001b[38;5;124m'\u001b[39m\u001b[38;5;124ma\u001b[39m\u001b[38;5;124m'\u001b[39m\n\u001b[0;32m      2\u001b[0m t\u001b[38;5;241m=\u001b[39m\u001b[38;5;124m'\u001b[39m\u001b[38;5;124maa\u001b[39m\u001b[38;5;124m'\u001b[39m\n\u001b[1;32m----> 4\u001b[0m r\u001b[38;5;241m=\u001b[39m\u001b[43ms\u001b[49m\u001b[38;5;241;43m.\u001b[39;49m\u001b[43mintersection\u001b[49m(t)\n\u001b[0;32m      5\u001b[0m \u001b[38;5;28mprint\u001b[39m(r)\n",
      "\u001b[1;31mAttributeError\u001b[0m: 'str' object has no attribute 'intersection'"
     ]
    }
   ],
   "source": [
    "s='a'\n",
    "t='aa'\n",
    "\n",
    "r=s.intersection(t)\n",
    "print(r)"
   ]
  },
  {
   "cell_type": "code",
   "execution_count": null,
   "id": "db08070e",
   "metadata": {},
   "outputs": [],
   "source": [
    "s='a'\n",
    "t='aa'\n",
    "length_s=len(s)\n",
    "length_t=len(t)\n",
    "if length_t>length_s:\n",
    "    "
   ]
  },
  {
   "cell_type": "code",
   "execution_count": null,
   "id": "5d2e1592",
   "metadata": {},
   "outputs": [],
   "source": []
  }
 ],
 "metadata": {
  "kernelspec": {
   "display_name": "Python 3 (ipykernel)",
   "language": "python",
   "name": "python3"
  },
  "language_info": {
   "codemirror_mode": {
    "name": "ipython",
    "version": 3
   },
   "file_extension": ".py",
   "mimetype": "text/x-python",
   "name": "python",
   "nbconvert_exporter": "python",
   "pygments_lexer": "ipython3",
   "version": "3.9.12"
  }
 },
 "nbformat": 4,
 "nbformat_minor": 5
}
