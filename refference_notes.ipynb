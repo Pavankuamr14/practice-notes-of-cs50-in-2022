{
 "cells": [
  {
   "cell_type": "code",
   "execution_count": 4,
   "id": "4dcbc3e0",
   "metadata": {},
   "outputs": [
    {
     "name": "stdout",
     "output_type": "stream",
     "text": [
      "dv\n",
      "fdb\n",
      "ds\n",
      "\n"
     ]
    }
   ],
   "source": [
    "while True:\n",
    "    try:\n",
    "        item = input()\n",
    "        if len(item)==0:\n",
    "            raise EOFError\n",
    "    except EOFError:\n",
    "        break\n",
    "\n"
   ]
  },
  {
   "cell_type": "code",
   "execution_count": 5,
   "id": "ce6c3353",
   "metadata": {},
   "outputs": [
    {
     "name": "stdout",
     "output_type": "stream",
     "text": [
      "Item: dfs\n",
      "<function user_input at 0x0000023674BA0820>\n"
     ]
    }
   ],
   "source": [
    "def main():\n",
    "    us=user_input()\n",
    "    print(us)\n",
    "def user_input():\n",
    "    while True:\n",
    "        \n",
    "        try:\n",
    "            user_input_item=input(\"Item: \")\n",
    "            if len(user_input_item)==0:\n",
    "                raise EOFError\n",
    "        except EOFError:\n",
    "            break\n",
    "            \n",
    "        return user_input\n",
    "def items(us):\n",
    "    price=0\n",
    "    dic={\n",
    "        \"Baja Taco\": 4.00,\n",
    "    \"Burrito\": 7.50,\n",
    "    \"Bowl\": 8.50,\n",
    "    \"Nachos\": 11.00,\n",
    "    \"Quesadilla\": 8.50,\n",
    "    \"Super Burrito\": 8.50,\n",
    "    \"Super Quesadilla\": 9.50,\n",
    "    \"Taco\": 3.00,\n",
    "    \"Tortilla Salad\": 8.00\n",
    "        \n",
    "    }\n",
    "#     if us in dic:\n",
    "    \n",
    "main()"
   ]
  },
  {
   "cell_type": "code",
   "execution_count": 12,
   "id": "c850b416",
   "metadata": {},
   "outputs": [
    {
     "ename": "IndentationError",
     "evalue": "unindent does not match any outer indentation level (<tokenize>, line 28)",
     "output_type": "error",
     "traceback": [
      "\u001b[1;36m  File \u001b[1;32m<tokenize>:28\u001b[1;36m\u001b[0m\n\u001b[1;33m    except EOFError:\u001b[0m\n\u001b[1;37m    ^\u001b[0m\n\u001b[1;31mIndentationError\u001b[0m\u001b[1;31m:\u001b[0m unindent does not match any outer indentation level\n"
     ]
    }
   ],
   "source": []
  },
  {
   "cell_type": "code",
   "execution_count": 32,
   "id": "93507732",
   "metadata": {},
   "outputs": [
    {
     "name": "stdout",
     "output_type": "stream",
     "text": [
      "Item: super quesadilla\n",
      "Total: 9.5\n",
      "Item: \n"
     ]
    }
   ],
   "source": [
    "def main():\n",
    "    price=0\n",
    "    while True:\n",
    "    #     price=0\n",
    "        try:\n",
    "            dic={\"Baja Taco\": 4.00,\n",
    "        \"Burrito\": 7.50,\n",
    "        \"Bowl\": 8.50,\n",
    "        \"Nachos\": 11.00,\n",
    "        \"Quesadilla\": 8.50,\n",
    "        \"Super Burrito\": 8.50,\n",
    "        \"Super Quesadilla\": 9.50,\n",
    "        \"Taco\": 3.00,\n",
    "        \"Tortilla Salad\": 8.00}\n",
    "            us=input(\"Item: \").title()\n",
    "            if len(us)==0:\n",
    "                raise EOFError\n",
    "            else:\n",
    "                if us in dic:\n",
    "                    price+=dic[us]\n",
    "                    print(f\"Total: {price}\")\n",
    "\n",
    "        except EOFError:\n",
    "            break\n",
    "main()\n",
    "\n",
    "    "
   ]
  },
  {
   "cell_type": "code",
   "execution_count": 35,
   "id": "cee8647b",
   "metadata": {},
   "outputs": [
    {
     "name": "stdout",
     "output_type": "stream",
     "text": [
      "Item: sd\n"
     ]
    }
   ],
   "source": [
    "def main():\n",
    "    price=Total()\n",
    "def Total():\n",
    "    price=0\n",
    "    while True:\n",
    "    #     price=0\n",
    "        try:\n",
    "            dic={\"Baja Taco\": 4.00,\n",
    "        \"Burrito\": 7.50,\n",
    "        \"Bowl\": 8.50,\n",
    "        \"Nachos\": 11.00,\n",
    "        \"Quesadilla\": 8.50,\n",
    "        \"Super Burrito\": 8.50,\n",
    "        \"Super Quesadilla\": 9.50,\n",
    "        \"Taco\": 3.00,\n",
    "        \"Tortilla Salad\": 8.00}\n",
    "            us=input(\"Item: \").title()\n",
    "            if len(us)==0:\n",
    "                raise EOFError\n",
    "            else:\n",
    "                if us in dic:\n",
    "                    price+=dic[us]\n",
    "                    #print(f\"Total: {str(price)+'0'}\")\n",
    "\n",
    "        except EOFError:\n",
    "            break\n",
    "        return f\"Total: {str(price)+'0'}\"\n",
    "main()\n",
    "\n"
   ]
  },
  {
   "cell_type": "code",
   "execution_count": 1,
   "id": "f4d10f8c",
   "metadata": {},
   "outputs": [
    {
     "name": "stdout",
     "output_type": "stream",
     "text": [
      "september\n",
      "0\n"
     ]
    }
   ],
   "source": [
    "lst=[\n",
    "    \"January\",\n",
    "    \"February\",\n",
    "    \"March\",\n",
    "    \"April\",\n",
    "    \"May\",\n",
    "    \"June\",\n",
    "    \"July\",\n",
    "    \"August\",\n",
    "    \"September\",\n",
    "    \"October\",\n",
    "    \"November\",\n",
    "    \"December\"\n",
    "]\n",
    "us=input().title()\n",
    "if us in lst:\n",
    "    print(us.index(us))\n"
   ]
  },
  {
   "cell_type": "code",
   "execution_count": 4,
   "id": "b7586f3b",
   "metadata": {},
   "outputs": [
    {
     "data": {
      "text/plain": [
       "False"
      ]
     },
     "execution_count": 4,
     "metadata": {},
     "output_type": "execute_result"
    }
   ],
   "source": [
    "s=\"September 8, 1636\".isalnum()\n",
    "s"
   ]
  },
  {
   "cell_type": "code",
   "execution_count": 5,
   "id": "89da971f",
   "metadata": {},
   "outputs": [
    {
     "ename": "SyntaxError",
     "evalue": "invalid character '🥇' (U+1F947) (1619957503.py, line 2)",
     "output_type": "error",
     "traceback": [
      "\u001b[1;36m  Input \u001b[1;32mIn [5]\u001b[1;36m\u001b[0m\n\u001b[1;33m    🥇\t:1st_place_medal,\u001b[0m\n\u001b[1;37m    ^\u001b[0m\n\u001b[1;31mSyntaxError\u001b[0m\u001b[1;31m:\u001b[0m invalid character '🥇' (U+1F947)\n"
     ]
    }
   ],
   "source": [
    "dic={\n",
    "    🥇\t:1st_place_medal,\n",
    "    🥈\t:2nd_place_medal:,\n",
    "    🥉\t:3rd_place_medal:,\n",
    "    \n",
    "}"
   ]
  },
  {
   "cell_type": "code",
   "execution_count": 7,
   "id": "7f1e860f",
   "metadata": {},
   "outputs": [
    {
     "data": {
      "text/plain": [
       "':earth_africa:'"
      ]
     },
     "execution_count": 7,
     "metadata": {},
     "output_type": "execute_result"
    }
   ],
   "source": [
    "s=':earth_africa:'\n",
    "s"
   ]
  },
  {
   "cell_type": "code",
   "execution_count": 2,
   "id": "63c30b7c",
   "metadata": {},
   "outputs": [
    {
     "name": "stdout",
     "output_type": "stream",
     "text": [
      "Requirement already satisfied: emoji in c:\\users\\pavan sai kumar\\anaconda3\\lib\\site-packages (2.8.0)\n",
      "Note: you may need to restart the kernel to use updated packages.\n"
     ]
    },
    {
     "name": "stderr",
     "output_type": "stream",
     "text": [
      "\n",
      "[notice] A new release of pip is available: 23.0.1 -> 23.2.1\n",
      "[notice] To update, run: python.exe -m pip install --upgrade pip\n"
     ]
    }
   ],
   "source": [
    "pip install emoji"
   ]
  },
  {
   "cell_type": "code",
   "execution_count": 5,
   "id": "fb5482a5",
   "metadata": {},
   "outputs": [
    {
     "name": "stdout",
     "output_type": "stream",
     "text": [
      ":red love:\n",
      "Output: :red love:\n"
     ]
    }
   ],
   "source": [
    "import emoji\n",
    "# s='hello,:red_heart:'\n",
    "s=str(input())\n",
    "op=emoji.emojize(f'{s}',language='alias')\n",
    "print(f'Output: {op}')"
   ]
  },
  {
   "cell_type": "code",
   "execution_count": 32,
   "id": "559ea459",
   "metadata": {},
   "outputs": [],
   "source": [
    "# s='hi,:price:'\n",
    "# s"
   ]
  },
  {
   "cell_type": "code",
   "execution_count": 37,
   "id": "e8d98a7f",
   "metadata": {},
   "outputs": [
    {
     "name": "stdout",
     "output_type": "stream",
     "text": [
      ":thumbs_up:\n",
      "Output: 👍\n"
     ]
    }
   ],
   "source": [
    "us=str(input())\n",
    "# emoji_con=emoji.emojize(us)\n",
    "print(f\"Output: {emoji.emojize(us),la}\")\n"
   ]
  },
  {
   "cell_type": "code",
   "execution_count": 1,
   "id": "c0335698",
   "metadata": {},
   "outputs": [
    {
     "name": "stdout",
     "output_type": "stream",
     "text": [
      "Collecting pyfiglet\n",
      "  Downloading pyfiglet-0.8.post1-py2.py3-none-any.whl (865 kB)\n",
      "     ------------------------------------ 865.8/865.8 kB 120.9 kB/s eta 0:00:00\n",
      "Installing collected packages: pyfiglet\n",
      "Successfully installed pyfiglet-0.8.post1\n",
      "Note: you may need to restart the kernel to use updated packages.\n"
     ]
    },
    {
     "name": "stderr",
     "output_type": "stream",
     "text": [
      "\n",
      "[notice] A new release of pip is available: 23.0.1 -> 23.2.1\n",
      "[notice] To update, run: python.exe -m pip install --upgrade pip\n"
     ]
    }
   ],
   "source": [
    "pip install pyfiglet"
   ]
  },
  {
   "cell_type": "code",
   "execution_count": 9,
   "id": "b1a58d3e",
   "metadata": {},
   "outputs": [
    {
     "ename": "AttributeError",
     "evalue": "'FigletString' object has no attribute 'setFont'",
     "output_type": "error",
     "traceback": [
      "\u001b[1;31m---------------------------------------------------------------------------\u001b[0m",
      "\u001b[1;31mAttributeError\u001b[0m                            Traceback (most recent call last)",
      "Input \u001b[1;32mIn [9]\u001b[0m, in \u001b[0;36m<cell line: 5>\u001b[1;34m()\u001b[0m\n\u001b[0;32m      2\u001b[0m figlet\u001b[38;5;241m=\u001b[39mFiglet()\n\u001b[0;32m      3\u001b[0m \u001b[38;5;66;03m# figlet.getFonts(f)\u001b[39;00m\n\u001b[0;32m      4\u001b[0m \u001b[38;5;66;03m# figlet.setFont(font=f)\u001b[39;00m\n\u001b[1;32m----> 5\u001b[0m \u001b[38;5;28mprint\u001b[39m(\u001b[43mfiglet\u001b[49m\u001b[38;5;241;43m.\u001b[39;49m\u001b[43mrenderText\u001b[49m\u001b[43m(\u001b[49m\u001b[38;5;124;43m\"\u001b[39;49m\u001b[38;5;124;43msys.exit\u001b[39;49m\u001b[38;5;124;43m\"\u001b[39;49m\u001b[43m)\u001b[49m\u001b[38;5;241;43m.\u001b[39;49m\u001b[43msetFont\u001b[49m(font\u001b[38;5;241m=\u001b[39mf))\n",
      "\u001b[1;31mAttributeError\u001b[0m: 'FigletString' object has no attribute 'setFont'"
     ]
    }
   ],
   "source": [
    "from pyfiglet import Figlet\n",
    "figlet=Figlet()\n",
    "# figlet.getFonts(f)\n",
    "# figlet.setFont(font=f)\n",
    "print(figlet.renderText(\"sys.exit\").setFont(font=f))"
   ]
  },
  {
   "cell_type": "code",
   "execution_count": 10,
   "id": "0922702d",
   "metadata": {},
   "outputs": [
    {
     "name": "stdout",
     "output_type": "stream",
     "text": [
      "1636-09-08 \n"
     ]
    },
    {
     "ename": "AttributeError",
     "evalue": "'str' object has no attribute 'year'",
     "output_type": "error",
     "traceback": [
      "\u001b[1;31m---------------------------------------------------------------------------\u001b[0m",
      "\u001b[1;31mAttributeError\u001b[0m                            Traceback (most recent call last)",
      "Input \u001b[1;32mIn [10]\u001b[0m, in \u001b[0;36m<cell line: 3>\u001b[1;34m()\u001b[0m\n\u001b[0;32m      1\u001b[0m \u001b[38;5;28;01mimport\u001b[39;00m \u001b[38;5;21;01mdatetime\u001b[39;00m\n\u001b[0;32m      2\u001b[0m us\u001b[38;5;241m=\u001b[39m\u001b[38;5;28minput\u001b[39m()\n\u001b[1;32m----> 3\u001b[0m \u001b[38;5;28mprint\u001b[39m(\u001b[43mus\u001b[49m\u001b[38;5;241;43m.\u001b[39;49m\u001b[43myear\u001b[49m)\n\u001b[0;32m      4\u001b[0m \u001b[38;5;28mprint\u001b[39m(us\u001b[38;5;241m.\u001b[39mmonth)\n\u001b[0;32m      5\u001b[0m \u001b[38;5;28mprint\u001b[39m(us\u001b[38;5;241m.\u001b[39mday)\n",
      "\u001b[1;31mAttributeError\u001b[0m: 'str' object has no attribute 'year'"
     ]
    }
   ],
   "source": [
    "import datetime\n",
    "us=input()\n",
    "print(us.year)\n",
    "print(us.month)\n",
    "print(us.day)"
   ]
  },
  {
   "cell_type": "code",
   "execution_count": 11,
   "id": "afa462f6",
   "metadata": {},
   "outputs": [
    {
     "name": "stdout",
     "output_type": "stream",
     "text": [
      "2020-05-17 00:00:00\n"
     ]
    }
   ],
   "source": [
    "import datetime\n",
    "\n",
    "x = datetime.datetime(2020, 5, 17)\n",
    "\n",
    "print(x)"
   ]
  },
  {
   "cell_type": "code",
   "execution_count": 13,
   "id": "fba134d8",
   "metadata": {},
   "outputs": [
    {
     "name": "stdout",
     "output_type": "stream",
     "text": [
      "January\n"
     ]
    }
   ],
   "source": [
    "import datetime\n",
    "\n",
    "x = datetime.datetime(2018, 1, 1)\n",
    "\n",
    "print(x.strftime(\"%B\"))"
   ]
  },
  {
   "cell_type": "code",
   "execution_count": 6,
   "id": "0ca0aeb4",
   "metadata": {},
   "outputs": [
    {
     "name": "stdout",
     "output_type": "stream",
     "text": [
      "Too few arguments\n"
     ]
    }
   ],
   "source": [
    "import sys\n",
    "\n",
    "try:\n",
    "    print(\"hello, my name is\", sys.argv[3])\n",
    "except IndexError:\n",
    "    print(\"Too few arguments\")"
   ]
  },
  {
   "cell_type": "code",
   "execution_count": 7,
   "id": "1ac8c346",
   "metadata": {},
   "outputs": [
    {
     "name": "stdout",
     "output_type": "stream",
     "text": [
      "hello, my name is C:\\Users\\PAVAN SAI KUMAR\\anaconda3\\lib\\site-packages\\ipykernel_launcher.py\n",
      "hello, my name is -f\n",
      "hello, my name is C:\\Users\\PAVAN SAI KUMAR\\AppData\\Roaming\\jupyter\\runtime\\kernel-15a40323-60f7-4db9-a904-3273949b42a3.json\n"
     ]
    }
   ],
   "source": [
    "import sys\n",
    "\n",
    "if len(sys.argv) < 2:\n",
    "    sys.exit(\"Too few arguments\")\n",
    "\n",
    "for arg in sys.argv:\n",
    "    print(\"hello, my name is\", arg)"
   ]
  },
  {
   "cell_type": "code",
   "execution_count": null,
   "id": "8ec09e55",
   "metadata": {},
   "outputs": [],
   "source": [
    "import sys\n",
    "from pyfiglet import Figlet\n",
    "lst=[]\n",
    "lst.append(figlet.getFonts())\n",
    "figlet = Figlet()"
   ]
  },
  {
   "cell_type": "code",
   "execution_count": 10,
   "id": "6670e3af",
   "metadata": {},
   "outputs": [
    {
     "name": "stdout",
     "output_type": "stream",
     "text": [
      "Collecting cowsay\n",
      "  Downloading cowsay-5.0.tar.gz (25 kB)\n",
      "  Preparing metadata (setup.py): started\n",
      "  Preparing metadata (setup.py): finished with status 'done'\n",
      "Building wheels for collected packages: cowsay\n",
      "  Building wheel for cowsay (setup.py): started\n",
      "  Building wheel for cowsay (setup.py): finished with status 'done'\n",
      "  Created wheel for cowsay: filename=cowsay-5.0-py2.py3-none-any.whl size=25722 sha256=96e799858a0b042c429d73da0d9b77b84e857c3153ce61bf49566735496bb655\n",
      "  Stored in directory: c:\\users\\pavan sai kumar\\appdata\\local\\pip\\cache\\wheels\\ed\\ee\\26\\30026972333fe8a4a761d4e27db8b6cab3e78b1c2e3bab3e90\n",
      "Successfully built cowsay\n",
      "Installing collected packages: cowsay\n",
      "Successfully installed cowsay-5.0\n"
     ]
    },
    {
     "name": "stderr",
     "output_type": "stream",
     "text": [
      "\n",
      "[notice] A new release of pip is available: 23.0.1 -> 23.2.1\n",
      "[notice] To update, run: python.exe -m pip install --upgrade pip\n"
     ]
    }
   ],
   "source": [
    "!pip install cowsay\n",
    "import cowsay\n",
    "import sys\n",
    "\n",
    "if len(sys.argv) == 2:\n",
    "    cowsay.cow(\"hello, \" + sys.argv[1])"
   ]
  },
  {
   "cell_type": "code",
   "execution_count": 11,
   "id": "b865f644",
   "metadata": {},
   "outputs": [],
   "source": [
    "import cowsay\n",
    "import sys\n",
    "\n",
    "if len(sys.argv) == 2:\n",
    "    cowsay.cow(\"hello, \" + sys.argv[1])"
   ]
  },
  {
   "cell_type": "code",
   "execution_count": 19,
   "id": "0d40964d",
   "metadata": {},
   "outputs": [
    {
     "name": "stdout",
     "output_type": "stream",
     "text": [
      "Input: ads\n"
     ]
    },
    {
     "data": {
      "text/plain": [
       "False"
      ]
     },
     "execution_count": 19,
     "metadata": {},
     "output_type": "execute_result"
    }
   ],
   "source": [
    "user_input=input(\"Input: \")\n",
    "type(user_input) is int\n"
   ]
  },
  {
   "cell_type": "code",
   "execution_count": 30,
   "id": "fe8237e6",
   "metadata": {},
   "outputs": [
    {
     "name": "stdout",
     "output_type": "stream",
     "text": [
      "Guess: n\n",
      "Guess: \n",
      "Guess: \n",
      "Guess: 12\n",
      "Too small!\n",
      "Guess: 12\n",
      "Too small!\n",
      "Guess: 15\n",
      "Too small!\n",
      "Guess: 20\n",
      "Too small!\n",
      "Guess: 25\n",
      "Too small!\n",
      "Guess: 50\n",
      "Too small!\n",
      "Guess: 70\n",
      "Too large!\n",
      "Guess: 60\n",
      "Too large!\n",
      "Guess: 55\n",
      "Too large!\n",
      "Guess: 54\n",
      "Too large!\n",
      "Guess: 53\n",
      "Just right!\n"
     ]
    }
   ],
   "source": [
    "import random\n",
    "number =random.randint(1,100)\n",
    "while True:\n",
    "    count_number=0\n",
    "    try:\n",
    "#         print(f'Level: {number}')\n",
    "        user_input=int(input(\"Guess: \"))\n",
    "        if type(user_input) is int:\n",
    "            count_number+=user_input\n",
    "            if count_number>number:\n",
    "                print(\"Too large!\")\n",
    "            elif count_number<number:\n",
    "                print(\"Too small!\")\n",
    "            else:\n",
    "                print(\"Just right!\")\n",
    "                break\n",
    "        else:\n",
    "            raise ValueError\n",
    "    except ValueError:\n",
    "        pass\n",
    "\n",
    "\n",
    "\n",
    "\n"
   ]
  },
  {
   "cell_type": "code",
   "execution_count": 35,
   "id": "bd07c11a",
   "metadata": {},
   "outputs": [
    {
     "name": "stdout",
     "output_type": "stream",
     "text": [
      "Level: ds\n",
      "Level: 23\n",
      "Level: \n"
     ]
    },
    {
     "ename": "KeyboardInterrupt",
     "evalue": "Interrupted by user",
     "output_type": "error",
     "traceback": [
      "\u001b[1;31m---------------------------------------------------------------------------\u001b[0m",
      "\u001b[1;31mKeyboardInterrupt\u001b[0m                         Traceback (most recent call last)",
      "Input \u001b[1;32mIn [35]\u001b[0m, in \u001b[0;36m<cell line: 2>\u001b[1;34m()\u001b[0m\n\u001b[0;32m      2\u001b[0m count_number\u001b[38;5;241m=\u001b[39m\u001b[38;5;241m0\u001b[39m\n\u001b[0;32m      3\u001b[0m \u001b[38;5;28;01mtry\u001b[39;00m:\n\u001b[1;32m----> 4\u001b[0m     level\u001b[38;5;241m=\u001b[39m\u001b[38;5;28;43minput\u001b[39;49m\u001b[43m(\u001b[49m\u001b[38;5;124;43m\"\u001b[39;49m\u001b[38;5;124;43mLevel: \u001b[39;49m\u001b[38;5;124;43m\"\u001b[39;49m\u001b[43m)\u001b[49m\n\u001b[0;32m      5\u001b[0m     \u001b[38;5;28;01mif\u001b[39;00m \u001b[38;5;28mtype\u001b[39m(level) \u001b[38;5;129;01mis\u001b[39;00m \u001b[38;5;28mint\u001b[39m:\n\u001b[0;32m      6\u001b[0m         guess\u001b[38;5;241m=\u001b[39m\u001b[38;5;28minput\u001b[39m(\u001b[38;5;124m\"\u001b[39m\u001b[38;5;124mGuess: \u001b[39m\u001b[38;5;124m\"\u001b[39m)\n",
      "File \u001b[1;32m~\\anaconda3\\lib\\site-packages\\ipykernel\\kernelbase.py:1075\u001b[0m, in \u001b[0;36mKernel.raw_input\u001b[1;34m(self, prompt)\u001b[0m\n\u001b[0;32m   1071\u001b[0m \u001b[38;5;28;01mif\u001b[39;00m \u001b[38;5;129;01mnot\u001b[39;00m \u001b[38;5;28mself\u001b[39m\u001b[38;5;241m.\u001b[39m_allow_stdin:\n\u001b[0;32m   1072\u001b[0m     \u001b[38;5;28;01mraise\u001b[39;00m StdinNotImplementedError(\n\u001b[0;32m   1073\u001b[0m         \u001b[38;5;124m\"\u001b[39m\u001b[38;5;124mraw_input was called, but this frontend does not support input requests.\u001b[39m\u001b[38;5;124m\"\u001b[39m\n\u001b[0;32m   1074\u001b[0m     )\n\u001b[1;32m-> 1075\u001b[0m \u001b[38;5;28;01mreturn\u001b[39;00m \u001b[38;5;28;43mself\u001b[39;49m\u001b[38;5;241;43m.\u001b[39;49m\u001b[43m_input_request\u001b[49m\u001b[43m(\u001b[49m\n\u001b[0;32m   1076\u001b[0m \u001b[43m    \u001b[49m\u001b[38;5;28;43mstr\u001b[39;49m\u001b[43m(\u001b[49m\u001b[43mprompt\u001b[49m\u001b[43m)\u001b[49m\u001b[43m,\u001b[49m\n\u001b[0;32m   1077\u001b[0m \u001b[43m    \u001b[49m\u001b[38;5;28;43mself\u001b[39;49m\u001b[38;5;241;43m.\u001b[39;49m\u001b[43m_parent_ident\u001b[49m\u001b[43m[\u001b[49m\u001b[38;5;124;43m\"\u001b[39;49m\u001b[38;5;124;43mshell\u001b[39;49m\u001b[38;5;124;43m\"\u001b[39;49m\u001b[43m]\u001b[49m\u001b[43m,\u001b[49m\n\u001b[0;32m   1078\u001b[0m \u001b[43m    \u001b[49m\u001b[38;5;28;43mself\u001b[39;49m\u001b[38;5;241;43m.\u001b[39;49m\u001b[43mget_parent\u001b[49m\u001b[43m(\u001b[49m\u001b[38;5;124;43m\"\u001b[39;49m\u001b[38;5;124;43mshell\u001b[39;49m\u001b[38;5;124;43m\"\u001b[39;49m\u001b[43m)\u001b[49m\u001b[43m,\u001b[49m\n\u001b[0;32m   1079\u001b[0m \u001b[43m    \u001b[49m\u001b[43mpassword\u001b[49m\u001b[38;5;241;43m=\u001b[39;49m\u001b[38;5;28;43;01mFalse\u001b[39;49;00m\u001b[43m,\u001b[49m\n\u001b[0;32m   1080\u001b[0m \u001b[43m\u001b[49m\u001b[43m)\u001b[49m\n",
      "File \u001b[1;32m~\\anaconda3\\lib\\site-packages\\ipykernel\\kernelbase.py:1120\u001b[0m, in \u001b[0;36mKernel._input_request\u001b[1;34m(self, prompt, ident, parent, password)\u001b[0m\n\u001b[0;32m   1117\u001b[0m             \u001b[38;5;28;01mbreak\u001b[39;00m\n\u001b[0;32m   1118\u001b[0m \u001b[38;5;28;01mexcept\u001b[39;00m \u001b[38;5;167;01mKeyboardInterrupt\u001b[39;00m:\n\u001b[0;32m   1119\u001b[0m     \u001b[38;5;66;03m# re-raise KeyboardInterrupt, to truncate traceback\u001b[39;00m\n\u001b[1;32m-> 1120\u001b[0m     \u001b[38;5;28;01mraise\u001b[39;00m \u001b[38;5;167;01mKeyboardInterrupt\u001b[39;00m(\u001b[38;5;124m\"\u001b[39m\u001b[38;5;124mInterrupted by user\u001b[39m\u001b[38;5;124m\"\u001b[39m) \u001b[38;5;28;01mfrom\u001b[39;00m \u001b[38;5;28mNone\u001b[39m\n\u001b[0;32m   1121\u001b[0m \u001b[38;5;28;01mexcept\u001b[39;00m \u001b[38;5;167;01mException\u001b[39;00m:\n\u001b[0;32m   1122\u001b[0m     \u001b[38;5;28mself\u001b[39m\u001b[38;5;241m.\u001b[39mlog\u001b[38;5;241m.\u001b[39mwarning(\u001b[38;5;124m\"\u001b[39m\u001b[38;5;124mInvalid Message:\u001b[39m\u001b[38;5;124m\"\u001b[39m, exc_info\u001b[38;5;241m=\u001b[39m\u001b[38;5;28;01mTrue\u001b[39;00m)\n",
      "\u001b[1;31mKeyboardInterrupt\u001b[0m: Interrupted by user"
     ]
    }
   ],
   "source": [
    "while True:\n",
    "    count_number=0\n",
    "    try:\n",
    "        level=input(\"Level: \")\n",
    "        if type(level) is int:\n",
    "            guess=input(\"Guess: \")\n",
    "            if type(guess) is int:\n",
    "                count_number+=guess\n",
    "                break\n",
    "                if count_number>level:\n",
    "                    print(\"Too large!\")\n",
    "                elif count_number<level:\n",
    "                    print(\"Too small!\")\n",
    "                else:\n",
    "                    print(\"Just right!\")\n",
    "                break\n",
    "            else:\n",
    "                raise ValueError\n",
    "        else:\n",
    "            raise ValueError\n",
    "    except ValueError:\n",
    "        pass\n",
    "        \n"
   ]
  },
  {
   "cell_type": "code",
   "execution_count": 6,
   "id": "b8d23a41",
   "metadata": {},
   "outputs": [
    {
     "ename": "SyntaxError",
     "evalue": "unexpected EOF while parsing (753545550.py, line 13)",
     "output_type": "error",
     "traceback": [
      "\u001b[1;36m  Input \u001b[1;32mIn [6]\u001b[1;36m\u001b[0m\n\u001b[1;33m    \u001b[0m\n\u001b[1;37m    ^\u001b[0m\n\u001b[1;31mSyntaxError\u001b[0m\u001b[1;31m:\u001b[0m unexpected EOF while parsing\n"
     ]
    }
   ],
   "source": [
    "while True:\n",
    "    count_number=0\n",
    "    try:\n",
    "        level=input()\n",
    "        if level.isalpha():\n",
    "            guess=input()\n",
    "            if guess.isalpha():\n",
    "                count_number+=guess\n",
    "            else:\n",
    "                raise ValueError\n",
    "        else:\n",
    "            raise ValueError\n",
    "            "
   ]
  },
  {
   "cell_type": "code",
   "execution_count": 8,
   "id": "6c4bc3f8",
   "metadata": {},
   "outputs": [
    {
     "name": "stdout",
     "output_type": "stream",
     "text": [
      "Collecting inflect\n",
      "  Downloading inflect-7.0.0-py3-none-any.whl (34 kB)\n",
      "Requirement already satisfied: typing-extensions in c:\\users\\pavan sai kumar\\anaconda3\\lib\\site-packages (from inflect) (4.1.1)\n",
      "Collecting pydantic>=1.9.1\n",
      "  Downloading pydantic-2.3.0-py3-none-any.whl (374 kB)\n",
      "     ------------------------------------- 374.5/374.5 kB 30.2 kB/s eta 0:00:00\n",
      "Collecting pydantic-core==2.6.3\n",
      "  Downloading pydantic_core-2.6.3-cp39-none-win_amd64.whl (1.7 MB)\n",
      "     ---------------------------------------- 1.7/1.7 MB 55.9 kB/s eta 0:00:00\n",
      "Collecting typing-extensions\n",
      "  Using cached typing_extensions-4.7.1-py3-none-any.whl (33 kB)\n",
      "Collecting annotated-types>=0.4.0\n",
      "  Using cached annotated_types-0.5.0-py3-none-any.whl (11 kB)\n",
      "Installing collected packages: typing-extensions, annotated-types, pydantic-core, pydantic, inflect\n",
      "  Attempting uninstall: typing-extensions\n",
      "    Found existing installation: typing_extensions 4.1.1\n",
      "    Uninstalling typing_extensions-4.1.1:\n",
      "      Successfully uninstalled typing_extensions-4.1.1\n",
      "Successfully installed annotated-types-0.5.0 inflect-7.0.0 pydantic-2.3.0 pydantic-core-2.6.3 typing-extensions-4.7.1\n"
     ]
    },
    {
     "name": "stderr",
     "output_type": "stream",
     "text": [
      "\n",
      "[notice] A new release of pip is available: 23.0.1 -> 23.2.1\n",
      "[notice] To update, run: python.exe -m pip install --upgrade pip\n"
     ]
    },
    {
     "name": "stdout",
     "output_type": "stream",
     "text": [
      "Collecting inflect\n",
      "  Using cached inflect-7.0.0-py3-none-any.whl (34 kB)\n",
      "Note: you may need to restart the kernel to use updated packages.\n"
     ]
    },
    {
     "name": "stderr",
     "output_type": "stream",
     "text": [
      "WARNING: Error parsing requirements for typing-extensions: [Errno 2] No such file or directory: 'c:\\\\users\\\\pavan sai kumar\\\\anaconda3\\\\lib\\\\site-packages\\\\typing_extensions-4.1.1.dist-info\\\\METADATA'\n",
      "    WARNING: No metadata found in c:\\users\\pavan sai kumar\\anaconda3\\lib\\site-packages\n",
      "\n",
      "[notice] A new release of pip is available: 23.0.1 -> 23.2.1\n",
      "[notice] To update, run: python.exe -m pip install --upgrade pip\n"
     ]
    },
    {
     "name": "stdout",
     "output_type": "stream",
     "text": [
      "Requirement already satisfied: typing-extensions in c:\\users\\pavan sai kumar\\anaconda3\\lib\\site-packages (from inflect) (4.1.1)\n",
      "Collecting pydantic>=1.9.1\n",
      "  Using cached pydantic-2.3.0-py3-none-any.whl (374 kB)\n",
      "Collecting typing-extensions\n",
      "  Downloading typing_extensions-4.7.1-py3-none-any.whl (33 kB)\n",
      "Collecting pydantic>=1.9.1\n",
      "  Downloading pydantic-2.2.1-py3-none-any.whl (373 kB)\n",
      "     ------------------------------------- 373.4/373.4 kB 52.0 kB/s eta 0:00:00\n",
      "  Downloading pydantic-2.2.0-py3-none-any.whl (373 kB)\n",
      "     ------------------------------------- 373.2/373.2 kB 40.7 kB/s eta 0:00:00\n",
      "Collecting annotated-types>=0.4.0\n",
      "  Downloading annotated_types-0.5.0-py3-none-any.whl (11 kB)\n",
      "Collecting pydantic>=1.9.1\n",
      "  Downloading pydantic-2.1.1-py3-none-any.whl (370 kB)\n",
      "     ------------------------------------- 370.9/370.9 kB 75.2 kB/s eta 0:00:00\n",
      "  Downloading pydantic-2.1.0-py3-none-any.whl (370 kB)\n",
      "     ------------------------------------- 370.8/370.8 kB 63.2 kB/s eta 0:00:00\n",
      "  Downloading pydantic-2.0.3-py3-none-any.whl (364 kB)\n",
      "     ------------------------------------- 364.0/364.0 kB 88.8 kB/s eta 0:00:00\n",
      "  Downloading pydantic-2.0.2-py3-none-any.whl (359 kB)\n",
      "     ------------------------------------ 359.1/359.1 kB 109.5 kB/s eta 0:00:00\n",
      "  Downloading pydantic-2.0.1-py3-none-any.whl (358 kB)\n",
      "     ------------------------------------- 358.4/358.4 kB 30.6 kB/s eta 0:00:00\n",
      "  Downloading pydantic-2.0-py3-none-any.whl (355 kB)\n",
      "     ------------------------------------- 355.6/355.6 kB 72.2 kB/s eta 0:00:00\n",
      "  Downloading pydantic-1.10.12-cp39-cp39-win_amd64.whl (2.2 MB)\n",
      "     ---------------------------------------- 2.2/2.2 MB 97.6 kB/s eta 0:00:00\n",
      "Installing collected packages: typing-extensions, pydantic, inflect\n",
      "  Attempting uninstall: typing-extensions\n",
      "    Found existing installation: typing-extensions 4.1.1\n",
      "    Can't uninstall 'typing-extensions'. No files were found to uninstall.\n",
      "Successfully installed inflect-7.0.0 pydantic-2.3.0 typing-extensions-4.7.1\n"
     ]
    }
   ],
   "source": [
    "pip install inflect"
   ]
  },
  {
   "cell_type": "code",
   "execution_count": 13,
   "id": "69a6f7d5",
   "metadata": {},
   "outputs": [
    {
     "name": "stdout",
     "output_type": "stream",
     "text": [
      "Requirement already satisfied: pip in c:\\users\\pavan sai kumar\\anaconda3\\lib\\site-packages (23.0.1)\n",
      "Collecting pip\n",
      "  Using cached pip-23.2.1-py3-none-any.whl (2.1 MB)\n",
      "Installing collected packages: pip\n",
      "  Attempting uninstall: pip\n",
      "    Found existing installation: pip 23.0.1\n",
      "    Uninstalling pip-23.0.1:\n",
      "      Successfully uninstalled pip-23.0.1\n",
      "Successfully installed pip-23.2.1\n",
      "Note: you may need to restart the kernel to use updated packages.\n"
     ]
    }
   ],
   "source": [
    "pip install --upgrade pip"
   ]
  },
  {
   "cell_type": "code",
   "execution_count": 23,
   "id": "d36b02fe",
   "metadata": {},
   "outputs": [
    {
     "name": "stdout",
     "output_type": "stream",
     "text": [
      "Input: sa\n",
      "['8']\n"
     ]
    }
   ],
   "source": [
    "import inflect\n",
    "p=inflect.engine()\n",
    "while True:\n",
    "    try:\n",
    "        us=input(\"Input: \")\n",
    "        if len(us)!=0:\n",
    "            my_list=p.join(us)\n",
    "            pass\n",
    "        else:\n",
    "            raise IndexError\n",
    "    except:\n",
    "        break\n",
    "        \n",
    "print(my_list)"
   ]
  },
  {
   "cell_type": "code",
   "execution_count": 12,
   "id": "51c96d4f",
   "metadata": {},
   "outputs": [
    {
     "name": "stdout",
     "output_type": "stream",
     "text": [
      "Requirement already satisfied: inflect in c:\\users\\pavan sai kumar\\anaconda3\\lib\\site-packages (7.0.0)\n",
      "Requirement already satisfied: pydantic>=1.9.1 in c:\\users\\pavan sai kumar\\anaconda3\\lib\\site-packages (from inflect) (2.3.0)\n",
      "Requirement already satisfied: typing-extensions in c:\\users\\pavan sai kumar\\anaconda3\\lib\\site-packages (from inflect) (4.7.1)\n",
      "Requirement already satisfied: annotated-types>=0.4.0 in c:\\users\\pavan sai kumar\\anaconda3\\lib\\site-packages (from pydantic>=1.9.1->inflect) (0.5.0)\n",
      "Requirement already satisfied: pydantic-core==2.6.3 in c:\\users\\pavan sai kumar\\anaconda3\\lib\\site-packages (from pydantic>=1.9.1->inflect) (2.6.3)\n",
      "Note: you may need to restart the kernel to use updated packages.\n"
     ]
    },
    {
     "name": "stderr",
     "output_type": "stream",
     "text": [
      "\n",
      "[notice] A new release of pip is available: 23.0.1 -> 23.2.1\n",
      "[notice] To update, run: python.exe -m pip install --upgrade pip\n"
     ]
    }
   ],
   "source": [
    "pip install inflect"
   ]
  },
  {
   "cell_type": "code",
   "execution_count": 4,
   "id": "7ae6b16d",
   "metadata": {},
   "outputs": [
    {
     "name": "stdout",
     "output_type": "stream",
     "text": [
      "Input: 1\n",
      "Input: s\n",
      "Input: as\n",
      "Input: \n",
      "()\n",
      "\n"
     ]
    }
   ],
   "source": [
    "import inflect\n",
    "def main():\n",
    "    p=inflect.engine()\n",
    "    my_list=tuple(adieu(p))\n",
    "    print(my_list)\n",
    "    mylist=tuple(my_list)\n",
    "    my_list1=p.join((mylist),final_sep=\"\")\n",
    "    print(my_list1)\n",
    "\n",
    "def adieu(p):\n",
    "    \n",
    "    while True:\n",
    "        \n",
    "        try:\n",
    "            my_list=[]\n",
    "            us=input(\"Input: \")\n",
    "            if len(us)==0:\n",
    "                raise EOFError \n",
    "            else:\n",
    "                my_list.append(us)\n",
    "        except EOFError:\n",
    "            break\n",
    "\n",
    "    return my_list\n",
    "main()\n"
   ]
  },
  {
   "cell_type": "code",
   "execution_count": 1,
   "id": "dc1d9dbc",
   "metadata": {},
   "outputs": [
    {
     "name": "stdout",
     "output_type": "stream",
     "text": [
      " Adieu, adieu,to apple, banana, and carrot\n"
     ]
    }
   ],
   "source": [
    "import inflect\n",
    "p=inflect.engine()\n",
    "t=[\"apple\", \"banana\", \"carrot\"]\n",
    "mylist = p.join((t))\n",
    "print(f' Adieu, adieu,to {mylist}')"
   ]
  },
  {
   "cell_type": "code",
   "execution_count": 2,
   "id": "b8d0b799",
   "metadata": {},
   "outputs": [
    {
     "data": {
      "text/plain": [
       "'apple, banana, and carrot'"
      ]
     },
     "execution_count": 2,
     "metadata": {},
     "output_type": "execute_result"
    }
   ],
   "source": [
    "mylist"
   ]
  },
  {
   "cell_type": "code",
   "execution_count": 3,
   "id": "66494aff",
   "metadata": {},
   "outputs": [],
   "source": [
    "mylist = p.join((\"apple\", \"banana\", \"carrot\"), final_sep=\"\")"
   ]
  },
  {
   "cell_type": "code",
   "execution_count": 4,
   "id": "a8f15ceb",
   "metadata": {},
   "outputs": [
    {
     "data": {
      "text/plain": [
       "'apple, banana and carrot'"
      ]
     },
     "execution_count": 4,
     "metadata": {},
     "output_type": "execute_result"
    }
   ],
   "source": [
    "mylist"
   ]
  },
  {
   "cell_type": "code",
   "execution_count": 27,
   "id": "686ef83d",
   "metadata": {},
   "outputs": [
    {
     "name": "stdout",
     "output_type": "stream",
     "text": [
      "wq\n"
     ]
    }
   ],
   "source": [
    "import random\n",
    "\n",
    "\n",
    "def main():\n",
    "    level=get_level()\n",
    "    \n",
    "\n",
    "\n",
    "def get_level():\n",
    "    while True:\n",
    "        try:\n",
    "            user_input_level=input()\n",
    "            if user_input_level.isdigit():\n",
    "#                 X=random.randint(1,10)\n",
    "#                 Y=random.randint(1,10)\n",
    "                if int(user_input_level)==1:\n",
    "                    X=random.randint(1,10)\n",
    "                    Y=random.randint(1,10)\n",
    "                    value=input(print(f'{X}+{Y}='))\n",
    "                    return value\n",
    "#                     \n",
    "                elif int(user_input_level)==2:\n",
    "                    value=input(print(f'{X}-{Y}='))\n",
    "                    return value\n",
    "                elif int(user_input_level)==3:\n",
    "                    value=input(print(f'{X}*{Y}='))\n",
    "                    return value\n",
    "                else:\n",
    "                    break\n",
    "#                      pass\n",
    "                    \n",
    "            else:\n",
    "                raise ValueError\n",
    "        except ValueError:\n",
    "            return 'EEE'\n",
    "\n",
    "\n",
    "def generate_integer(level):\n",
    "    X=random.randint(1,10)\n",
    "    Y=random.randint(1,10)\n",
    "    if level==1:\n",
    "        value=X+Y\n",
    "    elif level==2:\n",
    "        value=X-Y\n",
    "    elif level==3:\n",
    "        value=X*Y\n",
    "    \n",
    "if __name__ == \"__main__\":\n",
    "    main()"
   ]
  },
  {
   "cell_type": "code",
   "execution_count": 45,
   "id": "81f06a85",
   "metadata": {},
   "outputs": [
    {
     "name": "stdout",
     "output_type": "stream",
     "text": [
      "1\n",
      "12\n"
     ]
    }
   ],
   "source": [
    "import random\n",
    "def main():\n",
    "    X=random.randint(1,10)\n",
    "    Y=random.randint(1,10)\n",
    "    level=get_level(X,Y)\n",
    "    value=get_level(X,Y)\n",
    "#     try:\n",
    "#         if value \n",
    "def get_level(X,Y):\n",
    "    while True:\n",
    "        \n",
    "        try:\n",
    "            user_input_level=input()\n",
    "            if user_input_level.isdigit():\n",
    "                \n",
    "#                 X=random.randint(1,10)\n",
    "#                 Y=random.randint(1,10)\n",
    "                if int(user_input_level)==1:\n",
    "#                     X=random.randint(1,10)\n",
    "#                     Y=random.randint(1,10)\n",
    "                    value=int(input(f'{X}+{Y}='))\n",
    "#                     print(value)\n",
    "                    return value\n",
    "#                     \n",
    "                elif int(user_input_level)==2:\n",
    "                    value=int(input(print(f'{X}-{Y}=')))\n",
    "                    return value\n",
    "                elif int(user_input_level)==3:\n",
    "                    value=int(input(print(f'{X}*{Y}=')))\n",
    "                    return value\n",
    "                else:\n",
    "                    break\n",
    "#                      pass\n",
    "                    \n",
    "            else:\n",
    "                raise ValueError\n",
    "        except ValueError:\n",
    "            return 'EEE'\n",
    "main()"
   ]
  },
  {
   "cell_type": "code",
   "execution_count": 17,
   "id": "cb7c61a0",
   "metadata": {},
   "outputs": [
    {
     "data": {
      "text/plain": [
       "True"
      ]
     },
     "execution_count": 17,
     "metadata": {},
     "output_type": "execute_result"
    }
   ],
   "source": [
    "'1'.isdigit()"
   ]
  },
  {
   "cell_type": "code",
   "execution_count": 18,
   "id": "b5c3c907",
   "metadata": {},
   "outputs": [
    {
     "data": {
      "text/plain": [
       "True"
      ]
     },
     "execution_count": 18,
     "metadata": {},
     "output_type": "execute_result"
    }
   ],
   "source": [
    "'1'.isnumeric()"
   ]
  },
  {
   "cell_type": "code",
   "execution_count": 12,
   "id": "407f7acd",
   "metadata": {},
   "outputs": [
    {
     "name": "stdout",
     "output_type": "stream",
     "text": [
      "as\n"
     ]
    },
    {
     "ename": "KeyboardInterrupt",
     "evalue": "",
     "output_type": "error",
     "traceback": [
      "\u001b[1;31m---------------------------------------------------------------------------\u001b[0m",
      "\u001b[1;31mKeyboardInterrupt\u001b[0m                         Traceback (most recent call last)",
      "Input \u001b[1;32mIn [12]\u001b[0m, in \u001b[0;36m<cell line: 37>\u001b[1;34m()\u001b[0m\n\u001b[0;32m     36\u001b[0m             \u001b[38;5;28;01mpass\u001b[39;00m    \n\u001b[0;32m     37\u001b[0m \u001b[38;5;28;01mif\u001b[39;00m \u001b[38;5;18m__name__\u001b[39m \u001b[38;5;241m==\u001b[39m \u001b[38;5;124m\"\u001b[39m\u001b[38;5;124m__main__\u001b[39m\u001b[38;5;124m\"\u001b[39m:\n\u001b[1;32m---> 38\u001b[0m     \u001b[43mmain\u001b[49m\u001b[43m(\u001b[49m\u001b[43m)\u001b[49m\n",
      "Input \u001b[1;32mIn [12]\u001b[0m, in \u001b[0;36mmain\u001b[1;34m()\u001b[0m\n\u001b[0;32m      4\u001b[0m Y\u001b[38;5;241m=\u001b[39mrandom\u001b[38;5;241m.\u001b[39mrandint(\u001b[38;5;241m1\u001b[39m,\u001b[38;5;241m10\u001b[39m)\n\u001b[0;32m      5\u001b[0m level\u001b[38;5;241m=\u001b[39mget_level()\n\u001b[1;32m----> 6\u001b[0m value\u001b[38;5;241m=\u001b[39m\u001b[43mgenerate_integer\u001b[49m\u001b[43m(\u001b[49m\u001b[43mlevel\u001b[49m\u001b[43m,\u001b[49m\u001b[43mX\u001b[49m\u001b[43m,\u001b[49m\u001b[43mY\u001b[49m\u001b[43m)\u001b[49m\n\u001b[0;32m      7\u001b[0m \u001b[38;5;28mprint\u001b[39m(value)\n",
      "Input \u001b[1;32mIn [12]\u001b[0m, in \u001b[0;36mgenerate_integer\u001b[1;34m(level, X, Y)\u001b[0m\n\u001b[0;32m     34\u001b[0m         \u001b[38;5;28;01mbreak\u001b[39;00m\n\u001b[0;32m     35\u001b[0m \u001b[38;5;28;01mexcept\u001b[39;00m:\n\u001b[1;32m---> 36\u001b[0m     \u001b[38;5;28;01mpass\u001b[39;00m\n",
      "\u001b[1;31mKeyboardInterrupt\u001b[0m: "
     ]
    }
   ],
   "source": [
    "import random\n",
    "def main():\n",
    "    X=random.randint(1,10)\n",
    "    Y=random.randint(1,10)\n",
    "    level=get_level()\n",
    "    value=generate_integer(level,X,Y)\n",
    "    print(value)\n",
    "def get_level():\n",
    "    while True:\n",
    "        try:\n",
    "            user_input_level=input()\n",
    "            if user_input_level.isdigit():\n",
    "                return user_input_level\n",
    "            else:\n",
    "                raise ValueError\n",
    "        except ValueError:\n",
    "            return 'EEE'\n",
    "def generate_integer(level,X,Y):\n",
    "    count=0\n",
    "    while count<=10:\n",
    "#                 X=random.randint(1,10)\n",
    "#                 Y=random.randint(1,10)\n",
    "        try:\n",
    "            if int(level)==1:\n",
    "                value=input(f'{X}+{Y}=')\n",
    "                count+=1\n",
    "                return value             \n",
    "            elif int(level)==2:\n",
    "                value=input(f'{X}-{Y}=')\n",
    "                count+=1\n",
    "                return value\n",
    "            elif int(level)==3:\n",
    "                value=input(f'{X}*{Y}=')\n",
    "                count+=1\n",
    "                return value\n",
    "            else:\n",
    "                break\n",
    "        except:\n",
    "            pass    \n",
    "if __name__ == \"__main__\":\n",
    "    main()"
   ]
  },
  {
   "cell_type": "code",
   "execution_count": null,
   "id": "17dc2ef6",
   "metadata": {},
   "outputs": [],
   "source": []
  },
  {
   "cell_type": "code",
   "execution_count": null,
   "id": "401c8f58",
   "metadata": {},
   "outputs": [],
   "source": []
  },
  {
   "cell_type": "code",
   "execution_count": null,
   "id": "5a2db1aa",
   "metadata": {},
   "outputs": [],
   "source": [
    "# note='st' means start\n",
    "def main():\n",
    "    plate = input(\"Plate: \")\n",
    "    if is_valid(plate):\n",
    "        print(\"Valid\")\n",
    "    else:\n",
    "        print(\"Invalid\")\n",
    "\n",
    "def is_valid(s):\n",
    "# check length of the s should be min=2 and max=6\n",
    "    if len(s) >= 2 and len(s) <= 6:\n",
    "# checking that whether the s is alpha or alphanum(a text that contains both alphabets and digits)\n",
    "        if s.isalpha():\n",
    "        # checking that if the input s contains only alphas.and their is no digit  then we pass that is_valid_start(s) funtion\n",
    "        # if the text st with digit\n",
    "            return is_valid_start(s)\n",
    "        elif s.isalnum():\n",
    "            return is_valid_start(s) and is_valid_end(s)\n",
    "    return False\n",
    "\n",
    "def is_valid_start(s):\n",
    "    # if the text st with 2 words in the text then it is vaild and return that parameter\n",
    "    # else return invaild\n",
    "    return s[:2].isalpha()\n",
    "\n",
    "def is_valid_end(s):\n",
    "    # if the text contain both alphabets and digits\n",
    "    # we need to check this conditions\n",
    "# no space or punctuation marks are alloweds'\n",
    "# NOTE:-last word of the text strictly should a digit( to vaild)\n",
    "# NOTE:- the starting digit should not be \"0\" it can be neither of the\" number\"\n",
    "# to check that condition i consider a list if we found the number inn the text we will add it to the list\n",
    "# if first item of the list is \"0\" its invaild return s\n",
    "# for these case cs50p2 here we need to note that p in the text so it's invalid condition\n",
    "# at their the index of digit to len(s) all shold be a digit if not return invaild and s[0:index] all words should be alphas\n",
    "    for i in range(len(s)):\n",
    "        if s[i].isdigit():\n",
    "            ind=s.index(s[i])\n",
    "            break\n",
    "    if s[0:ind].isalpha and s[ind+1:].isdigit():\n",
    "        return s[-1].isdigit() and s[ind] != '0'\n",
    "\n",
    "    # return s[-1].isdigit() and s[-2:].isdigit()\n",
    "main()\n"
   ]
  },
  {
   "cell_type": "code",
   "execution_count": 10,
   "id": "a1783fda",
   "metadata": {},
   "outputs": [
    {
     "name": "stdout",
     "output_type": "stream",
     "text": [
      "plate: cs50\n",
      "Vaild\n"
     ]
    }
   ],
   "source": [
    "def  main():\n",
    "    plate=input(\"plate: \")\n",
    "    if is_vaild(plate):\n",
    "        print(\"Vaild\")\n",
    "    else:\n",
    "        print(\"Invaild\")\n",
    "def is_vaild(s):\n",
    "    if 2<=len(s)<=6 and s[:2].isalpha() and s.isalnum():\n",
    "        i=2\n",
    "        while i< len(s):\n",
    "            if s[i].isalpha()==True:\n",
    "                return True\n",
    "            elif s[i:].isnumeric() and s[i]!='0':\n",
    "                return True\n",
    "            else:\n",
    "                return False\n",
    "            \n",
    "        i+=1\n",
    "        return True\n",
    "    else:\n",
    "        return False\n",
    "if __name__ ==\"__main__\":\n",
    "    main()"
   ]
  },
  {
   "cell_type": "code",
   "execution_count": null,
   "id": "c9d72e10",
   "metadata": {},
   "outputs": [],
   "source": []
  },
  {
   "cell_type": "code",
   "execution_count": 20,
   "id": "8e5f5ebb",
   "metadata": {},
   "outputs": [
    {
     "name": "stdout",
     "output_type": "stream",
     "text": [
      "12\n",
      "0\n"
     ]
    }
   ],
   "source": [
    "def main():\n",
    "    x=random.randint(1,10)\n",
    "    y=random.randint(1,10)\n",
    "    score=get_value(x,y)\n",
    "    print(score)\n",
    "    \n",
    "def get_value(x,y):\n",
    "    score=0\n",
    "    question=0\n",
    "    while question<=10:\n",
    "        worng_count=0\n",
    "#         us=input()\n",
    "        try:\n",
    "            us=input()\n",
    "            if us.isdigit() and int(us)<4:\n",
    "                if int(us)==1:\n",
    "                    value=int(input(f'{x}+{y}= '))\n",
    "                    if x+y==value:\n",
    "                        score+=1\n",
    "                        question+=1\n",
    "                    else:\n",
    "                        if worng_count<3:\n",
    "                            worng=\"EEE\"\n",
    "                            print(worng)\n",
    "                            question+=1\n",
    "                            worng_count+=1\n",
    "                        else:\n",
    "                            print(x+y)\n",
    "                elif int(us)==2:\n",
    "                    value=int(input(f'{x}-{y}= '))\n",
    "                    if x+y==value:\n",
    "                        score+=1\n",
    "                        question+=1\n",
    "                        \n",
    "                    else:\n",
    "                        if worng_count<3:\n",
    "                            worng=\"EEE\"\n",
    "                            print(worng)\n",
    "                            question+=1\n",
    "                            worng_count+=1\n",
    "                        else:\n",
    "                            print(x+y)\n",
    "                elif int(us)==3:\n",
    "                    value=int(input(f'{x}-{y}= '))\n",
    "                    if x+y==value:\n",
    "                        score+=1\n",
    "                        question+=1\n",
    "                    else:\n",
    "                        if worng_count<3:\n",
    "                            worng=\"EEE\"\n",
    "                            print(worng)\n",
    "                            question+=1\n",
    "                            worng_count+=1\n",
    "                        else:\n",
    "                            print(x+y)\n",
    "                else:\n",
    "                    pass\n",
    "            else:\n",
    "                pass\n",
    "        except ValueError:\n",
    "            pass\n",
    "        return score\n",
    "            \n",
    "                    \n",
    "                    \n",
    "    \n",
    "main()"
   ]
  },
  {
   "cell_type": "code",
   "execution_count": 35,
   "id": "b50fe078",
   "metadata": {},
   "outputs": [
    {
     "name": "stdout",
     "output_type": "stream",
     "text": [
      "1\n",
      "8+9= qw\n",
      "EEE\n",
      "8+9= qw\n",
      "EEE\n",
      "8+9= qw\n",
      "EEE\n",
      "8+9= \n",
      "EEE\n",
      "8+9= \n",
      "EEE\n",
      "8+9= \n",
      "EEE\n",
      "8+9= \n",
      "EEE\n",
      "8+9= \n",
      "EEE\n",
      "8+9= \n",
      "EEE\n",
      "8+9= \n",
      "EEE\n",
      "8+9= \n",
      "EEE\n",
      "8+9= \n",
      "EEE\n",
      "8+9= \n",
      "EEE\n",
      "8+9= \n",
      "EEE\n"
     ]
    },
    {
     "ename": "KeyboardInterrupt",
     "evalue": "Interrupted by user",
     "output_type": "error",
     "traceback": [
      "\u001b[1;31m---------------------------------------------------------------------------\u001b[0m",
      "\u001b[1;31mKeyboardInterrupt\u001b[0m                         Traceback (most recent call last)",
      "Input \u001b[1;32mIn [35]\u001b[0m, in \u001b[0;36m<cell line: 120>\u001b[1;34m()\u001b[0m\n\u001b[0;32m     57\u001b[0m \u001b[38;5;66;03m#             if x+y==value:\u001b[39;00m\n\u001b[0;32m     58\u001b[0m \u001b[38;5;66;03m#                 score+=1\u001b[39;00m\n\u001b[0;32m     59\u001b[0m \u001b[38;5;66;03m#                 question+=1\u001b[39;00m\n\u001b[1;32m   (...)\u001b[0m\n\u001b[0;32m    114\u001b[0m \u001b[38;5;66;03m#         else:\u001b[39;00m\n\u001b[0;32m    115\u001b[0m \u001b[38;5;66;03m#             pass\u001b[39;00m\n\u001b[0;32m    118\u001b[0m     \u001b[38;5;28;01mreturn\u001b[39;00m score\n\u001b[1;32m--> 120\u001b[0m \u001b[43mmain\u001b[49m\u001b[43m(\u001b[49m\u001b[43m)\u001b[49m\n",
      "Input \u001b[1;32mIn [35]\u001b[0m, in \u001b[0;36mmain\u001b[1;34m()\u001b[0m\n\u001b[0;32m      4\u001b[0m y\u001b[38;5;241m=\u001b[39mrandom\u001b[38;5;241m.\u001b[39mrandint(\u001b[38;5;241m1\u001b[39m,\u001b[38;5;241m10\u001b[39m)\n\u001b[0;32m      5\u001b[0m us\u001b[38;5;241m=\u001b[39mget_value(x,y)\n\u001b[1;32m----> 6\u001b[0m x\u001b[38;5;241m=\u001b[39m\u001b[43mgenerate\u001b[49m\u001b[43m(\u001b[49m\u001b[43mus\u001b[49m\u001b[43m,\u001b[49m\u001b[43mx\u001b[49m\u001b[43m,\u001b[49m\u001b[43my\u001b[49m\u001b[43m)\u001b[49m\n\u001b[0;32m      7\u001b[0m y\u001b[38;5;241m=\u001b[39mgenerate(us,x,y)\n\u001b[0;32m      9\u001b[0m score\u001b[38;5;241m=\u001b[39mgenerate(us,x,y)\n",
      "Input \u001b[1;32mIn [35]\u001b[0m, in \u001b[0;36mgenerate\u001b[1;34m(us, x, y)\u001b[0m\n\u001b[0;32m     32\u001b[0m \u001b[38;5;66;03m#                 question=0\u001b[39;00m\n\u001b[0;32m     33\u001b[0m                 worng_count\u001b[38;5;241m=\u001b[39m\u001b[38;5;241m0\u001b[39m\n\u001b[1;32m---> 34\u001b[0m                 value\u001b[38;5;241m=\u001b[39m\u001b[38;5;28mint\u001b[39m(\u001b[38;5;28;43minput\u001b[39;49m\u001b[43m(\u001b[49m\u001b[38;5;124;43mf\u001b[39;49m\u001b[38;5;124;43m'\u001b[39;49m\u001b[38;5;132;43;01m{\u001b[39;49;00m\u001b[43mx\u001b[49m\u001b[38;5;132;43;01m}\u001b[39;49;00m\u001b[38;5;124;43m+\u001b[39;49m\u001b[38;5;132;43;01m{\u001b[39;49;00m\u001b[43my\u001b[49m\u001b[38;5;132;43;01m}\u001b[39;49;00m\u001b[38;5;124;43m= \u001b[39;49m\u001b[38;5;124;43m'\u001b[39;49m\u001b[43m)\u001b[49m)\n\u001b[0;32m     35\u001b[0m                 \u001b[38;5;28;01mif\u001b[39;00m x\u001b[38;5;241m+\u001b[39my\u001b[38;5;241m==\u001b[39mvalue:\n\u001b[0;32m     36\u001b[0m                     score\u001b[38;5;241m+\u001b[39m\u001b[38;5;241m=\u001b[39m\u001b[38;5;241m1\u001b[39m\n",
      "File \u001b[1;32m~\\anaconda3\\lib\\site-packages\\ipykernel\\kernelbase.py:1075\u001b[0m, in \u001b[0;36mKernel.raw_input\u001b[1;34m(self, prompt)\u001b[0m\n\u001b[0;32m   1071\u001b[0m \u001b[38;5;28;01mif\u001b[39;00m \u001b[38;5;129;01mnot\u001b[39;00m \u001b[38;5;28mself\u001b[39m\u001b[38;5;241m.\u001b[39m_allow_stdin:\n\u001b[0;32m   1072\u001b[0m     \u001b[38;5;28;01mraise\u001b[39;00m StdinNotImplementedError(\n\u001b[0;32m   1073\u001b[0m         \u001b[38;5;124m\"\u001b[39m\u001b[38;5;124mraw_input was called, but this frontend does not support input requests.\u001b[39m\u001b[38;5;124m\"\u001b[39m\n\u001b[0;32m   1074\u001b[0m     )\n\u001b[1;32m-> 1075\u001b[0m \u001b[38;5;28;01mreturn\u001b[39;00m \u001b[38;5;28;43mself\u001b[39;49m\u001b[38;5;241;43m.\u001b[39;49m\u001b[43m_input_request\u001b[49m\u001b[43m(\u001b[49m\n\u001b[0;32m   1076\u001b[0m \u001b[43m    \u001b[49m\u001b[38;5;28;43mstr\u001b[39;49m\u001b[43m(\u001b[49m\u001b[43mprompt\u001b[49m\u001b[43m)\u001b[49m\u001b[43m,\u001b[49m\n\u001b[0;32m   1077\u001b[0m \u001b[43m    \u001b[49m\u001b[38;5;28;43mself\u001b[39;49m\u001b[38;5;241;43m.\u001b[39;49m\u001b[43m_parent_ident\u001b[49m\u001b[43m[\u001b[49m\u001b[38;5;124;43m\"\u001b[39;49m\u001b[38;5;124;43mshell\u001b[39;49m\u001b[38;5;124;43m\"\u001b[39;49m\u001b[43m]\u001b[49m\u001b[43m,\u001b[49m\n\u001b[0;32m   1078\u001b[0m \u001b[43m    \u001b[49m\u001b[38;5;28;43mself\u001b[39;49m\u001b[38;5;241;43m.\u001b[39;49m\u001b[43mget_parent\u001b[49m\u001b[43m(\u001b[49m\u001b[38;5;124;43m\"\u001b[39;49m\u001b[38;5;124;43mshell\u001b[39;49m\u001b[38;5;124;43m\"\u001b[39;49m\u001b[43m)\u001b[49m\u001b[43m,\u001b[49m\n\u001b[0;32m   1079\u001b[0m \u001b[43m    \u001b[49m\u001b[43mpassword\u001b[49m\u001b[38;5;241;43m=\u001b[39;49m\u001b[38;5;28;43;01mFalse\u001b[39;49;00m\u001b[43m,\u001b[49m\n\u001b[0;32m   1080\u001b[0m \u001b[43m\u001b[49m\u001b[43m)\u001b[49m\n",
      "File \u001b[1;32m~\\anaconda3\\lib\\site-packages\\ipykernel\\kernelbase.py:1120\u001b[0m, in \u001b[0;36mKernel._input_request\u001b[1;34m(self, prompt, ident, parent, password)\u001b[0m\n\u001b[0;32m   1117\u001b[0m             \u001b[38;5;28;01mbreak\u001b[39;00m\n\u001b[0;32m   1118\u001b[0m \u001b[38;5;28;01mexcept\u001b[39;00m \u001b[38;5;167;01mKeyboardInterrupt\u001b[39;00m:\n\u001b[0;32m   1119\u001b[0m     \u001b[38;5;66;03m# re-raise KeyboardInterrupt, to truncate traceback\u001b[39;00m\n\u001b[1;32m-> 1120\u001b[0m     \u001b[38;5;28;01mraise\u001b[39;00m \u001b[38;5;167;01mKeyboardInterrupt\u001b[39;00m(\u001b[38;5;124m\"\u001b[39m\u001b[38;5;124mInterrupted by user\u001b[39m\u001b[38;5;124m\"\u001b[39m) \u001b[38;5;28;01mfrom\u001b[39;00m \u001b[38;5;28mNone\u001b[39m\n\u001b[0;32m   1121\u001b[0m \u001b[38;5;28;01mexcept\u001b[39;00m \u001b[38;5;167;01mException\u001b[39;00m:\n\u001b[0;32m   1122\u001b[0m     \u001b[38;5;28mself\u001b[39m\u001b[38;5;241m.\u001b[39mlog\u001b[38;5;241m.\u001b[39mwarning(\u001b[38;5;124m\"\u001b[39m\u001b[38;5;124mInvalid Message:\u001b[39m\u001b[38;5;124m\"\u001b[39m, exc_info\u001b[38;5;241m=\u001b[39m\u001b[38;5;28;01mTrue\u001b[39;00m)\n",
      "\u001b[1;31mKeyboardInterrupt\u001b[0m: Interrupted by user"
     ]
    }
   ],
   "source": [
    "import random\n",
    "def main():\n",
    "    x=random.randint(1,10)\n",
    "    y=random.randint(1,10)\n",
    "    us=get_value(x,y)\n",
    "    x=generate(us,x,y)\n",
    "    y=generate(us,x,y)\n",
    "\n",
    "    score=generate(us,x,y)\n",
    "    print(score)\n",
    "    \n",
    "def get_value(x,y):\n",
    "    while True:\n",
    "        try:\n",
    "            us=int(input())\n",
    "            if us<4:\n",
    "                return us\n",
    "            else:\n",
    "                pass\n",
    "        except ValueError:\n",
    "            pass\n",
    "       \n",
    "def generate(us,x,y):\n",
    "#     score=0\n",
    "    question=0\n",
    "    \n",
    "    while question!=10:\n",
    "        \n",
    "        if us==1:\n",
    "            try:\n",
    "                score=0\n",
    "#                 question=0\n",
    "                worng_count=0\n",
    "                value=int(input(f'{x}+{y}= '))\n",
    "                if x+y==value:\n",
    "                    score+=1\n",
    "                    print(score)\n",
    "                    question+=1\n",
    "                    x=random.randint(1,10)\n",
    "                    y=random.randint(1,10)\n",
    "                    return x\n",
    "                    return y\n",
    "                else:\n",
    "                    \n",
    "                    if worng_count!=3:\n",
    "                        worng=\"EEE\"\n",
    "                        print(worng)\n",
    "                        \n",
    "                        print(score)\n",
    "#                         question+=1\n",
    "                        worng_count+=1\n",
    "                    else:\n",
    "                        print(x+y)\n",
    "            except ValueError:\n",
    "                print(\"EEE\")\n",
    "                worng_count+=1\n",
    "#             if x+y==value:\n",
    "#                 score+=1\n",
    "#                 question+=1\n",
    "#                 x=random.randint(1,10)\n",
    "#                 y=random.randint(1,10)\n",
    "#                 return x\n",
    "#                 return y\n",
    "\n",
    "#             else:\n",
    "#                 if worng_count!=3:\n",
    "#                     worng=\"EEE\"\n",
    "#                     print(worng)\n",
    "#                     question+=1\n",
    "#                     worng_count+=1\n",
    "#                 else:\n",
    "#                     print(x+y)\n",
    "#         elif us==2:\n",
    "#             try:\n",
    "#                 value=int(input(f'{x}-{y}= '))\n",
    "#             except ValueError:\n",
    "#                 pass\n",
    "#             if x+y==value:\n",
    "#                 score+=1\n",
    "#                 question+=1\n",
    "# #                 x=random.randint(1,10)\n",
    "# #                 y=random.randint(1,10)\n",
    "# #                 return x,y\n",
    "\n",
    "#             else:\n",
    "#                 if worng_count!=3:\n",
    "#                     worng=\"EEE\"\n",
    "#                     print(worng)\n",
    "#                     question+=1\n",
    "#                     worng_count+=1\n",
    "#                 else:\n",
    "#                     print(x+y)\n",
    "#         elif us==3:\n",
    "#             try:\n",
    "#                 value=int(input(f'{x}*{y}= '))\n",
    "#             except ValueError:\n",
    "#                 pass\n",
    "                \n",
    "#             if x+y==value:\n",
    "#                 score+=1\n",
    "#                 question+=1\n",
    "# #                 x=random.randint(1,10)\n",
    "# #                 y=random.randint(1,10)\n",
    "# #                 return x,y\n",
    "\n",
    "#             else:\n",
    "#                 if worng_count!=3:\n",
    "#                     worng=\"EEE\"\n",
    "#                     print(worng)\n",
    "#                     question+=1\n",
    "#                     worng_count+=1\n",
    "#                 else:\n",
    "#                     print(x+y)\n",
    "#         else:\n",
    "#             pass\n",
    "                  \n",
    "            \n",
    "    return score\n",
    "    \n",
    "main()"
   ]
  },
  {
   "cell_type": "markdown",
   "id": "df63653e",
   "metadata": {},
   "source": [
    "### "
   ]
  },
  {
   "cell_type": "code",
   "execution_count": 21,
   "id": "bbde7b4a",
   "metadata": {},
   "outputs": [
    {
     "name": "stdout",
     "output_type": "stream",
     "text": [
      "1\n",
      "9+3=1\n",
      "EEE\n",
      "9+3=1\n",
      "EEE\n",
      "9+3=12\n",
      "2+1=3\n",
      "1+1=2\n",
      "10+3=13\n",
      "8+8=16\n",
      "7+9=16\n",
      "6+3=9\n",
      "1+10=11\n",
      "8+7=15\n",
      "9+2=11\n",
      "5+2=7\n",
      "7+6=13\n",
      "6+4=10\n",
      "6+10=16\n",
      "1+4=5\n",
      "6+6=12\n",
      "1+1=2\n"
     ]
    },
    {
     "ename": "KeyboardInterrupt",
     "evalue": "Interrupted by user",
     "output_type": "error",
     "traceback": [
      "\u001b[1;31m---------------------------------------------------------------------------\u001b[0m",
      "\u001b[1;31mKeyboardInterrupt\u001b[0m                         Traceback (most recent call last)",
      "Input \u001b[1;32mIn [21]\u001b[0m, in \u001b[0;36m<cell line: 51>\u001b[1;34m()\u001b[0m\n\u001b[0;32m     49\u001b[0m             question\u001b[38;5;241m+\u001b[39m\u001b[38;5;241m=\u001b[39m\u001b[38;5;241m1\u001b[39m\n\u001b[0;32m     50\u001b[0m     \u001b[38;5;28;01mreturn\u001b[39;00m score\n\u001b[1;32m---> 51\u001b[0m \u001b[43mmain\u001b[49m\u001b[43m(\u001b[49m\u001b[43m)\u001b[49m\n",
      "Input \u001b[1;32mIn [21]\u001b[0m, in \u001b[0;36mmain\u001b[1;34m()\u001b[0m\n\u001b[0;32m      2\u001b[0m \u001b[38;5;28;01mdef\u001b[39;00m \u001b[38;5;21mmain\u001b[39m():\n\u001b[0;32m      3\u001b[0m     us\u001b[38;5;241m=\u001b[39mget_level()\n\u001b[1;32m----> 4\u001b[0m     score_val\u001b[38;5;241m=\u001b[39m\u001b[43mgenerate\u001b[49m\u001b[43m(\u001b[49m\u001b[43mus\u001b[49m\u001b[43m)\u001b[49m\n\u001b[0;32m      5\u001b[0m     \u001b[38;5;28mprint\u001b[39m(score_val)\n",
      "Input \u001b[1;32mIn [21]\u001b[0m, in \u001b[0;36mgenerate\u001b[1;34m(us)\u001b[0m\n\u001b[0;32m     30\u001b[0m worng_count\u001b[38;5;241m+\u001b[39m\u001b[38;5;241m=\u001b[39m\u001b[38;5;241m1\u001b[39m\n\u001b[0;32m     31\u001b[0m \u001b[38;5;28;01mwhile\u001b[39;00m worng_count\u001b[38;5;241m<\u001b[39m\u001b[38;5;241m=\u001b[39m\u001b[38;5;241m2\u001b[39m:\n\u001b[1;32m---> 32\u001b[0m     value\u001b[38;5;241m=\u001b[39m\u001b[38;5;28mint\u001b[39m(\u001b[38;5;28;43minput\u001b[39;49m\u001b[43m(\u001b[49m\u001b[38;5;124;43mf\u001b[39;49m\u001b[38;5;124;43m'\u001b[39;49m\u001b[38;5;132;43;01m{\u001b[39;49;00m\u001b[43mx\u001b[49m\u001b[38;5;132;43;01m}\u001b[39;49;00m\u001b[38;5;124;43m+\u001b[39;49m\u001b[38;5;132;43;01m{\u001b[39;49;00m\u001b[43my\u001b[49m\u001b[38;5;132;43;01m}\u001b[39;49;00m\u001b[38;5;124;43m=\u001b[39;49m\u001b[38;5;124;43m'\u001b[39;49m\u001b[43m)\u001b[49m)\n\u001b[0;32m     33\u001b[0m     \u001b[38;5;28;01mif\u001b[39;00m value\u001b[38;5;241m==\u001b[39mx\u001b[38;5;241m+\u001b[39my:\n\u001b[0;32m     34\u001b[0m         x\u001b[38;5;241m=\u001b[39mrandom\u001b[38;5;241m.\u001b[39mrandint(\u001b[38;5;241m1\u001b[39m,\u001b[38;5;241m10\u001b[39m)\n",
      "File \u001b[1;32m~\\anaconda3\\lib\\site-packages\\ipykernel\\kernelbase.py:1075\u001b[0m, in \u001b[0;36mKernel.raw_input\u001b[1;34m(self, prompt)\u001b[0m\n\u001b[0;32m   1071\u001b[0m \u001b[38;5;28;01mif\u001b[39;00m \u001b[38;5;129;01mnot\u001b[39;00m \u001b[38;5;28mself\u001b[39m\u001b[38;5;241m.\u001b[39m_allow_stdin:\n\u001b[0;32m   1072\u001b[0m     \u001b[38;5;28;01mraise\u001b[39;00m StdinNotImplementedError(\n\u001b[0;32m   1073\u001b[0m         \u001b[38;5;124m\"\u001b[39m\u001b[38;5;124mraw_input was called, but this frontend does not support input requests.\u001b[39m\u001b[38;5;124m\"\u001b[39m\n\u001b[0;32m   1074\u001b[0m     )\n\u001b[1;32m-> 1075\u001b[0m \u001b[38;5;28;01mreturn\u001b[39;00m \u001b[38;5;28;43mself\u001b[39;49m\u001b[38;5;241;43m.\u001b[39;49m\u001b[43m_input_request\u001b[49m\u001b[43m(\u001b[49m\n\u001b[0;32m   1076\u001b[0m \u001b[43m    \u001b[49m\u001b[38;5;28;43mstr\u001b[39;49m\u001b[43m(\u001b[49m\u001b[43mprompt\u001b[49m\u001b[43m)\u001b[49m\u001b[43m,\u001b[49m\n\u001b[0;32m   1077\u001b[0m \u001b[43m    \u001b[49m\u001b[38;5;28;43mself\u001b[39;49m\u001b[38;5;241;43m.\u001b[39;49m\u001b[43m_parent_ident\u001b[49m\u001b[43m[\u001b[49m\u001b[38;5;124;43m\"\u001b[39;49m\u001b[38;5;124;43mshell\u001b[39;49m\u001b[38;5;124;43m\"\u001b[39;49m\u001b[43m]\u001b[49m\u001b[43m,\u001b[49m\n\u001b[0;32m   1078\u001b[0m \u001b[43m    \u001b[49m\u001b[38;5;28;43mself\u001b[39;49m\u001b[38;5;241;43m.\u001b[39;49m\u001b[43mget_parent\u001b[49m\u001b[43m(\u001b[49m\u001b[38;5;124;43m\"\u001b[39;49m\u001b[38;5;124;43mshell\u001b[39;49m\u001b[38;5;124;43m\"\u001b[39;49m\u001b[43m)\u001b[49m\u001b[43m,\u001b[49m\n\u001b[0;32m   1079\u001b[0m \u001b[43m    \u001b[49m\u001b[43mpassword\u001b[49m\u001b[38;5;241;43m=\u001b[39;49m\u001b[38;5;28;43;01mFalse\u001b[39;49;00m\u001b[43m,\u001b[49m\n\u001b[0;32m   1080\u001b[0m \u001b[43m\u001b[49m\u001b[43m)\u001b[49m\n",
      "File \u001b[1;32m~\\anaconda3\\lib\\site-packages\\ipykernel\\kernelbase.py:1120\u001b[0m, in \u001b[0;36mKernel._input_request\u001b[1;34m(self, prompt, ident, parent, password)\u001b[0m\n\u001b[0;32m   1117\u001b[0m             \u001b[38;5;28;01mbreak\u001b[39;00m\n\u001b[0;32m   1118\u001b[0m \u001b[38;5;28;01mexcept\u001b[39;00m \u001b[38;5;167;01mKeyboardInterrupt\u001b[39;00m:\n\u001b[0;32m   1119\u001b[0m     \u001b[38;5;66;03m# re-raise KeyboardInterrupt, to truncate traceback\u001b[39;00m\n\u001b[1;32m-> 1120\u001b[0m     \u001b[38;5;28;01mraise\u001b[39;00m \u001b[38;5;167;01mKeyboardInterrupt\u001b[39;00m(\u001b[38;5;124m\"\u001b[39m\u001b[38;5;124mInterrupted by user\u001b[39m\u001b[38;5;124m\"\u001b[39m) \u001b[38;5;28;01mfrom\u001b[39;00m \u001b[38;5;28mNone\u001b[39m\n\u001b[0;32m   1121\u001b[0m \u001b[38;5;28;01mexcept\u001b[39;00m \u001b[38;5;167;01mException\u001b[39;00m:\n\u001b[0;32m   1122\u001b[0m     \u001b[38;5;28mself\u001b[39m\u001b[38;5;241m.\u001b[39mlog\u001b[38;5;241m.\u001b[39mwarning(\u001b[38;5;124m\"\u001b[39m\u001b[38;5;124mInvalid Message:\u001b[39m\u001b[38;5;124m\"\u001b[39m, exc_info\u001b[38;5;241m=\u001b[39m\u001b[38;5;28;01mTrue\u001b[39;00m)\n",
      "\u001b[1;31mKeyboardInterrupt\u001b[0m: Interrupted by user"
     ]
    }
   ],
   "source": [
    "import random\n",
    "def main():\n",
    "    us=get_level()\n",
    "    score_val=generate(us)\n",
    "    print(score_val)   \n",
    "def get_level():\n",
    "    while True:\n",
    "        try:\n",
    "            user_input=int(input())\n",
    "            return user_input\n",
    "        except ValueError:\n",
    "            pass\n",
    "def generate(us):\n",
    "    question=0\n",
    "    score=0\n",
    "    while question<9:\n",
    "        worng_count=0\n",
    "        try:\n",
    "            x=random.randint(1,10)\n",
    "            y=random.randint(1,10)\n",
    "            value=int(input(f'{x}+{y}='))\n",
    "            if us==1:\n",
    "                if x+y==value:\n",
    "                    score+=1\n",
    "                    question+=1\n",
    "                    x=random.randint(1,10)\n",
    "                    y=random.randint(1,10)\n",
    "                else:\n",
    "                    print(\"EEE\")\n",
    "                    worng_count+=1\n",
    "                    while worng_count<=2:\n",
    "                        value=int(input(f'{x}+{y}='))\n",
    "                        if value==x+y:\n",
    "                            x=random.randint(1,10)\n",
    "                            y=random.randint(1,10)\n",
    "                            question+=1\n",
    "                        else:\n",
    "                            print(\"EEE\")\n",
    "                            worng_count+=1\n",
    "                    else:\n",
    "                        print(f'{x}+{y}={x+y}')\n",
    "            else:\n",
    "                pass\n",
    "                \n",
    "        except ValueError:\n",
    "            pass\n",
    "            question+=1\n",
    "    return score\n",
    "main()"
   ]
  },
  {
   "cell_type": "markdown",
   "id": "f6dacf52",
   "metadata": {},
   "source": [
    "def faces():\n",
    "    us=input()\n",
    "    if ':)' in us:\n",
    "        us=us.replace(':)','🙂')\n",
    "        print(us)\n",
    "    elif ':(' in us:\n",
    "        us=us.replace(':(','🙁')\n",
    "        print(us)\n",
    "    elif ':(' and ':)' in us:\n",
    "        us=us.replace(':(','🙁',':)','🙁')\n",
    "        print(us)\n",
    "    else:\n",
    "        print(us)\n",
    "faces()\n",
    "    "
   ]
  },
  {
   "cell_type": "code",
   "execution_count": 36,
   "id": "855ca4f4",
   "metadata": {},
   "outputs": [
    {
     "name": "stdout",
     "output_type": "stream",
     "text": [
      "a\n"
     ]
    }
   ],
   "source": [
    "us=input()"
   ]
  },
  {
   "cell_type": "code",
   "execution_count": 17,
   "id": "dc8d8c79",
   "metadata": {},
   "outputs": [
    {
     "name": "stdout",
     "output_type": "stream",
     "text": [
      "1\n",
      "1\n",
      "1\n"
     ]
    },
    {
     "data": {
      "text/plain": [
       "3"
      ]
     },
     "execution_count": 17,
     "metadata": {},
     "output_type": "execute_result"
    }
   ],
   "source": [
    "count=0\n",
    "while count<=2:\n",
    "    us=input()\n",
    "    count+=1\n",
    "count"
   ]
  },
  {
   "cell_type": "code",
   "execution_count": 1,
   "id": "93d86057",
   "metadata": {},
   "outputs": [
    {
     "name": "stdout",
     "output_type": "stream",
     "text": [
      "Enter level (1, 2, or 3): \n",
      "Enter level (1, 2, or 3): \n",
      "Enter level (1, 2, or 3): \n",
      "Enter level (1, 2, or 3): 1\n",
      "7 + 1 = \n",
      "EEE\n",
      "7 + 1 = \n",
      "EEE\n",
      "7 + 1 = \n",
      "EEE\n",
      "7 + 1 = 8\n",
      "4 + 2 = \n",
      "EEE\n",
      "4 + 2 = \n",
      "EEE\n",
      "4 + 2 = \n",
      "EEE\n",
      "4 + 2 = 6\n",
      "3 + 5 = \n",
      "EEE\n",
      "3 + 5 = \n",
      "EEE\n",
      "3 + 5 = \n",
      "EEE\n",
      "3 + 5 = 8\n",
      "9 + 9 = \n",
      "EEE\n",
      "9 + 9 = \n",
      "EEE\n",
      "9 + 9 = \n",
      "EEE\n",
      "9 + 9 = 18\n",
      "1 + 5 = \n",
      "EEE\n",
      "1 + 5 = \n",
      "EEE\n",
      "1 + 5 = \n",
      "EEE\n",
      "1 + 5 = 6\n",
      "7 + 8 = \n",
      "EEE\n",
      "7 + 8 = \n",
      "EEE\n",
      "7 + 8 = \n",
      "EEE\n",
      "7 + 8 = 15\n",
      "1 + 6 = \n",
      "EEE\n",
      "1 + 6 = \n",
      "EEE\n",
      "1 + 6 = \n",
      "EEE\n",
      "1 + 6 = 7\n",
      "3 + 0 = \n",
      "EEE\n",
      "3 + 0 = \n",
      "EEE\n",
      "3 + 0 = \n",
      "EEE\n",
      "3 + 0 = 3\n",
      "2 + 5 = \n",
      "EEE\n",
      "2 + 5 = \n",
      "EEE\n",
      "2 + 5 = \n",
      "EEE\n",
      "2 + 5 = 7\n",
      "1 + 8 = \n",
      "EEE\n",
      "1 + 8 = \n",
      "EEE\n",
      "1 + 8 = \n",
      "EEE\n",
      "1 + 8 = 9\n",
      "Final Score: 0\n"
     ]
    }
   ],
   "source": [
    "import random\n",
    "\n",
    "def main():\n",
    "    level = get_level()\n",
    "    score = generate_integer(level)\n",
    "    print(f\"Final Score: {score}\")\n",
    "\n",
    "def get_level():\n",
    "    while True:\n",
    "        try:\n",
    "            user_input = int(input(\"level: \"))\n",
    "            if user_input not in [1, 2, 3]:\n",
    "                raise ValueError\n",
    "            else:\n",
    "                break\n",
    "        except (ValueError, TypeError):\n",
    "            pass\n",
    "    return user_input\n",
    "\n",
    "def generate_integer(level):\n",
    "    question = 0\n",
    "    score = 0\n",
    "    while question < 10:\n",
    "        range1 = -1\n",
    "        range2 = -1\n",
    "        if level == 1:\n",
    "            range1 = 0\n",
    "            range2 = 9\n",
    "        elif level == 2:\n",
    "            range1 = 9\n",
    "            range2 = 99\n",
    "        elif level == 3:\n",
    "            range1 = 99\n",
    "            range2 = 999\n",
    "        x = random.randint(range1, range2)\n",
    "        y = random.randint(range1, range2)\n",
    "        count = 0\n",
    "        while count < 3:\n",
    "            try:\n",
    "                value = int(input(f'{x} + {y} = '))\n",
    "                if value == x + y:\n",
    "                    score += 1\n",
    "                    question += 1\n",
    "                    break\n",
    "                else:\n",
    "                    print(\"EEE\")\n",
    "                    count += 1\n",
    "            except (ValueError, TypeError):\n",
    "                print(\"EEE\")\n",
    "                count += 1\n",
    "        else:\n",
    "            print(f'{x} + {y} = {x + y}')\n",
    "            question += 1\n",
    "\n",
    "    return score\n",
    "\n",
    "if __name__ == \"__main__\":\n",
    "    main()\n"
   ]
  },
  {
   "cell_type": "code",
   "execution_count": 2,
   "id": "bb592b5b",
   "metadata": {},
   "outputs": [
    {
     "name": "stdout",
     "output_type": "stream",
     "text": [
      " Adieu, adieu,to apple, banana, and carrot\n"
     ]
    }
   ],
   "source": [
    "import inflect\n",
    "p=inflect.engine()\n",
    "t=[\"apple\", \"banana\", \"carrot\"]\n",
    "# mylist = p.join((t))\n",
    "print(f' Adieu, adieu,to {p.join((t))}')"
   ]
  },
  {
   "cell_type": "code",
   "execution_count": 12,
   "id": "64dc6e4f",
   "metadata": {},
   "outputs": [
    {
     "name": "stdout",
     "output_type": "stream",
     "text": [
      "Name: Liesl\n",
      "Name: Friedrich\n",
      "Name: Louisa\n",
      "Name: \n",
      "Adieu, adieu, to Liesl, Friedrich, and Louisa\n"
     ]
    }
   ],
   "source": [
    "import inflect\n",
    "p=inflect.engine()\n",
    "def main():\n",
    "    listed_names=adieu()\n",
    "    print(f'Adieu, adieu, to {p.join(listed_names)}')\n",
    "def adieu():\n",
    "    list_name=[]\n",
    "    while True:\n",
    "        \n",
    "        try:\n",
    "            \n",
    "            \n",
    "            us=input(\"Name: \")\n",
    "            if len(us)==0:\n",
    "                raise EOFError\n",
    "            else:\n",
    "                list_name.append(us)\n",
    "#             print(list_name)\n",
    "                \n",
    "        except EOFError:\n",
    "            break\n",
    "    return list_name\n",
    "main()\n",
    "                \n",
    "                \n",
    "            "
   ]
  },
  {
   "cell_type": "code",
   "execution_count": 20,
   "id": "cc3cdcc0",
   "metadata": {},
   "outputs": [
    {
     "name": "stdout",
     "output_type": "stream",
     "text": [
      "12\n",
      "YESS\n",
      "1\n",
      "YESS\n",
      "1 is odd\n"
     ]
    }
   ],
   "source": [
    "while True:\n",
    "    even_lst=[2,4,6,8,0]\n",
    "    odd_lst=[1,3,5,7,9]\n",
    "    try:\n",
    "        n=input()\n",
    "        if n.isdigit():\n",
    "            print(\"YESS\")\n",
    "            if len(n)==1:\n",
    "                n=int(n)\n",
    "                if n in even_lst:\n",
    "                    print(f\"{n} is Even\")\n",
    "                    break\n",
    "                else:\n",
    "                    print(f\"{n} is odd\")\n",
    "                    break\n",
    "            elif len(n)>1:\n",
    "                last=n[-1]\n",
    "                if last in even_lst:\n",
    "                    print(f\"{n} is Even\")\n",
    "                    break\n",
    "            else:\n",
    "                print(f\"{n} is odd\")\n",
    "                break\n",
    "        else:\n",
    "            raise ValueError\n",
    "    except ValueError:\n",
    "        pass\n",
    "        \n",
    "                \n",
    "            "
   ]
  },
  {
   "cell_type": "code",
   "execution_count": 21,
   "id": "e395ae81",
   "metadata": {},
   "outputs": [
    {
     "name": "stdout",
     "output_type": "stream",
     "text": [
      "2\n",
      "12\n",
      "12 is even\n"
     ]
    }
   ],
   "source": [
    "even_lst=[2,4,6,8,0]\n",
    "odd_lst=[1,3,5,7,9]\n",
    "while True:\n",
    "    n=input()\n",
    "    try:\n",
    "        if len(n)==1:\n",
    "            if n.isdigit():\n",
    "                if n in even_lst:\n",
    "                    print(f\"{n} is  Even\")\n",
    "                    break\n",
    "                elif n in odd_lst:\n",
    "                    print(f\"{n} is  Odd\")\n",
    "                    break\n",
    "            else:\n",
    "                raise ValueError\n",
    "        else:\n",
    "            if int(n[-1]) in even_lst:\n",
    "                print(f\"{n} is even\")\n",
    "                break\n",
    "            elif int(n[-1]) in odd_lst:\n",
    "                print(f\"{n} is odd\")\n",
    "                break\n",
    "                \n",
    "            else:\n",
    "                raise ValueError\n",
    "    except ValueError:\n",
    "        pass\n",
    "        \n",
    "        \n",
    "        "
   ]
  },
  {
   "cell_type": "code",
   "execution_count": 23,
   "id": "7d9a0bfc",
   "metadata": {},
   "outputs": [
    {
     "data": {
      "text/plain": [
       "1"
      ]
     },
     "execution_count": 23,
     "metadata": {},
     "output_type": "execute_result"
    }
   ],
   "source": [
    "s=\"3\"\n",
    "len(s)"
   ]
  },
  {
   "cell_type": "code",
   "execution_count": 38,
   "id": "2a213233",
   "metadata": {},
   "outputs": [
    {
     "name": "stdout",
     "output_type": "stream",
     "text": [
      "19\n",
      "19 is odd\n"
     ]
    }
   ],
   "source": [
    "even_lst=[2,4,6,8,0]\n",
    "odd_lst=[1,3,5,7,9]\n",
    "while True:\n",
    "    n=input()\n",
    "    try:\n",
    "        if len(n)==1:\n",
    "            if int(n) in even_lst:\n",
    "                print(f\"{n} is  Even\")\n",
    "                break\n",
    "            elif int(n) in odd_lst:\n",
    "                print(f\"{n} is  Odd\")\n",
    "                break\n",
    "            else:\n",
    "                raise ValueError\n",
    "        else:\n",
    "            if int(n[-1]) in even_lst:\n",
    "                print(f\"{n} is even\")\n",
    "                break\n",
    "            elif int(n[-1]) in odd_lst:\n",
    "                print(f\"{n} is odd\")\n",
    "                break\n",
    "                \n",
    "            else:\n",
    "                raise ValueError\n",
    "    except ValueError:\n",
    "        pass\n",
    "        \n",
    "        \n",
    "        "
   ]
  },
  {
   "cell_type": "code",
   "execution_count": 3,
   "id": "a54f2cfc",
   "metadata": {},
   "outputs": [
    {
     "name": "stdout",
     "output_type": "stream",
     "text": [
      "3\n",
      "EVEN\n"
     ]
    }
   ],
   "source": [
    "n=int(input())\n",
    "if n*2/2==n:\n",
    "    print(\"EVEN\")\n",
    "elif n*2/2!=n:\n",
    "    print(\"ODD\")"
   ]
  },
  {
   "cell_type": "code",
   "execution_count": null,
   "id": "ffd7f8fb",
   "metadata": {},
   "outputs": [],
   "source": []
  },
  {
   "cell_type": "code",
   "execution_count": 1,
   "id": "a0b0038e",
   "metadata": {},
   "outputs": [
    {
     "ename": "AssertionError",
     "evalue": "",
     "output_type": "error",
     "traceback": [
      "\u001b[1;31m---------------------------------------------------------------------------\u001b[0m",
      "\u001b[1;31mRequestException\u001b[0m                          Traceback (most recent call last)",
      "Input \u001b[1;32mIn [1]\u001b[0m, in \u001b[0;36m<cell line: 4>\u001b[1;34m()\u001b[0m\n\u001b[0;32m      5\u001b[0m     \u001b[38;5;28;01mif\u001b[39;00m \u001b[38;5;28mlen\u001b[39m(sys\u001b[38;5;241m.\u001b[39margv)\u001b[38;5;241m!=\u001b[39m\u001b[38;5;241m2\u001b[39m:\n\u001b[1;32m----> 6\u001b[0m         \u001b[38;5;28;01mraise\u001b[39;00m requests\u001b[38;5;241m.\u001b[39mRequestException  \n\u001b[0;32m      7\u001b[0m \u001b[38;5;28;01mexcept\u001b[39;00m requests\u001b[38;5;241m.\u001b[39mRequestException:\n",
      "\u001b[1;31mRequestException\u001b[0m: ",
      "\nDuring handling of the above exception, another exception occurred:\n",
      "\u001b[1;31mSystemExit\u001b[0m                                Traceback (most recent call last)",
      "    \u001b[1;31m[... skipping hidden 1 frame]\u001b[0m\n",
      "Input \u001b[1;32mIn [1]\u001b[0m, in \u001b[0;36m<cell line: 4>\u001b[1;34m()\u001b[0m\n\u001b[0;32m      7\u001b[0m \u001b[38;5;28;01mexcept\u001b[39;00m requests\u001b[38;5;241m.\u001b[39mRequestException:\n\u001b[1;32m----> 8\u001b[0m     \u001b[43msys\u001b[49m\u001b[38;5;241;43m.\u001b[39;49m\u001b[43mexit\u001b[49m\u001b[43m(\u001b[49m\u001b[38;5;124;43m\"\u001b[39;49m\u001b[38;5;124;43mMissing command-line argument \u001b[39;49m\u001b[38;5;124;43m\"\u001b[39;49m\u001b[43m)\u001b[49m\n\u001b[0;32m      9\u001b[0m \u001b[38;5;28;01mtry\u001b[39;00m:\n\u001b[0;32m     10\u001b[0m     \u001b[38;5;66;03m# if '.' in \u001b[39;00m\n",
      "\u001b[1;31mSystemExit\u001b[0m: Missing command-line argument ",
      "\nDuring handling of the above exception, another exception occurred:\n",
      "\u001b[1;31mAssertionError\u001b[0m                            Traceback (most recent call last)",
      "    \u001b[1;31m[... skipping hidden 1 frame]\u001b[0m\n",
      "File \u001b[1;32m~\\anaconda3\\lib\\site-packages\\IPython\\core\\interactiveshell.py:1972\u001b[0m, in \u001b[0;36mInteractiveShell.showtraceback\u001b[1;34m(self, exc_tuple, filename, tb_offset, exception_only, running_compiled_code)\u001b[0m\n\u001b[0;32m   1969\u001b[0m \u001b[38;5;28;01mif\u001b[39;00m exception_only:\n\u001b[0;32m   1970\u001b[0m     stb \u001b[38;5;241m=\u001b[39m [\u001b[38;5;124m'\u001b[39m\u001b[38;5;124mAn exception has occurred, use \u001b[39m\u001b[38;5;124m%\u001b[39m\u001b[38;5;124mtb to see \u001b[39m\u001b[38;5;124m'\u001b[39m\n\u001b[0;32m   1971\u001b[0m            \u001b[38;5;124m'\u001b[39m\u001b[38;5;124mthe full traceback.\u001b[39m\u001b[38;5;130;01m\\n\u001b[39;00m\u001b[38;5;124m'\u001b[39m]\n\u001b[1;32m-> 1972\u001b[0m     stb\u001b[38;5;241m.\u001b[39mextend(\u001b[38;5;28;43mself\u001b[39;49m\u001b[38;5;241;43m.\u001b[39;49m\u001b[43mInteractiveTB\u001b[49m\u001b[38;5;241;43m.\u001b[39;49m\u001b[43mget_exception_only\u001b[49m\u001b[43m(\u001b[49m\u001b[43metype\u001b[49m\u001b[43m,\u001b[49m\n\u001b[0;32m   1973\u001b[0m \u001b[43m                                                     \u001b[49m\u001b[43mvalue\u001b[49m\u001b[43m)\u001b[49m)\n\u001b[0;32m   1974\u001b[0m \u001b[38;5;28;01melse\u001b[39;00m:\n\u001b[0;32m   1975\u001b[0m     \u001b[38;5;28;01mtry\u001b[39;00m:\n\u001b[0;32m   1976\u001b[0m         \u001b[38;5;66;03m# Exception classes can customise their traceback - we\u001b[39;00m\n\u001b[0;32m   1977\u001b[0m         \u001b[38;5;66;03m# use this in IPython.parallel for exceptions occurring\u001b[39;00m\n\u001b[0;32m   1978\u001b[0m         \u001b[38;5;66;03m# in the engines. This should return a list of strings.\u001b[39;00m\n",
      "File \u001b[1;32m~\\anaconda3\\lib\\site-packages\\IPython\\core\\ultratb.py:585\u001b[0m, in \u001b[0;36mListTB.get_exception_only\u001b[1;34m(self, etype, value)\u001b[0m\n\u001b[0;32m    577\u001b[0m \u001b[38;5;28;01mdef\u001b[39;00m \u001b[38;5;21mget_exception_only\u001b[39m(\u001b[38;5;28mself\u001b[39m, etype, value):\n\u001b[0;32m    578\u001b[0m     \u001b[38;5;124;03m\"\"\"Only print the exception type and message, without a traceback.\u001b[39;00m\n\u001b[0;32m    579\u001b[0m \n\u001b[0;32m    580\u001b[0m \u001b[38;5;124;03m    Parameters\u001b[39;00m\n\u001b[1;32m   (...)\u001b[0m\n\u001b[0;32m    583\u001b[0m \u001b[38;5;124;03m    value : exception value\u001b[39;00m\n\u001b[0;32m    584\u001b[0m \u001b[38;5;124;03m    \"\"\"\u001b[39;00m\n\u001b[1;32m--> 585\u001b[0m     \u001b[38;5;28;01mreturn\u001b[39;00m \u001b[43mListTB\u001b[49m\u001b[38;5;241;43m.\u001b[39;49m\u001b[43mstructured_traceback\u001b[49m\u001b[43m(\u001b[49m\u001b[38;5;28;43mself\u001b[39;49m\u001b[43m,\u001b[49m\u001b[43m \u001b[49m\u001b[43metype\u001b[49m\u001b[43m,\u001b[49m\u001b[43m \u001b[49m\u001b[43mvalue\u001b[49m\u001b[43m)\u001b[49m\n",
      "File \u001b[1;32m~\\anaconda3\\lib\\site-packages\\IPython\\core\\ultratb.py:443\u001b[0m, in \u001b[0;36mListTB.structured_traceback\u001b[1;34m(self, etype, evalue, etb, tb_offset, context)\u001b[0m\n\u001b[0;32m    440\u001b[0m     chained_exc_ids\u001b[38;5;241m.\u001b[39madd(\u001b[38;5;28mid\u001b[39m(exception[\u001b[38;5;241m1\u001b[39m]))\n\u001b[0;32m    441\u001b[0m     chained_exceptions_tb_offset \u001b[38;5;241m=\u001b[39m \u001b[38;5;241m0\u001b[39m\n\u001b[0;32m    442\u001b[0m     out_list \u001b[38;5;241m=\u001b[39m (\n\u001b[1;32m--> 443\u001b[0m         \u001b[38;5;28;43mself\u001b[39;49m\u001b[38;5;241;43m.\u001b[39;49m\u001b[43mstructured_traceback\u001b[49m\u001b[43m(\u001b[49m\n\u001b[0;32m    444\u001b[0m \u001b[43m            \u001b[49m\u001b[43metype\u001b[49m\u001b[43m,\u001b[49m\u001b[43m \u001b[49m\u001b[43mevalue\u001b[49m\u001b[43m,\u001b[49m\u001b[43m \u001b[49m\u001b[43m(\u001b[49m\u001b[43metb\u001b[49m\u001b[43m,\u001b[49m\u001b[43m \u001b[49m\u001b[43mchained_exc_ids\u001b[49m\u001b[43m)\u001b[49m\u001b[43m,\u001b[49m\n\u001b[0;32m    445\u001b[0m \u001b[43m            \u001b[49m\u001b[43mchained_exceptions_tb_offset\u001b[49m\u001b[43m,\u001b[49m\u001b[43m \u001b[49m\u001b[43mcontext\u001b[49m\u001b[43m)\u001b[49m\n\u001b[0;32m    446\u001b[0m         \u001b[38;5;241m+\u001b[39m chained_exception_message\n\u001b[0;32m    447\u001b[0m         \u001b[38;5;241m+\u001b[39m out_list)\n\u001b[0;32m    449\u001b[0m \u001b[38;5;28;01mreturn\u001b[39;00m out_list\n",
      "File \u001b[1;32m~\\anaconda3\\lib\\site-packages\\IPython\\core\\ultratb.py:1118\u001b[0m, in \u001b[0;36mAutoFormattedTB.structured_traceback\u001b[1;34m(self, etype, value, tb, tb_offset, number_of_lines_of_context)\u001b[0m\n\u001b[0;32m   1116\u001b[0m \u001b[38;5;28;01melse\u001b[39;00m:\n\u001b[0;32m   1117\u001b[0m     \u001b[38;5;28mself\u001b[39m\u001b[38;5;241m.\u001b[39mtb \u001b[38;5;241m=\u001b[39m tb\n\u001b[1;32m-> 1118\u001b[0m \u001b[38;5;28;01mreturn\u001b[39;00m \u001b[43mFormattedTB\u001b[49m\u001b[38;5;241;43m.\u001b[39;49m\u001b[43mstructured_traceback\u001b[49m\u001b[43m(\u001b[49m\n\u001b[0;32m   1119\u001b[0m \u001b[43m    \u001b[49m\u001b[38;5;28;43mself\u001b[39;49m\u001b[43m,\u001b[49m\u001b[43m \u001b[49m\u001b[43metype\u001b[49m\u001b[43m,\u001b[49m\u001b[43m \u001b[49m\u001b[43mvalue\u001b[49m\u001b[43m,\u001b[49m\u001b[43m \u001b[49m\u001b[43mtb\u001b[49m\u001b[43m,\u001b[49m\u001b[43m \u001b[49m\u001b[43mtb_offset\u001b[49m\u001b[43m,\u001b[49m\u001b[43m \u001b[49m\u001b[43mnumber_of_lines_of_context\u001b[49m\u001b[43m)\u001b[49m\n",
      "File \u001b[1;32m~\\anaconda3\\lib\\site-packages\\IPython\\core\\ultratb.py:1012\u001b[0m, in \u001b[0;36mFormattedTB.structured_traceback\u001b[1;34m(self, etype, value, tb, tb_offset, number_of_lines_of_context)\u001b[0m\n\u001b[0;32m   1009\u001b[0m mode \u001b[38;5;241m=\u001b[39m \u001b[38;5;28mself\u001b[39m\u001b[38;5;241m.\u001b[39mmode\n\u001b[0;32m   1010\u001b[0m \u001b[38;5;28;01mif\u001b[39;00m mode \u001b[38;5;129;01min\u001b[39;00m \u001b[38;5;28mself\u001b[39m\u001b[38;5;241m.\u001b[39mverbose_modes:\n\u001b[0;32m   1011\u001b[0m     \u001b[38;5;66;03m# Verbose modes need a full traceback\u001b[39;00m\n\u001b[1;32m-> 1012\u001b[0m     \u001b[38;5;28;01mreturn\u001b[39;00m \u001b[43mVerboseTB\u001b[49m\u001b[38;5;241;43m.\u001b[39;49m\u001b[43mstructured_traceback\u001b[49m\u001b[43m(\u001b[49m\n\u001b[0;32m   1013\u001b[0m \u001b[43m        \u001b[49m\u001b[38;5;28;43mself\u001b[39;49m\u001b[43m,\u001b[49m\u001b[43m \u001b[49m\u001b[43metype\u001b[49m\u001b[43m,\u001b[49m\u001b[43m \u001b[49m\u001b[43mvalue\u001b[49m\u001b[43m,\u001b[49m\u001b[43m \u001b[49m\u001b[43mtb\u001b[49m\u001b[43m,\u001b[49m\u001b[43m \u001b[49m\u001b[43mtb_offset\u001b[49m\u001b[43m,\u001b[49m\u001b[43m \u001b[49m\u001b[43mnumber_of_lines_of_context\u001b[49m\n\u001b[0;32m   1014\u001b[0m \u001b[43m    \u001b[49m\u001b[43m)\u001b[49m\n\u001b[0;32m   1015\u001b[0m \u001b[38;5;28;01melif\u001b[39;00m mode \u001b[38;5;241m==\u001b[39m \u001b[38;5;124m'\u001b[39m\u001b[38;5;124mMinimal\u001b[39m\u001b[38;5;124m'\u001b[39m:\n\u001b[0;32m   1016\u001b[0m     \u001b[38;5;28;01mreturn\u001b[39;00m ListTB\u001b[38;5;241m.\u001b[39mget_exception_only(\u001b[38;5;28mself\u001b[39m, etype, value)\n",
      "File \u001b[1;32m~\\anaconda3\\lib\\site-packages\\IPython\\core\\ultratb.py:865\u001b[0m, in \u001b[0;36mVerboseTB.structured_traceback\u001b[1;34m(self, etype, evalue, etb, tb_offset, number_of_lines_of_context)\u001b[0m\n\u001b[0;32m    856\u001b[0m \u001b[38;5;28;01mdef\u001b[39;00m \u001b[38;5;21mstructured_traceback\u001b[39m(\n\u001b[0;32m    857\u001b[0m     \u001b[38;5;28mself\u001b[39m,\n\u001b[0;32m    858\u001b[0m     etype: \u001b[38;5;28mtype\u001b[39m,\n\u001b[1;32m   (...)\u001b[0m\n\u001b[0;32m    862\u001b[0m     number_of_lines_of_context: \u001b[38;5;28mint\u001b[39m \u001b[38;5;241m=\u001b[39m \u001b[38;5;241m5\u001b[39m,\n\u001b[0;32m    863\u001b[0m ):\n\u001b[0;32m    864\u001b[0m     \u001b[38;5;124;03m\"\"\"Return a nice text document describing the traceback.\"\"\"\u001b[39;00m\n\u001b[1;32m--> 865\u001b[0m     formatted_exception \u001b[38;5;241m=\u001b[39m \u001b[38;5;28;43mself\u001b[39;49m\u001b[38;5;241;43m.\u001b[39;49m\u001b[43mformat_exception_as_a_whole\u001b[49m\u001b[43m(\u001b[49m\u001b[43metype\u001b[49m\u001b[43m,\u001b[49m\u001b[43m \u001b[49m\u001b[43mevalue\u001b[49m\u001b[43m,\u001b[49m\u001b[43m \u001b[49m\u001b[43metb\u001b[49m\u001b[43m,\u001b[49m\u001b[43m \u001b[49m\u001b[43mnumber_of_lines_of_context\u001b[49m\u001b[43m,\u001b[49m\n\u001b[0;32m    866\u001b[0m \u001b[43m                                                           \u001b[49m\u001b[43mtb_offset\u001b[49m\u001b[43m)\u001b[49m\n\u001b[0;32m    868\u001b[0m     colors \u001b[38;5;241m=\u001b[39m \u001b[38;5;28mself\u001b[39m\u001b[38;5;241m.\u001b[39mColors  \u001b[38;5;66;03m# just a shorthand + quicker name lookup\u001b[39;00m\n\u001b[0;32m    869\u001b[0m     colorsnormal \u001b[38;5;241m=\u001b[39m colors\u001b[38;5;241m.\u001b[39mNormal  \u001b[38;5;66;03m# used a lot\u001b[39;00m\n",
      "File \u001b[1;32m~\\anaconda3\\lib\\site-packages\\IPython\\core\\ultratb.py:799\u001b[0m, in \u001b[0;36mVerboseTB.format_exception_as_a_whole\u001b[1;34m(self, etype, evalue, etb, number_of_lines_of_context, tb_offset)\u001b[0m\n\u001b[0;32m    796\u001b[0m \u001b[38;5;28;01massert\u001b[39;00m \u001b[38;5;28misinstance\u001b[39m(tb_offset, \u001b[38;5;28mint\u001b[39m)\n\u001b[0;32m    797\u001b[0m head \u001b[38;5;241m=\u001b[39m \u001b[38;5;28mself\u001b[39m\u001b[38;5;241m.\u001b[39mprepare_header(etype, \u001b[38;5;28mself\u001b[39m\u001b[38;5;241m.\u001b[39mlong_header)\n\u001b[0;32m    798\u001b[0m records \u001b[38;5;241m=\u001b[39m (\n\u001b[1;32m--> 799\u001b[0m     \u001b[38;5;28;43mself\u001b[39;49m\u001b[38;5;241;43m.\u001b[39;49m\u001b[43mget_records\u001b[49m\u001b[43m(\u001b[49m\u001b[43metb\u001b[49m\u001b[43m,\u001b[49m\u001b[43m \u001b[49m\u001b[43mnumber_of_lines_of_context\u001b[49m\u001b[43m,\u001b[49m\u001b[43m \u001b[49m\u001b[43mtb_offset\u001b[49m\u001b[43m)\u001b[49m \u001b[38;5;28;01mif\u001b[39;00m etb \u001b[38;5;28;01melse\u001b[39;00m []\n\u001b[0;32m    800\u001b[0m )\n\u001b[0;32m    802\u001b[0m frames \u001b[38;5;241m=\u001b[39m []\n\u001b[0;32m    803\u001b[0m skipped \u001b[38;5;241m=\u001b[39m \u001b[38;5;241m0\u001b[39m\n",
      "File \u001b[1;32m~\\anaconda3\\lib\\site-packages\\IPython\\core\\ultratb.py:854\u001b[0m, in \u001b[0;36mVerboseTB.get_records\u001b[1;34m(self, etb, number_of_lines_of_context, tb_offset)\u001b[0m\n\u001b[0;32m    848\u001b[0m     formatter \u001b[38;5;241m=\u001b[39m \u001b[38;5;28;01mNone\u001b[39;00m\n\u001b[0;32m    849\u001b[0m options \u001b[38;5;241m=\u001b[39m stack_data\u001b[38;5;241m.\u001b[39mOptions(\n\u001b[0;32m    850\u001b[0m     before\u001b[38;5;241m=\u001b[39mbefore,\n\u001b[0;32m    851\u001b[0m     after\u001b[38;5;241m=\u001b[39mafter,\n\u001b[0;32m    852\u001b[0m     pygments_formatter\u001b[38;5;241m=\u001b[39mformatter,\n\u001b[0;32m    853\u001b[0m )\n\u001b[1;32m--> 854\u001b[0m \u001b[38;5;28;01mreturn\u001b[39;00m \u001b[38;5;28;43mlist\u001b[39;49m\u001b[43m(\u001b[49m\u001b[43mstack_data\u001b[49m\u001b[38;5;241;43m.\u001b[39;49m\u001b[43mFrameInfo\u001b[49m\u001b[38;5;241;43m.\u001b[39;49m\u001b[43mstack_data\u001b[49m\u001b[43m(\u001b[49m\u001b[43metb\u001b[49m\u001b[43m,\u001b[49m\u001b[43m \u001b[49m\u001b[43moptions\u001b[49m\u001b[38;5;241;43m=\u001b[39;49m\u001b[43moptions\u001b[49m\u001b[43m)\u001b[49m\u001b[43m)\u001b[49m[tb_offset:]\n",
      "File \u001b[1;32m~\\anaconda3\\lib\\site-packages\\stack_data\\core.py:546\u001b[0m, in \u001b[0;36mFrameInfo.stack_data\u001b[1;34m(cls, frame_or_tb, options, collapse_repeated_frames)\u001b[0m\n\u001b[0;32m    530\u001b[0m \u001b[38;5;129m@classmethod\u001b[39m\n\u001b[0;32m    531\u001b[0m \u001b[38;5;28;01mdef\u001b[39;00m \u001b[38;5;21mstack_data\u001b[39m(\n\u001b[0;32m    532\u001b[0m         \u001b[38;5;28mcls\u001b[39m,\n\u001b[1;32m   (...)\u001b[0m\n\u001b[0;32m    536\u001b[0m         collapse_repeated_frames: \u001b[38;5;28mbool\u001b[39m \u001b[38;5;241m=\u001b[39m \u001b[38;5;28;01mTrue\u001b[39;00m\n\u001b[0;32m    537\u001b[0m ) \u001b[38;5;241m-\u001b[39m\u001b[38;5;241m>\u001b[39m Iterator[Union[\u001b[38;5;124m'\u001b[39m\u001b[38;5;124mFrameInfo\u001b[39m\u001b[38;5;124m'\u001b[39m, RepeatedFrames]]:\n\u001b[0;32m    538\u001b[0m     \u001b[38;5;124;03m\"\"\"\u001b[39;00m\n\u001b[0;32m    539\u001b[0m \u001b[38;5;124;03m    An iterator of FrameInfo and RepeatedFrames objects representing\u001b[39;00m\n\u001b[0;32m    540\u001b[0m \u001b[38;5;124;03m    a full traceback or stack. Similar consecutive frames are collapsed into RepeatedFrames\u001b[39;00m\n\u001b[1;32m   (...)\u001b[0m\n\u001b[0;32m    544\u001b[0m \u001b[38;5;124;03m    and optionally an Options object to configure.\u001b[39;00m\n\u001b[0;32m    545\u001b[0m \u001b[38;5;124;03m    \"\"\"\u001b[39;00m\n\u001b[1;32m--> 546\u001b[0m     stack \u001b[38;5;241m=\u001b[39m \u001b[38;5;28;43mlist\u001b[39;49m\u001b[43m(\u001b[49m\u001b[43miter_stack\u001b[49m\u001b[43m(\u001b[49m\u001b[43mframe_or_tb\u001b[49m\u001b[43m)\u001b[49m\u001b[43m)\u001b[49m\n\u001b[0;32m    548\u001b[0m     \u001b[38;5;66;03m# Reverse the stack from a frame so that it's in the same order\u001b[39;00m\n\u001b[0;32m    549\u001b[0m     \u001b[38;5;66;03m# as the order from a traceback, which is the order of a printed\u001b[39;00m\n\u001b[0;32m    550\u001b[0m     \u001b[38;5;66;03m# traceback when read top to bottom (most recent call last)\u001b[39;00m\n\u001b[0;32m    551\u001b[0m     \u001b[38;5;28;01mif\u001b[39;00m is_frame(frame_or_tb):\n",
      "File \u001b[1;32m~\\anaconda3\\lib\\site-packages\\stack_data\\utils.py:98\u001b[0m, in \u001b[0;36miter_stack\u001b[1;34m(frame_or_tb)\u001b[0m\n\u001b[0;32m     96\u001b[0m \u001b[38;5;28;01mwhile\u001b[39;00m frame_or_tb:\n\u001b[0;32m     97\u001b[0m     \u001b[38;5;28;01myield\u001b[39;00m frame_or_tb\n\u001b[1;32m---> 98\u001b[0m     \u001b[38;5;28;01mif\u001b[39;00m \u001b[43mis_frame\u001b[49m\u001b[43m(\u001b[49m\u001b[43mframe_or_tb\u001b[49m\u001b[43m)\u001b[49m:\n\u001b[0;32m     99\u001b[0m         frame_or_tb \u001b[38;5;241m=\u001b[39m frame_or_tb\u001b[38;5;241m.\u001b[39mf_back\n\u001b[0;32m    100\u001b[0m     \u001b[38;5;28;01melse\u001b[39;00m:\n",
      "File \u001b[1;32m~\\anaconda3\\lib\\site-packages\\stack_data\\utils.py:91\u001b[0m, in \u001b[0;36mis_frame\u001b[1;34m(frame_or_tb)\u001b[0m\n\u001b[0;32m     90\u001b[0m \u001b[38;5;28;01mdef\u001b[39;00m \u001b[38;5;21mis_frame\u001b[39m(frame_or_tb: Union[FrameType, TracebackType]) \u001b[38;5;241m-\u001b[39m\u001b[38;5;241m>\u001b[39m \u001b[38;5;28mbool\u001b[39m:\n\u001b[1;32m---> 91\u001b[0m     \u001b[43massert_\u001b[49m\u001b[43m(\u001b[49m\u001b[38;5;28;43misinstance\u001b[39;49m\u001b[43m(\u001b[49m\u001b[43mframe_or_tb\u001b[49m\u001b[43m,\u001b[49m\u001b[43m \u001b[49m\u001b[43m(\u001b[49m\u001b[43mtypes\u001b[49m\u001b[38;5;241;43m.\u001b[39;49m\u001b[43mFrameType\u001b[49m\u001b[43m,\u001b[49m\u001b[43m \u001b[49m\u001b[43mtypes\u001b[49m\u001b[38;5;241;43m.\u001b[39;49m\u001b[43mTracebackType\u001b[49m\u001b[43m)\u001b[49m\u001b[43m)\u001b[49m\u001b[43m)\u001b[49m\n\u001b[0;32m     92\u001b[0m     \u001b[38;5;28;01mreturn\u001b[39;00m \u001b[38;5;28misinstance\u001b[39m(frame_or_tb, (types\u001b[38;5;241m.\u001b[39mFrameType,))\n",
      "File \u001b[1;32m~\\anaconda3\\lib\\site-packages\\stack_data\\utils.py:172\u001b[0m, in \u001b[0;36massert_\u001b[1;34m(condition, error)\u001b[0m\n\u001b[0;32m    170\u001b[0m \u001b[38;5;28;01mif\u001b[39;00m \u001b[38;5;28misinstance\u001b[39m(error, \u001b[38;5;28mstr\u001b[39m):\n\u001b[0;32m    171\u001b[0m     error \u001b[38;5;241m=\u001b[39m \u001b[38;5;167;01mAssertionError\u001b[39;00m(error)\n\u001b[1;32m--> 172\u001b[0m \u001b[38;5;28;01mraise\u001b[39;00m error\n",
      "\u001b[1;31mAssertionError\u001b[0m: "
     ]
    }
   ],
   "source": [
    "import requests\n",
    "import json\n",
    "import sys\n",
    "try:\n",
    "    if len(sys.argv)!=2:\n",
    "        raise requests.RequestException  \n",
    "except requests.RequestException:\n",
    "    sys.exit(\"Missing command-line argument \")\n",
    "try:\n",
    "    # if '.' in \n",
    "    if sys.argv[1].isalpha():\n",
    "        raise ValueError\n",
    "        # temp=sys.argv[1]\n",
    "        # if '.' in temp:\n",
    "        #     pass\n",
    "        #     # length=len(sys.argv[1])\n",
    "        #     # var=temp.replace('.',\"\")\n",
    "        #     # # ind=temp.index('.')\n",
    "        #     # var=int(var)/length\n",
    "        # else:\n",
    "        #     raise ValueError\n",
    "    else:\n",
    "        var=float(sys.argv[1])\n",
    "except ValueError:\n",
    "    sys.exit(\"Command-line argument is not a number \")\n",
    "response = requests.get(\"https://api.coindesk.com/v1/bpi/currentprice.json\")\n",
    "print(json.dumps(response.json(), indent=5))\n",
    "o=response.json()\n",
    "st=''\n",
    "for result in o[\"bpi\"][\"USD\"]['rate']:\n",
    "  #  if result.isdigit():\n",
    "    st+=result\n",
    "  #  elif result==',':\n",
    "index_comma=st.index(',') \n",
    "index_period=st.index('.')    \n",
    "# if \",\" and \"\"  in st:\n",
    "    # index_comma=st.index(',')\n",
    "    # print(index_comma)\n",
    "# elif \".\"  in st:\n",
    "    # index_period=st.index('.')\n",
    "    # print(index_period)\n",
    "st=st.replace(',','').replace('.','')\n",
    "result_value=int(st)*var\n",
    "result_value=str(result_value)\n",
    "rl=result_value[:index_comma]+result_value[index_comma:index_period]+'.'+result_value[index_period:-2]\n",
    "final_result='{:,}'.format(float(rl))\n",
    "print(final_result)\n",
    "# result_value=\"{:,.4f}\".format(result_value)\n",
    "# print(result_value)\n",
    "    \n",
    "      #  index_value=result.\n",
    "# print(int(st)*var)\n",
    "\n",
    "\n",
    "# import json\n",
    "# import requests\n",
    "# import sys\n",
    "# if len(sys.argv) != 2:\n",
    "#     sys.exit()\n",
    "\n",
    "\n",
    "# else:\n",
    "#   try:\n",
    "#       if sys.argv[1].isalnum():\n",
    "#          var=int(sys.argv[1])\n",
    "#          print(var)\n",
    "#           # raise ValueError\n",
    "#       else:\n",
    "#         raise ValueError\n",
    "#         # var=int(sys.argv[1])\n",
    "#         # print(var)\n",
    "#   # if len(sys.argv) < 2:\n",
    "#   #     sys.exit(\"Too few arguments\")\n",
    "#   except ValueError:\n",
    "#      sys.exit(\"Command-line argument is not a number \")\n",
    "\n",
    "# response = requests.get(\"https://api.coindesk.com/v1/bpi/currentprice.json\")\n",
    "# print(json.dumps(response.json(), indent=2))\n",
    "# o=response.json()\n",
    "# st=''\n",
    "# for result in o[\"bpi\"][\"USD\"]['rate']:\n",
    "#    if result.isdigit():\n",
    "#     st+=result\n",
    "    \n",
    "#    else:\n",
    "#       st+=result\n",
    "# print(int(st)*var)\n",
    "# # if \",\" in st:\n",
    "# #    st.replace(',',' ')\n",
    "# # print(st)\n",
    "# # for result in o[\"bpi\"][\"USD\"].get('rate'):\n",
    "# #    st+=result\n",
    "# # print(st)\n",
    "#   #  sys.exit(result*var)\n",
    "#     # if result==\"rate\":\n",
    "#         # for results in result:\n",
    "#         #   if result==\"rate\":\n",
    "#         # sys.exit(result.get('rate'))\n",
    "#           # else:\n",
    "#           #    sys.exit(\"NOT FOUND\")\n",
    "#     # print([result]['bpi']['USD'].get('rate'))\n",
    "#   # if result==\"USD\":\n",
    "#   #    elem=USD.get(\"rate\")\n",
    "#   #    print(\"elem\")\n",
    "#   # va=result[\"USD\"]\n",
    "#   # print(va[\"rate\"]*sys.argvs[1])\n",
    "\n",
    "# # for arg in sys.argv[1:]:\n",
    "# #     print(\"hello, my name is\", arg)"
   ]
  },
  {
   "cell_type": "markdown",
   "id": "15ad686e",
   "metadata": {},
   "source": []
  }
 ],
 "metadata": {
  "kernelspec": {
   "display_name": "Python 3 (ipykernel)",
   "language": "python",
   "name": "python3"
  },
  "language_info": {
   "codemirror_mode": {
    "name": "ipython",
    "version": 3
   },
   "file_extension": ".py",
   "mimetype": "text/x-python",
   "name": "python",
   "nbconvert_exporter": "python",
   "pygments_lexer": "ipython3",
   "version": "3.9.12"
  }
 },
 "nbformat": 4,
 "nbformat_minor": 5
}
