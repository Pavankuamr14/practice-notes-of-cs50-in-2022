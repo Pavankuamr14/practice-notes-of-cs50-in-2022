{
 "cells": [
  {
   "cell_type": "code",
   "execution_count": 7,
   "id": "22b2db71",
   "metadata": {},
   "outputs": [
    {
     "name": "stdout",
     "output_type": "stream",
     "text": [
      "5\n",
      "1\n",
      "2\n",
      "3\n",
      "7\n",
      "5\n",
      "[2, 3, 7, 5]\n"
     ]
    },
    {
     "data": {
      "text/plain": [
       "[2, 3, 7, 5]"
      ]
     },
     "execution_count": 7,
     "metadata": {},
     "output_type": "execute_result"
    }
   ],
   "source": [
    "size=int(input())\n",
    "arr=[]\n",
    "temp=0\n",
    "tar=12\n",
    "for  i in range(size):\n",
    "    \n",
    "    user_input=int(input())\n",
    "    arr.append(user_input)\n",
    "for j in range(len(arr)):\n",
    "# temp+=i\n",
    "    if temp<tar:\n",
    "        temp+=arr[j]\n",
    "    else:\n",
    "        pass\n",
    "    \n",
    "var=temp-tar\n",
    "if var in arr:\n",
    "    index=arr.index(var)\n",
    "    arr.remove(var)\n",
    "#     index=arr.index(var)\n",
    "    print(arr[index:])\n",
    "\n",
    "arr"
   ]
  },
  {
   "cell_type": "code",
   "execution_count": 6,
   "id": "4aa48331",
   "metadata": {},
   "outputs": [
    {
     "name": "stdout",
     "output_type": "stream",
     "text": [
      "enter the time 7.5\n"
     ]
    }
   ],
   "source": [
    "'''\n",
    "___________________________________problem statement_________________________________________________________________\n",
    "In meal.py, implement a program that prompts the user for a time and outputs whether it’s breakfast time, lunch time, or dinner time.\n",
    "If it’s not time for a meal, don’t output anything at all. Assume that the user’s input will be formatted in 24-hour time as #:## or ##:##.\n",
    "And assume that each meal’s time range is inclusive. For instance, whether it’s 7:00, 7:01, 7:59, or 8:00, or anytime in between, it’s time for breakfast.\n",
    "Structure your program per the below, wherein convert is a function (that can be called by main) that converts time,\n",
    "a str in 24-hour format, to the corresponding number of hours as a float.\n",
    "For instance, given a time like \"7:30\" (i.e., 7 hours and 30 minutes), convert should return 7.5 (i.e., 7.5 hours).'''\n",
    "us=input(\"enter the time \")\n",
    "if len(us)>4:\n",
    "    # checking that do input contain \":\" if their present replace them with \".\" and converting them into float\n",
    "    if \":\" in us:\n",
    "        us=us.replace(\":\",\".\")\n",
    "        time=float(us)\n",
    "    # NOTE:-THESE MY TEST CASE, checking that do input contain \".\" if their present replace them with \".\" and converting them into float\n",
    "    # if '.' in us:\n",
    "    #     us=us.replace(\".\",'.')\n",
    "    #     time=float(us)\n",
    "    if time>=7 and time<=8:\n",
    "        print(\"breakfast time\")\n",
    "    elif time>=12 and time<=13:\n",
    "        print(\"lucnch time\")\n",
    "    elif time>=18 and time<=19:\n",
    "        print(\"dinner time\")\n",
    "\n"
   ]
  },
  {
   "cell_type": "code",
   "execution_count": null,
   "id": "76e30289",
   "metadata": {},
   "outputs": [],
   "source": []
  },
  {
   "cell_type": "code",
   "execution_count": 2,
   "id": "5a95b695",
   "metadata": {},
   "outputs": [
    {
     "name": "stdout",
     "output_type": "stream",
     "text": [
      "[1, 2, 3]\n",
      "2\n"
     ]
    }
   ],
   "source": [
    "num1=[1,3]\n",
    "num2=[2]\n",
    "tem=[]\n",
    "\n",
    "\n",
    "num1.extend(num2)\n",
    "tem.extend(num1)\n",
    "tem.sort()\n",
    "print(tem)\n",
    "length=len(tem)\n",
    "# print(length)\n",
    "if length%2==0:\n",
    "    var1=length/2\n",
    "#     var2=var1+1\n",
    "    add=tem[int(var1)-1]+tem[int(var1)]\n",
    "    re=add/2\n",
    "    print(re)\n",
    "else:\n",
    "    t=tem[int(length/2)]\n",
    "    print(t)\n",
    "    \n"
   ]
  },
  {
   "cell_type": "code",
   "execution_count": 21,
   "id": "5311581c",
   "metadata": {},
   "outputs": [
    {
     "name": "stdout",
     "output_type": "stream",
     "text": [
      "[1, 2, 3, 4]\n",
      "2\n"
     ]
    }
   ],
   "source": [
    "num1=[1,2]\n",
    "num2=[3,4]\n",
    "tem=[]\n",
    "\n",
    "\n",
    "num1.extend(num2)\n",
    "tem.extend(num1)\n",
    "tem.sort()\n",
    "print(tem)\n",
    "length=len(tem)\n",
    "# print(length)\n",
    "if length%2==0:\n",
    "    var1=length//2\n",
    "#     var2=var1+1\n",
    "    add=tem[(var1)-1]+tem[(var1)]\n",
    "    re=add//2\n",
    "    print(re)\n",
    "else:\n",
    "    t=tem[(length//2)]\n",
    "    print(t)\n",
    "    \n"
   ]
  },
  {
   "cell_type": "code",
   "execution_count": 19,
   "id": "02447b87",
   "metadata": {},
   "outputs": [
    {
     "data": {
      "text/plain": [
       "2"
      ]
     },
     "execution_count": 19,
     "metadata": {},
     "output_type": "execute_result"
    }
   ],
   "source": [
    "4//2"
   ]
  },
  {
   "cell_type": "code",
   "execution_count": 47,
   "id": "507819f3",
   "metadata": {},
   "outputs": [
    {
     "name": "stdout",
     "output_type": "stream",
     "text": [
      "1 1\n",
      "1 2\n",
      "1 3\n",
      "1 4\n",
      "2 2\n",
      "2 3\n",
      "2 4\n",
      "3 3\n",
      "3 4\n",
      "4 4\n"
     ]
    }
   ],
   "source": [
    "s=[1,2,3,4]\n",
    "for i in range(len(s)):\n",
    "    for j in range(i,len(s)):\n",
    "        if s[i]==s[j]:\n",
    "            print(s[i],s[j])\n",
    "        else:\n",
    "            print(s[i],s[j])\n",
    "    "
   ]
  },
  {
   "cell_type": "code",
   "execution_count": 23,
   "id": "ee81973e",
   "metadata": {},
   "outputs": [
    {
     "name": "stdout",
     "output_type": "stream",
     "text": [
      "true\n",
      "true\n",
      "true\n",
      "true\n",
      "true\n"
     ]
    }
   ],
   "source": [
    "s =\"()[]{\"\n",
    "for i in range(len(s)):\n",
    "    for j in range(i,i+1):\n",
    "        if s[i]==s[j]:\n",
    "            print(\"true\")\n",
    "        else:\n",
    "            print(\"false\") "
   ]
  },
  {
   "cell_type": "code",
   "execution_count": 12,
   "id": "1e52fa30",
   "metadata": {},
   "outputs": [],
   "source": [
    "class Solution(object):\n",
    "    def findMedianSortedArrays(self, nums1, nums2):\n",
    "        \"\"\"\n",
    "        :type nums1: List[int]\n",
    "        :type nums2: List[int]\n",
    "        :rtype: float\n",
    "        \"\"\"\n",
    "        tem=[]\n",
    "        nums1.extend(nums2)\n",
    "        tem.extend(nums1)\n",
    "        tem.sort()\n",
    "        length=len(tem)\n",
    "        if length%2==0:\n",
    "            var1=length/2\n",
    "            add=tem[int(var1)-1]+tem[int(var1)]\n",
    "            re=add//2\n",
    "            return re\n",
    "        else:\n",
    "            t=tem[int(length/2)]\n",
    "            return t\n",
    "obj="
   ]
  },
  {
   "cell_type": "code",
   "execution_count": 29,
   "id": "6fb1cd97",
   "metadata": {},
   "outputs": [
    {
     "name": "stdout",
     "output_type": "stream",
     "text": [
      "Enter a String: }\n",
      "} \t 125\n"
     ]
    }
   ],
   "source": [
    "print(\"Enter a String: \", end=\"\")\n",
    "text = input()\n",
    "textlength = len(text)\n",
    "for char in text:\n",
    "\tascii = ord(char)\n",
    "\tprint(char, \"\\t\", ascii)\n"
   ]
  },
  {
   "cell_type": "code",
   "execution_count": 30,
   "id": "e5d39575",
   "metadata": {},
   "outputs": [
    {
     "name": "stdout",
     "output_type": "stream",
     "text": [
      "Enter a String: (){}[]\n",
      "( \t 40\n",
      ") \t 41\n",
      "{ \t 123\n",
      "} \t 125\n",
      "[ \t 91\n",
      "] \t 93\n"
     ]
    }
   ],
   "source": [
    "print(\"Enter a String: \", end=\"\")\n",
    "text = input()\n",
    "textlength = len(text)\n",
    "for char in text:\n",
    "\tascii = ord(char)\n",
    "\tprint(char, \"\\t\", ascii)\n"
   ]
  },
  {
   "cell_type": "code",
   "execution_count": null,
   "id": "77585e97",
   "metadata": {},
   "outputs": [],
   "source": [
    "t=[40,41,91,123,125]"
   ]
  },
  {
   "cell_type": "code",
   "execution_count": 13,
   "id": "753a73eb",
   "metadata": {},
   "outputs": [
    {
     "data": {
      "text/plain": [
       "3"
      ]
     },
     "execution_count": 13,
     "metadata": {},
     "output_type": "execute_result"
    }
   ],
   "source": [
    "var=[1,2,3,4]\n",
    "var[2]"
   ]
  },
  {
   "cell_type": "code",
   "execution_count": 5,
   "id": "f5dc1638",
   "metadata": {},
   "outputs": [
    {
     "data": {
      "text/plain": [
       "True"
      ]
     },
     "execution_count": 5,
     "metadata": {},
     "output_type": "execute_result"
    }
   ],
   "source": [
    "ss=(1,2,\"jjk\",\"uj\",1,\"jjk\",[\"jkjk\"],{\"huuuo\"})\n",
    "all(ss)"
   ]
  },
  {
   "cell_type": "code",
   "execution_count": 6,
   "id": "afe0cddd",
   "metadata": {},
   "outputs": [
    {
     "name": "stdout",
     "output_type": "stream",
     "text": [
      "(1, 6, 'opo')\n"
     ]
    }
   ],
   "source": [
    "ak=1,6,\"opo\"\n",
    "print(ak)"
   ]
  },
  {
   "cell_type": "code",
   "execution_count": 9,
   "id": "5d54f27f",
   "metadata": {},
   "outputs": [
    {
     "name": "stdout",
     "output_type": "stream",
     "text": [
      "[1, 1, 23, 4, 9]\n"
     ]
    }
   ],
   "source": [
    "lst=[1,1,23,4,9]\n",
    "print(lst)"
   ]
  },
  {
   "cell_type": "code",
   "execution_count": null,
   "id": "5e283541",
   "metadata": {},
   "outputs": [],
   "source": []
  },
  {
   "cell_type": "code",
   "execution_count": null,
   "id": "be67ea76",
   "metadata": {},
   "outputs": [],
   "source": []
  },
  {
   "cell_type": "markdown",
   "id": "3b5bca62",
   "metadata": {},
   "source": []
  },
  {
   "cell_type": "code",
   "execution_count": null,
   "id": "8eee2e12",
   "metadata": {},
   "outputs": [],
   "source": [
    "s=12\n",
    "size_arr=int(input(\"enter the array size\"))\n",
    "temp_arr=[]\n",
    "lst=[]\n",
    "delete=[]\n",
    "for i in range(size_arr):\n",
    "    input_elm=int(input())\n",
    "    temp_arr.append(input_elm)\n",
    "for j in range(size_arr):\n",
    "    lst.append(temp_arr[j])\n",
    "    if sum(lst)>s:\n",
    "        var=sum(lst)-s\n",
    "        delete.append(var)\n",
    "        temp_arr.remove(var)\n",
    "    else:\n",
    "        pass\n",
    "if delete in lst:\n",
    "    lst.remove(delete)\n",
    "else:\n",
    "    pass\n",
    "lst\n",
    "    \n",
    "    "
   ]
  },
  {
   "cell_type": "code",
   "execution_count": 1,
   "id": "48183bf1",
   "metadata": {},
   "outputs": [
    {
     "name": "stdout",
     "output_type": "stream",
     "text": [
      "enter the array size5\n",
      "1\n",
      "2\n",
      "3\n",
      "7\n",
      "5\n",
      "[2, 3, 7]\n"
     ]
    }
   ],
   "source": [
    "s=12\n",
    "size_arr=int(input(\"enter the array size\"))\n",
    "temp_arr=[]\n",
    "lst=[]\n",
    "# delete=[]\n",
    "for i in range(size_arr):\n",
    "    input_elm=int(input())\n",
    "    temp_arr.append(input_elm)\n",
    "    if sum(temp_arr)>s:\n",
    "        var=sum(temp_arr)-s\n",
    "        lst.append(var)\n",
    "        temp_arr.remove(var)\n",
    "    else:\n",
    "        pass\n",
    "if sum(temp_arr)==s:\n",
    "    print(temp_arr)\n",
    "else:\n",
    "    print(\" something wrong was happend\")"
   ]
  },
  {
   "cell_type": "code",
   "execution_count": null,
   "id": "c67d34db",
   "metadata": {},
   "outputs": [],
   "source": []
  },
  {
   "cell_type": "code",
   "execution_count": null,
   "id": "1bbf0f14",
   "metadata": {},
   "outputs": [],
   "source": []
  },
  {
   "cell_type": "code",
   "execution_count": null,
   "id": "22bc4256",
   "metadata": {},
   "outputs": [],
   "source": []
  },
  {
   "cell_type": "code",
   "execution_count": null,
   "id": "4c9db7db",
   "metadata": {},
   "outputs": [],
   "source": []
  },
  {
   "cell_type": "code",
   "execution_count": null,
   "id": "9f5d7100",
   "metadata": {},
   "outputs": [],
   "source": []
  },
  {
   "cell_type": "code",
   "execution_count": null,
   "id": "ca4d4515",
   "metadata": {},
   "outputs": [],
   "source": []
  },
  {
   "cell_type": "code",
   "execution_count": null,
   "id": "da4b4f8c",
   "metadata": {},
   "outputs": [],
   "source": []
  },
  {
   "cell_type": "code",
   "execution_count": null,
   "id": "4bae3367",
   "metadata": {},
   "outputs": [],
   "source": []
  },
  {
   "cell_type": "code",
   "execution_count": 1,
   "id": "9a020f3d",
   "metadata": {},
   "outputs": [
    {
     "name": "stdout",
     "output_type": "stream",
     "text": [
      "        * \n",
      "      * * \n",
      "    *   * \n",
      "  *     * \n",
      "* * * * * \n"
     ]
    }
   ],
   "source": [
    "n=5\n",
    "for i in range(n):\n",
    "    for j in range(n):\n",
    "        if(i+j==n-1or i==n-1 or j==n-1):\n",
    "            print('*',end=\" \")\n",
    "        else:\n",
    "            print(' ',end=\" \")\n",
    "    print()"
   ]
  },
  {
   "cell_type": "code",
   "execution_count": null,
   "id": "d7bf2bd4",
   "metadata": {},
   "outputs": [],
   "source": []
  },
  {
   "cell_type": "code",
   "execution_count": 6,
   "id": "38ec3d43",
   "metadata": {},
   "outputs": [
    {
     "name": "stdout",
     "output_type": "stream",
     "text": [
      "kjjk\n",
      "NOT VALID\n"
     ]
    }
   ],
   "source": []
  },
  {
   "cell_type": "code",
   "execution_count": 15,
   "id": "86a88c07",
   "metadata": {},
   "outputs": [
    {
     "name": "stdout",
     "output_type": "stream",
     "text": [
      "6\n",
      ". . . . . O . . . . . \n",
      ". . . . O O O . . . . \n",
      ". . . O O O O O . . . \n",
      ". . O O O O O O O . . \n",
      ". O O O O O O O O O . \n",
      "O O O O O O O O O O O \n"
     ]
    }
   ],
   "source": [
    "n=int(input())\n",
    "for i in range(n):\n",
    "    for j in range(i,n-1):\n",
    "        print(\".\",end=\" \")\n",
    "    \n",
    "    for j in range(i+1):\n",
    "        print(\"O\",end=\" \")\n",
    "    \n",
    "    for j in range(i):\n",
    "        print(\"O\",end=\" \")\n",
    "    for j in range(i,n-1):\n",
    "        print(\".\",end=\" \")\n",
    "    print()"
   ]
  },
  {
   "cell_type": "code",
   "execution_count": 11,
   "id": "7647d541",
   "metadata": {},
   "outputs": [
    {
     "name": "stdout",
     "output_type": "stream",
     "text": [
      "O . . . . \n",
      "O . . . \n",
      "O . . \n",
      "O . \n"
     ]
    }
   ],
   "source": [
    "n=4\n",
    "for i in range(n):\n",
    "    print(\"O\",end=\" \")#i=0\n",
    "    for j in range(i,n):#0-3\n",
    "        print(\".\",end=\" \")\n",
    "    print()"
   ]
  },
  {
   "cell_type": "code",
   "execution_count": 32,
   "id": "4dd3f48f",
   "metadata": {},
   "outputs": [
    {
     "name": "stdout",
     "output_type": "stream",
     "text": [
      "****\n",
      "***\n",
      "**\n",
      "*\n"
     ]
    }
   ],
   "source": [
    "for i in range(n):\n",
    "    for j in range(i,n):\n",
    "        if i<=j:\n",
    "            print(\"*\",end=\"\")\n",
    "        else:\n",
    "            print(\" \")\n",
    "    print()"
   ]
  },
  {
   "cell_type": "code",
   "execution_count": 44,
   "id": "6c4ea31c",
   "metadata": {},
   "outputs": [
    {
     "name": "stdout",
     "output_type": "stream",
     "text": [
      "\n",
      "*\n",
      "**\n",
      "***\n",
      "****\n",
      "*****\n",
      "******\n",
      "*******\n",
      "\n"
     ]
    }
   ],
   "source": [
    "for i in range(0,8):\n",
    "    print('*'*i)\n",
    "print()"
   ]
  },
  {
   "cell_type": "code",
   "execution_count": null,
   "id": "27867599",
   "metadata": {},
   "outputs": [],
   "source": []
  },
  {
   "cell_type": "code",
   "execution_count": null,
   "id": "5071d1b5",
   "metadata": {},
   "outputs": [],
   "source": []
  },
  {
   "cell_type": "code",
   "execution_count": null,
   "id": "4752f1dd",
   "metadata": {},
   "outputs": [],
   "source": []
  },
  {
   "cell_type": "code",
   "execution_count": 26,
   "id": "ec2d6d56",
   "metadata": {},
   "outputs": [
    {
     "name": "stdout",
     "output_type": "stream",
     "text": [
      "5665\n",
      "VALID\n"
     ]
    }
   ],
   "source": [
    "s=input()\n",
    "if s.isalnum()==True:\n",
    "    print(\"VALID\")\n",
    "else:\n",
    "    print(\"NOT VALID\")"
   ]
  },
  {
   "cell_type": "code",
   "execution_count": 31,
   "id": "96088791",
   "metadata": {},
   "outputs": [
    {
     "name": "stdout",
     "output_type": "stream",
     "text": [
      "ad\n",
      "NOT VALID\n"
     ]
    }
   ],
   "source": [
    "s=input()\n",
    "if s.==True:\n",
    "    print(\"VALID\")\n",
    "else:\n",
    "    print(\"NOT VALID\")"
   ]
  },
  {
   "cell_type": "code",
   "execution_count": 44,
   "id": "0430deed",
   "metadata": {},
   "outputs": [
    {
     "name": "stdout",
     "output_type": "stream",
     "text": [
      "hjhj\n",
      "VALID\n"
     ]
    }
   ],
   "source": [
    "s=str(input())\n",
    "if s.isalnum()==True or s.isnumeric()==True:\n",
    "    print(\"VALID\")\n",
    "elif s.isalpha()==True:\n",
    "    print(\"notvalid\")\n",
    "else:\n",
    "    print(\"NOT VALID\")"
   ]
  },
  {
   "cell_type": "code",
   "execution_count": 13,
   "id": "c2669be5",
   "metadata": {},
   "outputs": [
    {
     "name": "stdout",
     "output_type": "stream",
     "text": [
      "yuh\n",
      "NOTvalid\n"
     ]
    }
   ],
   "source": [
    "s=str(input())\n",
    "if s.isalpha()==True:\n",
    "    print(\"NOTvalid\")\n",
    "else:\n",
    "    print(\"valid\")\n"
   ]
  },
  {
   "cell_type": "markdown",
   "id": "f8204d22",
   "metadata": {},
   "source": [
    "# "
   ]
  },
  {
   "cell_type": "code",
   "execution_count": 6,
   "id": "3aab6f9c",
   "metadata": {},
   "outputs": [
    {
     "name": "stdout",
     "output_type": "stream",
     "text": [
      "h3\n",
      "Not  vali\n"
     ]
    }
   ],
   "source": [
    "s=str(input())\n",
    "digits==['0','1','2','3','4','5','6','7','8','9']\n",
    "if s is digits:\n",
    "    print(\"valid\")\n",
    "else:\n",
    "    print(\"Not  vali\")"
   ]
  },
  {
   "cell_type": "code",
   "execution_count": 10,
   "id": "0a048a22",
   "metadata": {},
   "outputs": [
    {
     "name": "stdout",
     "output_type": "stream",
     "text": [
      "26\n"
     ]
    }
   ],
   "source": [
    "def num(n):\n",
    "    return lambda a:2*a+n\n",
    "var=num(4)\n",
    "var2=var(11)\n",
    "print(var2)"
   ]
  },
  {
   "cell_type": "code",
   "execution_count": 2,
   "id": "b9a1aef7",
   "metadata": {},
   "outputs": [
    {
     "name": "stdout",
     "output_type": "stream",
     "text": [
      "[]\n"
     ]
    }
   ],
   "source": [
    "lst=[\"1\",\"2\",\"4\",\"5\",\"6\"]\n",
    "temp=[]\n",
    "size=len(lst)\n",
    "for i in range (size+1,0):\n",
    "    temp=temp.append(lst[i])\n",
    "print(temp)\n"
   ]
  },
  {
   "cell_type": "code",
   "execution_count": 14,
   "id": "eb7ff1fc",
   "metadata": {},
   "outputs": [
    {
     "name": "stdout",
     "output_type": "stream",
     "text": [
      "6\n",
      "5\n",
      "4\n",
      "2\n",
      "1\n"
     ]
    }
   ],
   "source": [
    "lst=[\"1\",\"2\",\"4\",\"5\",\"6\"]\n",
    "for i in range(len(lst)):\n",
    "    print(lst[-i-1])"
   ]
  },
  {
   "cell_type": "code",
   "execution_count": 15,
   "id": "9b82e189",
   "metadata": {},
   "outputs": [
    {
     "name": "stdout",
     "output_type": "stream",
     "text": [
      "['6', '5', '4', '2', '1']\n"
     ]
    }
   ],
   "source": [
    "lst=[\"1\",\"2\",\"4\",\"5\",\"6\"]\n",
    "temp=[]\n",
    "for i in range(len(lst)):\n",
    "    temp.append(lst[-i-1])\n",
    "print(temp)"
   ]
  },
  {
   "cell_type": "code",
   "execution_count": 4,
   "id": "ac10fbbb",
   "metadata": {},
   "outputs": [
    {
     "name": "stdout",
     "output_type": "stream",
     "text": [
      "HOW MANY NATURAL NUMBERS DO YOU REQIRUE11\n",
      "1\n",
      "2\n",
      "3\n",
      "4\n",
      "5\n",
      "6\n",
      "7\n",
      "8\n",
      "9\n",
      "10\n",
      "11\n"
     ]
    }
   ],
   "source": [
    "user_input=int(input(\"HOW MANY NATURAL NUMBERS DO YOU REQIRUE\"))\n",
    "i=1\n",
    "while i<=user_input:\n",
    "    print(i)\n",
    "    i+=1\n",
    "    "
   ]
  },
  {
   "cell_type": "code",
   "execution_count": 2,
   "id": "d2eca67b",
   "metadata": {},
   "outputs": [
    {
     "name": "stdout",
     "output_type": "stream",
     "text": [
      "5\n",
      "\n",
      "* \n",
      "* * \n",
      "* * * \n",
      "* * * * \n",
      "* * * * * \n",
      "* * * * \n",
      "* * * \n",
      "* * \n",
      "* \n"
     ]
    }
   ],
   "source": [
    "size=int(input())\n",
    "for i in range(size):\n",
    "    print('* '*i)\n",
    "\n",
    "for j in range(size,0,-1):\n",
    "    print('* '*j)"
   ]
  },
  {
   "cell_type": "code",
   "execution_count": 7,
   "id": "bc4c1659",
   "metadata": {},
   "outputs": [
    {
     "name": "stdout",
     "output_type": "stream",
     "text": [
      "[2, 4, 6, 8]\n",
      "[1, 3, 5, 7, 9]\n"
     ]
    }
   ],
   "source": [
    "lst=[1,2,3,4,5,6,7,8,9]\n",
    "length=len(lst)\n",
    "even=[]\n",
    "odd=[]\n",
    "for i in range(length):\n",
    "    \n",
    "    if lst[i]%2==0:\n",
    "        even.append(lst[i])\n",
    "    \n",
    "    else:\n",
    "        odd.append(lst[i])\n",
    "print(even)\n",
    "print(odd)"
   ]
  },
  {
   "cell_type": "code",
   "execution_count": 4,
   "id": "1ad14945",
   "metadata": {},
   "outputs": [
    {
     "name": "stdout",
     "output_type": "stream",
     "text": [
      "11111\n",
      "2222\n",
      "333\n",
      "44\n",
      "5\n"
     ]
    }
   ],
   "source": [
    "j=1\n",
    "while j<=5:\n",
    "    for i in range(5,0,-1):\n",
    "        print(str(j)*i)\n",
    "        j+=1\n",
    "        "
   ]
  },
  {
   "cell_type": "code",
   "execution_count": 1,
   "id": "5d28dea8",
   "metadata": {},
   "outputs": [
    {
     "name": "stdout",
     "output_type": "stream",
     "text": [
      "[-9, -9, -9, -9, -9, -9, -9, 7]\n",
      "[-1, -1, -4, -9, 3, -4, -9, -4, -9, -4, -9, -4, -9, -9, -9]\n"
     ]
    }
   ],
   "source": [
    "arr=[-1,3,5,-2,-4,8,-9,7]\n",
    "temp=[]\n",
    "n=len(arr)\n",
    "for i in range(0,n+1):#0#1#2\n",
    "    for j in range(i+1,n):#1#2#3\n",
    "        if arr[i]<arr[j]:\n",
    "            temp.append(arr[i])\n",
    "        else:\n",
    "            arr[i]=arr[j]\n",
    "            \n",
    "print(arr)\n",
    "print(temp)"
   ]
  },
  {
   "cell_type": "code",
   "execution_count": 1,
   "id": "12c721f5",
   "metadata": {},
   "outputs": [
    {
     "data": {
      "image/png": "[encoded data removed]",
      "text/plain": [
       "<Figure size 432x288 with 1 Axes>"
      ]
     },
     "metadata": {
      "needs_background": "light"
     },
     "output_type": "display_data"
    }
   ],
   "source": [
    "# matplotlib xkcd comic method\n",
    "from matplotlib import pyplot as plt\n",
    "\n",
    "# plt.xkcd()\n",
    "\n",
    "ages_x=[18,19,20,21,22,23,24,25,26,27,28,29,30]\n",
    "\n",
    "not_exp_y=[20000, 21000, 22000, 23000, 24000, 25000,\n",
    "   26000, 27000, 28000, 29000, 30000, 31000,32000]\n",
    "\n",
    "plt.bar(ages_x,not_exp_y,label='not_exp_programming')# note :- we should only use the lowe case letter for colouring here k-black,and i have given the maker style to the line that is dash line(--)\n",
    "\n",
    "# exp_y=[45435,48856,45662,45565,55535,54636,56635,\n",
    "#        53535,65454,68541,78956,81562,91165]\n",
    " \n",
    "# plt.plot(ages_x,exp_y,label='exp_programming')# note :- we should only use the lowe case letter for colouring here b-blue,and here i have not given any marker style by default the  python will consider the solid line as maker style\n",
    "\n",
    "plt.xlabel('age')\n",
    "\n",
    "plt.ylabel('salary')\n",
    "\n",
    "plt.title('median salary by age')\n",
    "\n",
    "plt.legend()\n",
    "\n",
    "# plt.tight_layout()\n",
    "\n",
    "\n",
    "plt.show()"
   ]
  },
  {
   "cell_type": "code",
   "execution_count": 1,
   "id": "36417e7b",
   "metadata": {},
   "outputs": [
    {
     "name": "stdout",
     "output_type": "stream",
     "text": [
      "4\n"
     ]
    },
    {
     "ename": "IndexError",
     "evalue": "list index out of range",
     "output_type": "error",
     "traceback": [
      "\u001b[1;31m---------------------------------------------------------------------------\u001b[0m",
      "\u001b[1;31mIndexError\u001b[0m                                Traceback (most recent call last)",
      "Input \u001b[1;32mIn [1]\u001b[0m, in \u001b[0;36m<cell line: 6>\u001b[1;34m()\u001b[0m\n\u001b[0;32m      6\u001b[0m \u001b[38;5;28;01mwhile\u001b[39;00m( high \u001b[38;5;241m>\u001b[39m\u001b[38;5;241m=\u001b[39m low):\n\u001b[0;32m      7\u001b[0m     mid \u001b[38;5;241m=\u001b[39m (high\u001b[38;5;241m+\u001b[39mlow)\u001b[38;5;241m/\u001b[39m\u001b[38;5;241m/\u001b[39m\u001b[38;5;241m2\u001b[39m\n\u001b[1;32m----> 8\u001b[0m     \u001b[38;5;28;01mif\u001b[39;00m(\u001b[43ma\u001b[49m\u001b[43m[\u001b[49m\u001b[43mmid\u001b[49m\u001b[43m]\u001b[49m \u001b[38;5;241m==\u001b[39m key):\n\u001b[0;32m      9\u001b[0m         \u001b[38;5;28mprint\u001b[39m(\u001b[38;5;124m\"\u001b[39m\u001b[38;5;124mFound at \u001b[39m\u001b[38;5;124m\"\u001b[39m , mid)\n\u001b[0;32m     10\u001b[0m         \u001b[38;5;28;01mbreak\u001b[39;00m\n",
      "\u001b[1;31mIndexError\u001b[0m: list index out of range"
     ]
    }
   ],
   "source": [
    "a=[1,4,23,42,55,64,65]\n",
    "key=int(input())\n",
    "low=a[0]\n",
    "high=a[-1]\n",
    "\n",
    "while( high >= low):\n",
    "    mid = (high+low)//2\n",
    "    if(a[mid] == key):\n",
    "        print(\"Found at \" , mid)\n",
    "        break\n",
    "    elif(key > a[mid]):\n",
    "        low = mid + 1\n",
    "    elif(key < a[mid]):\n",
    "        high = mid - 1;"
   ]
  },
  {
   "cell_type": "code",
   "execution_count": 3,
   "id": "8d10c180",
   "metadata": {},
   "outputs": [
    {
     "name": "stdout",
     "output_type": "stream",
     "text": [
      "4\n",
      "Found at index 1\n"
     ]
    }
   ],
   "source": [
    "a = [1, 4, 23, 42, 55, 64, 65,75]\n",
    "key = int(input())\n",
    "low = 0\n",
    "high = len(a) - 1\n",
    "\n",
    "while high >= low:\n",
    "    mid = (high + low) // 2\n",
    "    if a[mid] == key:\n",
    "        print(\"Found at index\", mid)\n",
    "        break\n",
    "    elif key > a[mid]:\n",
    "        low = mid + 1\n",
    "    else:\n",
    "        high = mid - 1\n"
   ]
  },
  {
   "cell_type": "code",
   "execution_count": 20,
   "id": "9f994dd8",
   "metadata": {},
   "outputs": [
    {
     "name": "stdout",
     "output_type": "stream",
     "text": [
      "1 \n",
      "1 2 \n",
      "1 2 3 \n",
      "1 2 3 4 \n",
      "1 2 3 4 5 \n"
     ]
    }
   ],
   "source": [
    "for i in range(1,6):\n",
    "    for j in range(1,i+1):\n",
    "        print(j,end=' ')\n",
    "    print()"
   ]
  },
  {
   "cell_type": "code",
   "execution_count": 21,
   "id": "2097a325",
   "metadata": {},
   "outputs": [
    {
     "name": "stdout",
     "output_type": "stream",
     "text": [
      "1 \n",
      "1 2 \n",
      "1 2 3 \n",
      "1 2 3 4 \n",
      "1 2 3 4 5 \n"
     ]
    }
   ],
   "source": [
    "for i in range(1,6):\n",
    "    for j in range(1,i+1):\n",
    "        print(j,end=\" \")\n",
    "    print()\n"
   ]
  },
  {
   "cell_type": "code",
   "execution_count": 9,
   "id": "ad4d7dcb",
   "metadata": {},
   "outputs": [
    {
     "name": "stdout",
     "output_type": "stream",
     "text": [
      "<__main__.employee object at 0x000001C8D624A850>\n",
      "<__main__.employee object at 0x000001C8D624A370>\n",
      "saikumar@gmail.com\n",
      "subbuoeopo@gmail.com\n"
     ]
    }
   ],
   "source": [
    "class employee:\n",
    "    def __init__(self,first,last,pay):\n",
    "        self.first=first\n",
    "        self.last=last\n",
    "        self.pay=pay\n",
    "        self.gmail=first+last+\"@gmail.com\"\n",
    "emp_1=employee(\"sai\",\"kumar\",6001)\n",
    "emp_2=employee(\"subbu\",\"oeopo\",62987)\n",
    "print(emp_1)\n",
    "print(emp_2)\n",
    "print(emp_1.gmail)\n",
    "print(emp_2.gmail)"
   ]
  },
  {
   "cell_type": "code",
   "execution_count": 75,
   "id": "f4dae909",
   "metadata": {},
   "outputs": [
    {
     "name": "stdout",
     "output_type": "stream",
     "text": [
      "89137\n"
     ]
    },
    {
     "ename": "NameError",
     "evalue": "name 'raise_amount' is not defined",
     "output_type": "error",
     "traceback": [
      "\u001b[1;31m---------------------------------------------------------------------------\u001b[0m",
      "\u001b[1;31mNameError\u001b[0m                                 Traceback (most recent call last)",
      "Input \u001b[1;32mIn [75]\u001b[0m, in \u001b[0;36m<cell line: 18>\u001b[1;34m()\u001b[0m\n\u001b[0;32m     16\u001b[0m \u001b[38;5;66;03m# print(employee.apply_raise(emp_1))\u001b[39;00m\n\u001b[0;32m     17\u001b[0m \u001b[38;5;28mprint\u001b[39m(emp_1\u001b[38;5;241m.\u001b[39mpay)\n\u001b[1;32m---> 18\u001b[0m \u001b[43memp_1\u001b[49m\u001b[38;5;241;43m.\u001b[39;49m\u001b[43mapply_raise\u001b[49m\u001b[43m(\u001b[49m\u001b[43m)\u001b[49m\n\u001b[0;32m     19\u001b[0m \u001b[38;5;28mprint\u001b[39m(emp_1\u001b[38;5;241m.\u001b[39mpay)\n\u001b[0;32m     21\u001b[0m employee\u001b[38;5;241m.\u001b[39mraise_amount\n",
      "Input \u001b[1;32mIn [75]\u001b[0m, in \u001b[0;36memployee.apply_raise\u001b[1;34m(self)\u001b[0m\n\u001b[0;32m      9\u001b[0m \u001b[38;5;28;01mdef\u001b[39;00m \u001b[38;5;21mapply_raise\u001b[39m(\u001b[38;5;28mself\u001b[39m):\n\u001b[1;32m---> 11\u001b[0m     \u001b[38;5;28mself\u001b[39m\u001b[38;5;241m.\u001b[39mpay\u001b[38;5;241m=\u001b[39m\u001b[38;5;28mint\u001b[39m(\u001b[38;5;28mself\u001b[39m\u001b[38;5;241m.\u001b[39mpay\u001b[38;5;241m*\u001b[39m\u001b[43mraise_amount\u001b[49m)\n",
      "\u001b[1;31mNameError\u001b[0m: name 'raise_amount' is not defined"
     ]
    }
   ],
   "source": [
    "class employee:\n",
    "    raise_amount=1.04\n",
    "    def __init__(self,first,last,pay):\n",
    "        self.first=first\n",
    "        self.last=last\n",
    "        self.pay=pay\n",
    "    def full_name(self):\n",
    "        return \"{}{}\".format(self.first,self.last)\n",
    "    def apply_raise(self):\n",
    "\n",
    "        self.pay=int(self.pay*raise_amount)\n",
    "emp_1=employee(\"sai\",\"kumar\",89137)\n",
    "\n",
    "emp_2=employee(\"subbu\",\"sai\",8927)\n",
    "\n",
    "# print(employee.apply_raise(emp_1))\n",
    "print(emp_1.pay)\n",
    "emp_1.apply_raise()\n",
    "print(emp_1.pay)\n",
    "\n",
    "employee.raise_amount\n",
    "# here the raise_amount is not able to acess the value from the class attribute"
   ]
  },
  {
   "cell_type": "code",
   "execution_count": 11,
   "id": "49704b3f",
   "metadata": {},
   "outputs": [
    {
     "name": "stdout",
     "output_type": "stream",
     "text": [
      "saikumar@gmail.com\n",
      "subbuoeopo@gmail.com\n"
     ]
    }
   ],
   "source": [
    "class employee:\n",
    "    def __init__(self,first,last,pay):\n",
    "        self.fname=first\n",
    "        self.last=last\n",
    "        self.pay=pay\n",
    "        self.gmail=first+last+\"@gmail.com\"\n",
    "emp_1=employee(\"sai\",\"kumar\",6001)\n",
    "emp_2=employee(\"subbu\",\"oeopo\",62987)\n",
    "# print(emp_1)\n",
    "# print(emp_2)\n",
    "print(emp_1.gmail)\n",
    "print(emp_2.gmail)"
   ]
  },
  {
   "cell_type": "code",
   "execution_count": 13,
   "id": "6fdf6e51",
   "metadata": {},
   "outputs": [
    {
     "ename": "AttributeError",
     "evalue": "'employee' object has no attribute 'first'",
     "output_type": "error",
     "traceback": [
      "\u001b[1;31m---------------------------------------------------------------------------\u001b[0m",
      "\u001b[1;31mAttributeError\u001b[0m                            Traceback (most recent call last)",
      "Input \u001b[1;32mIn [13]\u001b[0m, in \u001b[0;36m<cell line: 13>\u001b[1;34m()\u001b[0m\n\u001b[0;32m      8\u001b[0m emp_2\u001b[38;5;241m=\u001b[39memployee(\u001b[38;5;124m\"\u001b[39m\u001b[38;5;124msubbu\u001b[39m\u001b[38;5;124m\"\u001b[39m,\u001b[38;5;124m\"\u001b[39m\u001b[38;5;124moeopo\u001b[39m\u001b[38;5;124m\"\u001b[39m,\u001b[38;5;241m62987\u001b[39m)\n\u001b[0;32m      9\u001b[0m \u001b[38;5;66;03m# print(emp_1)\u001b[39;00m\n\u001b[0;32m     10\u001b[0m \u001b[38;5;66;03m# print(emp_2)\u001b[39;00m\n\u001b[0;32m     11\u001b[0m \u001b[38;5;66;03m# print(emp_1.gmail)\u001b[39;00m\n\u001b[0;32m     12\u001b[0m \u001b[38;5;66;03m# print(emp_2.gmail)\u001b[39;00m\n\u001b[1;32m---> 13\u001b[0m \u001b[38;5;28mprint\u001b[39m(\u001b[38;5;124m'\u001b[39m\u001b[38;5;132;01m{}\u001b[39;00m\u001b[38;5;132;01m{}\u001b[39;00m\u001b[38;5;124m'\u001b[39m\u001b[38;5;241m.\u001b[39mformat(\u001b[43memp_1\u001b[49m\u001b[38;5;241;43m.\u001b[39;49m\u001b[43mfirst\u001b[49m,epm_1\u001b[38;5;241m.\u001b[39mlast))\n",
      "\u001b[1;31mAttributeError\u001b[0m: 'employee' object has no attribute 'first'"
     ]
    }
   ],
   "source": [
    "class employee:\n",
    "    def __init__(self,first,last,pay):\n",
    "        self.fname=first\n",
    "        self.last=last\n",
    "        self.pay=pay\n",
    "        self.gmail=first+last+\"@gmail.com\"\n",
    "emp_1=employee(\"sai\",\"kumar\",6001)\n",
    "emp_2=employee(\"subbu\",\"oeopo\",62987)\n",
    "# print(emp_1)\n",
    "# print(emp_2)\n",
    "# print(emp_1.gmail)\n",
    "# print(emp_2.gmail)\n",
    "print('{}{}'.format(emp_1.first,emp_1.last))"
   ]
  },
  {
   "cell_type": "code",
   "execution_count": 15,
   "id": "f6d741ce",
   "metadata": {},
   "outputs": [
    {
     "name": "stdout",
     "output_type": "stream",
     "text": [
      "saikumar\n"
     ]
    }
   ],
   "source": [
    "class employee:\n",
    "    def __init__(self,first,last,pay):\n",
    "        self.fname=first\n",
    "        self.last=last\n",
    "        self.pay=pay\n",
    "        self.gmail=first+last+\"@gmail.com\"\n",
    "emp_1=employee(\"sai\",\"kumar\",6001)\n",
    "emp_2=employee(\"subbu\",\"oeopo\",62987)\n",
    "# print(emp_1)\n",
    "# print(emp_2)\n",
    "# print(emp_1.gmail)\n",
    "# print(emp_2.gmail)\n",
    "print('{}{}'.format(emp_1.fname,emp_1.last))"
   ]
  },
  {
   "cell_type": "code",
   "execution_count": 16,
   "id": "22e8324a",
   "metadata": {},
   "outputs": [
    {
     "name": "stdout",
     "output_type": "stream",
     "text": [
      "saikumar\n",
      "subbuoeopo\n"
     ]
    }
   ],
   "source": [
    "class employee:\n",
    "    def __init__(self,first,last,pay):\n",
    "        self.fname=first\n",
    "        self.last=last\n",
    "        self.pay=pay\n",
    "        self.gmail=first+last+\"@gmail.com\"\n",
    "emp_1=employee(\"sai\",\"kumar\",6001)\n",
    "emp_2=employee(\"subbu\",\"oeopo\",62987)\n",
    "# print(emp_1)\n",
    "# print(emp_2)\n",
    "# print(emp_1.gmail)\n",
    "# print(emp_2.gmail)\n",
    "print('{}{}'.format(emp_1.fname,emp_1.last))\n",
    "print('{}{}'.format(emp_2.fname,emp_2.last))"
   ]
  },
  {
   "cell_type": "code",
   "execution_count": 23,
   "id": "8c551d04",
   "metadata": {},
   "outputs": [
    {
     "name": "stdout",
     "output_type": "stream",
     "text": [
      "subbuoeopo\n",
      "saikumar\n"
     ]
    }
   ],
   "source": [
    "class employee:\n",
    "    def __init__(self,first,last,pay):\n",
    "        self.first=first\n",
    "        self.last=last\n",
    "        self.pay=pay\n",
    "    def fullname(self):\n",
    "        return \"{}{}\".format(self.first,self.last)\n",
    "emp_1=employee(\"sai\",\"kumar\",6001)\n",
    "emp_2=employee(\"subbu\",\"oeopo\",62987)\n",
    "# print(emp_1.fullname)\n",
    "# print(emp_2.fullname)\n",
    "print(emp_2.fullname())\n",
    "print(emp_1.fullname())\n",
    "\n"
   ]
  },
  {
   "cell_type": "code",
   "execution_count": 25,
   "id": "2619a1f4",
   "metadata": {},
   "outputs": [
    {
     "name": "stdout",
     "output_type": "stream",
     "text": [
      "saikumar\n",
      "subbuoeopo\n"
     ]
    }
   ],
   "source": [
    "class employee:\n",
    "    def __init__(self,first,last,pay):\n",
    "        self.first=first\n",
    "        self.last=last\n",
    "        self.pay=pay\n",
    "    def fullname(self):\n",
    "        return \"{}{}\".format(self.first,self.last)\n",
    "emp_1=employee(\"sai\",\"kumar\",6001)\n",
    "emp_2=employee(\"subbu\",\"oeopo\",62987)\n",
    "print(employee.fullname(emp_1))\n",
    "print(employee.fullname(emp_2))\n"
   ]
  },
  {
   "cell_type": "code",
   "execution_count": 26,
   "id": "a1a5f979",
   "metadata": {},
   "outputs": [
    {
     "ename": "TypeError",
     "evalue": "fullname() takes 0 positional arguments but 1 was given",
     "output_type": "error",
     "traceback": [
      "\u001b[1;31m---------------------------------------------------------------------------\u001b[0m",
      "\u001b[1;31mTypeError\u001b[0m                                 Traceback (most recent call last)",
      "Input \u001b[1;32mIn [26]\u001b[0m, in \u001b[0;36m<cell line: 10>\u001b[1;34m()\u001b[0m\n\u001b[0;32m      8\u001b[0m emp_1\u001b[38;5;241m=\u001b[39memployee(\u001b[38;5;124m\"\u001b[39m\u001b[38;5;124msai\u001b[39m\u001b[38;5;124m\"\u001b[39m,\u001b[38;5;124m\"\u001b[39m\u001b[38;5;124mkumar\u001b[39m\u001b[38;5;124m\"\u001b[39m,\u001b[38;5;241m6001\u001b[39m)\n\u001b[0;32m      9\u001b[0m emp_2\u001b[38;5;241m=\u001b[39memployee(\u001b[38;5;124m\"\u001b[39m\u001b[38;5;124msubbu\u001b[39m\u001b[38;5;124m\"\u001b[39m,\u001b[38;5;124m\"\u001b[39m\u001b[38;5;124moeopo\u001b[39m\u001b[38;5;124m\"\u001b[39m,\u001b[38;5;241m62987\u001b[39m)\n\u001b[1;32m---> 10\u001b[0m \u001b[38;5;28mprint\u001b[39m(\u001b[43memployee\u001b[49m\u001b[38;5;241;43m.\u001b[39;49m\u001b[43mfullname\u001b[49m\u001b[43m(\u001b[49m\u001b[43memp_1\u001b[49m\u001b[43m)\u001b[49m)\n\u001b[0;32m     11\u001b[0m \u001b[38;5;28mprint\u001b[39m(employee\u001b[38;5;241m.\u001b[39mfullname(emp_2))\n",
      "\u001b[1;31mTypeError\u001b[0m: fullname() takes 0 positional arguments but 1 was given"
     ]
    }
   ],
   "source": [
    "class employee:\n",
    "    def __init__(self,first,last,pay):\n",
    "        self.first=first\n",
    "        self.last=last\n",
    "        self.pay=pay\n",
    "    def fullname():\n",
    "        return \"{}{}\".format(self.first,self.last)\n",
    "emp_1=employee(\"sai\",\"kumar\",6001)\n",
    "emp_2=employee(\"subbu\",\"oeopo\",62987)\n",
    "print(employee.fullname(emp_1))\n",
    "print(employee.fullname(emp_2))\n"
   ]
  },
  {
   "cell_type": "code",
   "execution_count": 33,
   "id": "51ffb202",
   "metadata": {},
   "outputs": [
    {
     "name": "stdout",
     "output_type": "stream",
     "text": [
      "89137\n",
      "92702\n"
     ]
    }
   ],
   "source": [
    "class employee:\n",
    "    def __init__(self,first,last,pay):\n",
    "        self.first=first\n",
    "        self.last=last\n",
    "        self.pay=pay\n",
    "    def full_name(self):\n",
    "        return \"{}{}\".format(self.first,self.last)\n",
    "    def apply_raise(self):\n",
    "        self.pay=int(self.pay*1.04)\n",
    "emp_1=employee(\"sai\",\"kumar\",89137)\n",
    "\n",
    "emp_2=employee(\"subbu\",\"sai\",8927)\n",
    "\n",
    "print(emp_1.pay)\n",
    "emp_1.apply_raise()\n",
    "print(emp_1.pay)"
   ]
  },
  {
   "cell_type": "code",
   "execution_count": 71,
   "id": "7eda928d",
   "metadata": {},
   "outputs": [
    {
     "name": "stdout",
     "output_type": "stream",
     "text": [
      "None\n",
      "92702\n",
      "96410\n"
     ]
    },
    {
     "data": {
      "text/plain": [
       "1.04"
      ]
     },
     "execution_count": 71,
     "metadata": {},
     "output_type": "execute_result"
    }
   ],
   "source": [
    "class employee:\n",
    "    raise_amount=1.04\n",
    "    def __init__(self,first,last,pay):\n",
    "        self.first=first\n",
    "        self.last=last\n",
    "        self.pay=pay\n",
    "    def full_name(self):\n",
    "        return \"{}{}\".format(self.first,self.last)\n",
    "    def apply_raise(self):\n",
    "#         self.pay=int(self.pay*raise_amount)\n",
    "#           self.pay=int(self.pay*self.raise_amount)\n",
    "          self.pay=int(self.pay*employee.raise_amount)\n",
    "emp_1=employee(\"sai\",\"kumar\",89137)\n",
    "\n",
    "emp_2=employee(\"subbu\",\"sai\",8927)\n",
    "\n",
    "print(employee.apply_raise(emp_1))\n",
    "print(emp_1.pay)\n",
    "emp_1.apply_raise()\n",
    "print(emp_1.pay)\n",
    "\n",
    "employee.raise_amount"
   ]
  },
  {
   "cell_type": "code",
   "execution_count": 42,
   "id": "d17d4429",
   "metadata": {},
   "outputs": [
    {
     "name": "stdout",
     "output_type": "stream",
     "text": [
      "1.04\n",
      "1.04\n",
      "1.04\n"
     ]
    }
   ],
   "source": [
    "class employee:\n",
    "    raise_amount=1.04\n",
    "    def __init__(self,first,last,pay):\n",
    "        self.first=first\n",
    "        self.last=last\n",
    "        self.pay=pay\n",
    "    def full_name(self):\n",
    "        return \"{}{}\".format(self.first,self.last)\n",
    "    def apply_raise(self):\n",
    "        self.pay=int(self.pay*employee.raise_amount)\n",
    "#                 or\n",
    "#       self.pay=int(self.pay*self.raise_amount)\n",
    "emp_1=employee(\"sai\",\"kumar\",89137)\n",
    "\n",
    "emp_2=employee(\"subbu\",\"sai\",8927)\n",
    "\n",
    "print(employee.raise_amount)\n",
    "\n",
    "print(emp_1.raise_amount)\n",
    "print(emp_2.raise_amount)\n",
    "\n",
    "# print(emp_1.pay)\n",
    "# emp_1.apply_raise()\n",
    "# print(emp_1.pay)\n",
    "\n",
    "# employee.raise_amount"
   ]
  },
  {
   "cell_type": "code",
   "execution_count": 49,
   "id": "fb38001a",
   "metadata": {},
   "outputs": [
    {
     "name": "stdout",
     "output_type": "stream",
     "text": [
      "{'first': 'sai', 'last': 'kumar', 'pay': 89137}\n",
      "############\n",
      "{'__module__': '__main__', 'raise_amount': 1.04, '__init__': <function employee.__init__ at 0x000001C8D7E643A0>, 'full_name': <function employee.full_name at 0x000001C8D7E64AF0>, 'apply_raise': <function employee.apply_raise at 0x000001C8D7E64550>, '__dict__': <attribute '__dict__' of 'employee' objects>, '__weakref__': <attribute '__weakref__' of 'employee' objects>, '__doc__': None}\n"
     ]
    }
   ],
   "source": [
    "class employee:\n",
    "    raise_amount=1.04\n",
    "    def __init__(self,first,last,pay):\n",
    "        self.first=first\n",
    "        self.last=last\n",
    "        self.pay=pay\n",
    "    def full_name(self):\n",
    "        return \"{}{}\".format(self.first,self.last)\n",
    "    def apply_raise(self):\n",
    "        self.pay=int(self.pay*employee.raise_amount)\n",
    "#                 or\n",
    "#       self.pay=int(self.pay*self.raise_amount)\n",
    "emp_1=employee(\"sai\",\"kumar\",89137)\n",
    "\n",
    "emp_2=employee(\"subbu\",\"sai\",8927)\n",
    "\n",
    "\n",
    "print(emp_1.__dict__)# here we don.\\'t have rasie amount in __init__ method here the init method check it in its class and it goes to the class check for attributes'\n",
    "print(\"############\")\n",
    "print(employee.__dict__)\n",
    "# print(employee.raise_amount)\n",
    "\n",
    "# print(emp_1.raise_amount)\n",
    "# print(emp_2.raise_amount)\n",
    "\n"
   ]
  },
  {
   "cell_type": "code",
   "execution_count": 51,
   "id": "6b12f79a",
   "metadata": {},
   "outputs": [
    {
     "name": "stdout",
     "output_type": "stream",
     "text": [
      "1.05\n",
      "1.05\n",
      "1.05\n"
     ]
    }
   ],
   "source": [
    "class employee:\n",
    "    raise_amount=1.04\n",
    "    def __init__(self,first,last,pay):\n",
    "        self.first=first\n",
    "        self.last=last\n",
    "        self.pay=pay\n",
    "    def full_name(self):\n",
    "        return \"{}{}\".format(self.first,self.last)\n",
    "    def apply_raise(self):\n",
    "        self.pay=int(self.pay*employee.raise_amount)\n",
    "#                 or\n",
    "#       self.pay=int(self.pay*self.raise_amount)\n",
    "emp_1=employee(\"sai\",\"kumar\",89137)\n",
    "\n",
    "emp_2=employee(\"subbu\",\"sai\",8927)\n",
    "\n",
    "employee.raise_amount=1.05\n",
    "print(employee.raise_amount)\n",
    "print(emp_1.raise_amount)\n",
    "print(emp_2.raise_amount)\n",
    "#note:-when we change the class kvariable then the instances variable will also changes y because the instanvces first check in method and tehre automatically go through the clasas and their access it \n"
   ]
  },
  {
   "cell_type": "code",
   "execution_count": 54,
   "id": "6702ac71",
   "metadata": {},
   "outputs": [
    {
     "name": "stdout",
     "output_type": "stream",
     "text": [
      "1.04\n",
      "1.05\n",
      "1.04\n",
      "89137\n",
      "{'first': 'sai', 'last': 'kumar', 'pay': 89137, 'raise_amount': 1.05}\n"
     ]
    }
   ],
   "source": [
    "class employee:\n",
    "    raise_amount=1.04\n",
    "    def __init__(self,first,last,pay):\n",
    "        self.first=first\n",
    "        self.last=last\n",
    "        self.pay=pay\n",
    "    def full_name(self):\n",
    "        return \"{}{}\".format(self.first,self.last)\n",
    "    def apply_raise(self):\n",
    "        self.pay=int(self.pay*employee.raise_amount)\n",
    "#                 or\n",
    "#       self.pay=int(self.pay*self.raise_amount)\n",
    "emp_1=employee(\"sai\",\"kumar\",89137)\n",
    "\n",
    "emp_2=employee(\"subbu\",\"sai\",8927)\n",
    "\n",
    "emp_1.raise_amount=1.05\n",
    "print(employee.raise_amount)\n",
    "print(emp_1.raise_amount)\n",
    "print(emp_2.raise_amount)\n",
    "print(emp_1.pay)\n",
    "#here it only create attribute to the empy_1 \n",
    "print(emp_1.__dict__)"
   ]
  },
  {
   "cell_type": "code",
   "execution_count": 65,
   "id": "6b713f18",
   "metadata": {},
   "outputs": [
    {
     "name": "stdout",
     "output_type": "stream",
     "text": [
      "1.04\n",
      "1.05\n",
      "1.04\n",
      "None\n",
      "98272\n",
      "None\n",
      "{'first': 'sai', 'last': 'kumar', 'pay': 103185, 'raise_amount': 1.05}\n"
     ]
    }
   ],
   "source": [
    "class employee:\n",
    "    raise_amount=1.04\n",
    "    def __init__(self,first,last,pay):\n",
    "        self.first=first\n",
    "        self.last=last\n",
    "        self.pay=pay\n",
    "    def full_name(self):\n",
    "        return \"{}{}\".format(self.first,self.last)\n",
    "    def apply_raise(self):\n",
    "#         self.pay=int(self.pay*employee.raise_amount)\n",
    "#                 or\n",
    "      self.pay=int(self.pay*self.raise_amount)\n",
    "emp_1=employee(\"sai\",\"kumar\",89137)\n",
    "\n",
    "emp_2=employee(\"subbu\",\"sai\",8927)\n",
    "\n",
    "emp_1.raise_amount=1.05\n",
    "print(employee.raise_amount)\n",
    "print(emp_1.raise_amount)\n",
    "print(emp_2.raise_amount)\n",
    "print(employee.apply_raise(emp_1))\n",
    "\n",
    "emp_1.apply_raise()\n",
    "print(emp_1.pay)\n",
    "print(employee.apply_raise(emp_1))\n",
    "\n",
    "#here it only create attribute to the empy_1 \n",
    "print(emp_1.__dict__)"
   ]
  },
  {
   "cell_type": "code",
   "execution_count": 72,
   "id": "a65dc3c3",
   "metadata": {},
   "outputs": [
    {
     "name": "stdout",
     "output_type": "stream",
     "text": [
      "None\n",
      "92702\n",
      "96410\n"
     ]
    },
    {
     "data": {
      "text/plain": [
       "1.04"
      ]
     },
     "execution_count": 72,
     "metadata": {},
     "output_type": "execute_result"
    }
   ],
   "source": [
    "class employee:\n",
    "    raise_amount=1.04\n",
    "    def __init__(self,first,last,pay):\n",
    "        self.first=first\n",
    "        self.last=last\n",
    "        self.pay=pay\n",
    "    def full_name(self):\n",
    "        return \"{}{}\".format(self.first,self.last)\n",
    "    def apply_raise(self):\n",
    "#         self.pay=int(self.pay*raise_amount)\n",
    "#           self.pay=int(self.pay*self.raise_amount)\n",
    "          self.pay=int(self.pay*employee.raise_amount)\n",
    "emp_1=employee(\"sai\",\"kumar\",89137)\n",
    "\n",
    "emp_2=employee(\"subbu\",\"sai\",8927)\n",
    "\n",
    "print(employee.apply_raise(emp_1))\n",
    "print(emp_1.pay)\n",
    "emp_1.apply_raise()\n",
    "print(emp_1.pay)\n",
    "\n",
    "employee.raise_amount"
   ]
  },
  {
   "cell_type": "code",
   "execution_count": 79,
   "id": "4102f9e4",
   "metadata": {},
   "outputs": [
    {
     "name": "stdout",
     "output_type": "stream",
     "text": [
      "2\n"
     ]
    }
   ],
   "source": [
    "class employee:\n",
    "    num_of_emp=0\n",
    "    \n",
    "    raise_amount=1.04\n",
    "    def __init__(self,first,last,pay):\n",
    "        self.first=first\n",
    "        self.last=last\n",
    "        self.pay=pay\n",
    "        employee.num_of_emp+=1\n",
    "        \n",
    "    def full_name(self):\n",
    "        return \"{}{}\".format(self.first,self.last)\n",
    "    def apply_raise(self):\n",
    "#         self.pay=int(self.pay*raise_amount)\n",
    "#           self.pay=int(self.pay*self.raise_amount)\n",
    "          self.pay=int(self.pay*employee.raise_amount)\n",
    "emp_1=employee(\"sai\",\"kumar\",89137)\n",
    "\n",
    "emp_2=employee(\"subbu\",\"sai\",8927)\n",
    "\n",
    "print(employee.num_of_emp)\n",
    "\n",
    "# print(employee.apply_raise(emp_1))\n",
    "# print(emp_1.pay)\n",
    "# emp_1.apply_raise()\n",
    "# print(emp_1.pay)\n",
    "\n",
    "# employee.raise_amount"
   ]
  },
  {
   "cell_type": "code",
   "execution_count": 1,
   "id": "a740eca3",
   "metadata": {},
   "outputs": [
    {
     "name": "stdout",
     "output_type": "stream",
     "text": [
      "1.04\n",
      "1.04\n",
      "1.04\n"
     ]
    }
   ],
   "source": [
    "class employee:\n",
    "    raise_amount=1.04\n",
    "    def __init__(self,first,last,pay):\n",
    "        self.first=first\n",
    "        self.last=last\n",
    "        self.pay=pay\n",
    "    def full_name(self):\n",
    "        return \"{}{}\".format(self.first,self.last)\n",
    "    def apply_raise(self):\n",
    "#         self.pay=int(self.pay*employee.raise_amount)\n",
    "#                 or\n",
    "      self.pay=int(self.pay*self.raise_amount)\n",
    "    \n",
    "    @classmethod\n",
    "    def set_raise_amount(cls,amount):\n",
    "        cls.raise_amount=amount\n",
    "        \n",
    "        \n",
    "        \n",
    "        pass\n",
    "emp_1=employee(\"sai\",\"kumar\",89137)\n",
    "\n",
    "emp_2=employee(\"subbu\",\"sai\",8927)\n",
    "\n",
    "print(employee.raise_amount)\n",
    "print(emp_1.raise_amount)\n",
    "print(emp_2.raise_amount)\n"
   ]
  },
  {
   "cell_type": "code",
   "execution_count": 5,
   "id": "708100c5",
   "metadata": {},
   "outputs": [
    {
     "name": "stdout",
     "output_type": "stream",
     "text": [
      "1.05\n",
      "1.05\n",
      "1.05\n"
     ]
    }
   ],
   "source": [
    "class employee:\n",
    "    raise_amount=1.04\n",
    "    def __init__(self,first,last,pay):\n",
    "        self.first=first\n",
    "        self.last=last\n",
    "        self.pay=pay\n",
    "    def full_name(self):\n",
    "        return \"{}{}\".format(self.first,self.last)\n",
    "    def apply_raise(self):\n",
    "#         self.pay=int(self.pay*employee.raise_amount)\n",
    "#                 or\n",
    "      self.pay=int(self.pay*self.raise_amount)\n",
    "    \n",
    "    @classmethod\n",
    "    def set_raise_amount(cls,amount):\n",
    "        cls.raise_amount=amount\n",
    "        \n",
    "        \n",
    "        \n",
    "\n",
    "emp_1=employee(\"sai\",\"kumar\",89137)\n",
    "\n",
    "emp_2=employee(\"subbu\",\"sai\",8927)\n",
    "\n",
    "employee.set_raise_amount(1.05)# here by using the classmethod instanced of the instances variable \n",
    "\n",
    "print(employee.raise_amount)\n",
    "print(emp_1.raise_amount)\n",
    "print(emp_2.raise_amount)\n"
   ]
  },
  {
   "cell_type": "code",
   "execution_count": null,
   "id": "bf09fa62",
   "metadata": {},
   "outputs": [],
   "source": []
  },
  {
   "cell_type": "code",
   "execution_count": null,
   "id": "1ddf21f4",
   "metadata": {},
   "outputs": [],
   "source": []
  },
  {
   "cell_type": "code",
   "execution_count": null,
   "id": "1a50d6e1",
   "metadata": {},
   "outputs": [],
   "source": []
  },
  {
   "cell_type": "code",
   "execution_count": null,
   "id": "25c137f1",
   "metadata": {},
   "outputs": [],
   "source": []
  },
  {
   "cell_type": "code",
   "execution_count": null,
   "id": "f3c6a099",
   "metadata": {},
   "outputs": [],
   "source": []
  },
  {
   "cell_type": "code",
   "execution_count": null,
   "id": "b76ae3de",
   "metadata": {},
   "outputs": [],
   "source": []
  },
  {
   "cell_type": "code",
   "execution_count": null,
   "id": "7b96995f",
   "metadata": {},
   "outputs": [],
   "source": []
  },
  {
   "cell_type": "code",
   "execution_count": null,
   "id": "df132b77",
   "metadata": {},
   "outputs": [],
   "source": []
  },
  {
   "cell_type": "code",
   "execution_count": null,
   "id": "c8b9672a",
   "metadata": {},
   "outputs": [],
   "source": []
  }
 ],
 "metadata": {
  "kernelspec": {
   "display_name": "Python 3 (ipykernel)",
   "language": "python",
   "name": "python3"
  },
  "language_info": {
   "codemirror_mode": {
    "name": "ipython",
    "version": 3
   },
   "file_extension": ".py",
   "mimetype": "text/x-python",
   "name": "python",
   "nbconvert_exporter": "python",
   "pygments_lexer": "ipython3",
   "version": "3.9.12"
  }
 },
 "nbformat": 4,
 "nbformat_minor": 5
}
